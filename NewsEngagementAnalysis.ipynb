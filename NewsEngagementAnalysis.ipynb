{
 "cells": [
  {
   "cell_type": "code",
   "execution_count": 2,
   "metadata": {
    "pycharm": {
     "is_executing": true
    }
   },
   "outputs": [
    {
     "ename": "ModuleNotFoundError",
     "evalue": "No module named 'plotly'",
     "output_type": "error",
     "traceback": [
      "\u001B[1;31m---------------------------------------------------------------------------\u001B[0m",
      "\u001B[1;31mModuleNotFoundError\u001B[0m                       Traceback (most recent call last)",
      "\u001B[1;32m<ipython-input-2-e58dfd212e5d>\u001B[0m in \u001B[0;36m<module>\u001B[1;34m\u001B[0m\n\u001B[0;32m      1\u001B[0m \u001B[1;32mimport\u001B[0m \u001B[0mpandas\u001B[0m \u001B[1;32mas\u001B[0m \u001B[0mpd\u001B[0m\u001B[1;33m\u001B[0m\u001B[1;33m\u001B[0m\u001B[0m\n\u001B[1;32m----> 2\u001B[1;33m \u001B[1;32mimport\u001B[0m \u001B[0mplotly\u001B[0m\u001B[1;33m\u001B[0m\u001B[1;33m\u001B[0m\u001B[0m\n\u001B[0m\u001B[0;32m      3\u001B[0m \u001B[1;32mimport\u001B[0m \u001B[0mplotly\u001B[0m\u001B[1;33m.\u001B[0m\u001B[0mgraph_objects\u001B[0m \u001B[1;32mas\u001B[0m \u001B[0mgo\u001B[0m\u001B[1;33m\u001B[0m\u001B[1;33m\u001B[0m\u001B[0m\n",
      "\u001B[1;31mModuleNotFoundError\u001B[0m: No module named 'plotly'"
     ]
    }
   ],
   "source": [
    "import pandas as pd\n",
    "import plotly\n",
    "import plotly.graph_objects as go"
   ]
  },
  {
   "cell_type": "code",
   "execution_count": 1,
   "metadata": {},
   "outputs": [
    {
     "ename": "NameError",
     "evalue": "name 'pd' is not defined",
     "output_type": "error",
     "traceback": [
      "\u001B[1;31m---------------------------------------------------------------------------\u001B[0m",
      "\u001B[1;31mNameError\u001B[0m                                 Traceback (most recent call last)",
      "\u001B[1;32m<ipython-input-1-2477327ecb31>\u001B[0m in \u001B[0;36m<module>\u001B[1;34m\u001B[0m\n\u001B[1;32m----> 1\u001B[1;33m \u001B[0mpd\u001B[0m\u001B[1;33m.\u001B[0m\u001B[0mset_option\u001B[0m\u001B[1;33m(\u001B[0m\u001B[1;34m'display.max_colwidth'\u001B[0m\u001B[1;33m,\u001B[0m \u001B[1;32mNone\u001B[0m\u001B[1;33m)\u001B[0m\u001B[1;33m\u001B[0m\u001B[1;33m\u001B[0m\u001B[0m\n\u001B[0m\u001B[0;32m      2\u001B[0m \u001B[0mpd\u001B[0m\u001B[1;33m.\u001B[0m\u001B[0mset_option\u001B[0m\u001B[1;33m(\u001B[0m\u001B[1;34m'display.max_rows'\u001B[0m\u001B[1;33m,\u001B[0m \u001B[1;36m200\u001B[0m\u001B[1;33m)\u001B[0m\u001B[1;33m\u001B[0m\u001B[1;33m\u001B[0m\u001B[0m\n\u001B[0;32m      3\u001B[0m \u001B[0mpd\u001B[0m\u001B[1;33m.\u001B[0m\u001B[0mset_option\u001B[0m\u001B[1;33m(\u001B[0m\u001B[1;34m'display.max_columns'\u001B[0m\u001B[1;33m,\u001B[0m \u001B[1;32mNone\u001B[0m\u001B[1;33m)\u001B[0m\u001B[1;33m\u001B[0m\u001B[1;33m\u001B[0m\u001B[0m\n",
      "\u001B[1;31mNameError\u001B[0m: name 'pd' is not defined"
     ]
    }
   ],
   "source": [
    "pd.set_option('display.max_colwidth', None)\n",
    "pd.set_option('display.max_rows', 200)\n",
    "pd.set_option('display.max_columns', None)"
   ]
  },
  {
   "cell_type": "code",
   "execution_count": 46,
   "metadata": {},
   "outputs": [],
   "source": [
    "import os\n",
    "\n",
    "if not os.path.exists(\"images\"):\n",
    "    os.mkdir(\"images\")"
   ]
  },
  {
   "cell_type": "code",
   "execution_count": 47,
   "metadata": {},
   "outputs": [],
   "source": [
    "pd.options.plotting.backend = \"plotly\"\n",
    "svg_option = \"svg\""
   ]
  },
  {
   "cell_type": "code",
   "execution_count": 48,
   "metadata": {},
   "outputs": [],
   "source": [
    "## read data from news_ratings_df.csv\n",
    "news_ratings_data = pd.read_csv('news_ratings_df.csv', index_col=None)"
   ]
  },
  {
   "cell_type": "code",
   "execution_count": 49,
   "metadata": {},
   "outputs": [
    {
     "data": {
      "text/html": [
       "<div>\n",
       "<style scoped>\n",
       "    .dataframe tbody tr th:only-of-type {\n",
       "        vertical-align: middle;\n",
       "    }\n",
       "\n",
       "    .dataframe tbody tr th {\n",
       "        vertical-align: top;\n",
       "    }\n",
       "\n",
       "    .dataframe thead th {\n",
       "        text-align: right;\n",
       "    }\n",
       "</style>\n",
       "<table border=\"1\" class=\"dataframe\">\n",
       "  <thead>\n",
       "    <tr style=\"text-align: right;\">\n",
       "      <th></th>\n",
       "      <th>id</th>\n",
       "      <th>date</th>\n",
       "      <th>updated</th>\n",
       "      <th>title</th>\n",
       "      <th>caption</th>\n",
       "      <th>expandedLinks</th>\n",
       "      <th>link</th>\n",
       "      <th>postUrl</th>\n",
       "      <th>subscriberCount</th>\n",
       "      <th>score</th>\n",
       "      <th>account_id</th>\n",
       "      <th>account_name</th>\n",
       "      <th>account_handle</th>\n",
       "      <th>account_subscriberCount</th>\n",
       "      <th>account_url</th>\n",
       "      <th>account_accountType</th>\n",
       "      <th>account_pageAdminTopCountry</th>\n",
       "      <th>account_verified</th>\n",
       "      <th>statistics_likeCount</th>\n",
       "      <th>statistics_shareCount</th>\n",
       "      <th>statistics_commentCount</th>\n",
       "      <th>statistics_loveCount</th>\n",
       "      <th>statistics_wowCount</th>\n",
       "      <th>statistics_hahaCount</th>\n",
       "      <th>statistics_sadCount</th>\n",
       "      <th>statistics_angryCount</th>\n",
       "      <th>statistics_thankfulCount</th>\n",
       "      <th>statistics_careCount</th>\n",
       "      <th>domain</th>\n",
       "      <th>rating</th>\n",
       "      <th>credible</th>\n",
       "    </tr>\n",
       "  </thead>\n",
       "  <tbody>\n",
       "    <tr>\n",
       "      <th>0</th>\n",
       "      <td>111622404459</td>\n",
       "      <td>2020-11-22 23:59:49</td>\n",
       "      <td>2020-11-25 18:13:36</td>\n",
       "      <td>L.A. County suspends outdoor dining at restaurants as coronavirus surges</td>\n",
       "      <td>latimes.com</td>\n",
       "      <td>https://www.latimes.com/california/story/2020-11-22/l-a-county-suspends-outdoor-dining-at-restaurants-as-coronavirus-surges</td>\n",
       "      <td>https://www.latimes.com/california/story/2020-11-22/l-a-county-suspends-outdoor-dining-at-restaurants-as-coronavirus-surges</td>\n",
       "      <td>https://www.facebook.com/edgarreece/posts/3504433216313464</td>\n",
       "      <td>2351</td>\n",
       "      <td>3.739130</td>\n",
       "      <td>4619429</td>\n",
       "      <td>Council Member Ed Reece</td>\n",
       "      <td>edgarreece</td>\n",
       "      <td>2354</td>\n",
       "      <td>https://www.facebook.com/165175133572639</td>\n",
       "      <td>facebook_page</td>\n",
       "      <td>US</td>\n",
       "      <td>True</td>\n",
       "      <td>9</td>\n",
       "      <td>32</td>\n",
       "      <td>23</td>\n",
       "      <td>0</td>\n",
       "      <td>2</td>\n",
       "      <td>1</td>\n",
       "      <td>9</td>\n",
       "      <td>10</td>\n",
       "      <td>0</td>\n",
       "      <td>0</td>\n",
       "      <td>latimes.com</td>\n",
       "      <td>100.0</td>\n",
       "      <td>True</td>\n",
       "    </tr>\n",
       "    <tr>\n",
       "      <th>1</th>\n",
       "      <td>111678477449</td>\n",
       "      <td>2020-11-23 23:59:58</td>\n",
       "      <td>2020-11-25 18:17:53</td>\n",
       "      <td>Trump Administration To Begin Biden Transition Protocols</td>\n",
       "      <td>npr.org</td>\n",
       "      <td>https://www.npr.org/2020/11/23/937956178/trump-administration-to-begin-biden-transition-protocols?utm_source=facebook.com&amp;utm_term=nprnews&amp;utm_campaign=npr&amp;utm_medium=social</td>\n",
       "      <td>https://www.npr.org/2020/11/23/937956178/trump-administration-to-begin-biden-transition-protocols?utm_source=facebook.com&amp;utm_term=nprnews&amp;utm_campaign=npr&amp;utm_medium=social</td>\n",
       "      <td>https://www.facebook.com/OccupySpokane/posts/3477341109030911</td>\n",
       "      <td>21775</td>\n",
       "      <td>2.333333</td>\n",
       "      <td>4619429</td>\n",
       "      <td>Council Member Ed Reece</td>\n",
       "      <td>edgarreece</td>\n",
       "      <td>2354</td>\n",
       "      <td>https://www.facebook.com/165175133572639</td>\n",
       "      <td>facebook_page</td>\n",
       "      <td>US</td>\n",
       "      <td>True</td>\n",
       "      <td>9</td>\n",
       "      <td>32</td>\n",
       "      <td>23</td>\n",
       "      <td>0</td>\n",
       "      <td>2</td>\n",
       "      <td>1</td>\n",
       "      <td>9</td>\n",
       "      <td>10</td>\n",
       "      <td>0</td>\n",
       "      <td>0</td>\n",
       "      <td>npr.org</td>\n",
       "      <td>100.0</td>\n",
       "      <td>True</td>\n",
       "    </tr>\n",
       "    <tr>\n",
       "      <th>2</th>\n",
       "      <td>111737873253</td>\n",
       "      <td>2020-11-24 23:59:23</td>\n",
       "      <td>2020-11-25 16:15:55</td>\n",
       "      <td>Russia, eyeing foreign markets, says Sputnik COVID-19 vaccine to cost under $20</td>\n",
       "      <td>reuters.com</td>\n",
       "      <td>https://reut.rs/39bWCNG</td>\n",
       "      <td>https://reut.rs/39bWCNG</td>\n",
       "      <td>https://www.facebook.com/groups/335017933691230/permalink/962329240960093</td>\n",
       "      <td>18498</td>\n",
       "      <td>-21.000000</td>\n",
       "      <td>4619429</td>\n",
       "      <td>Council Member Ed Reece</td>\n",
       "      <td>edgarreece</td>\n",
       "      <td>2354</td>\n",
       "      <td>https://www.facebook.com/165175133572639</td>\n",
       "      <td>facebook_page</td>\n",
       "      <td>US</td>\n",
       "      <td>True</td>\n",
       "      <td>9</td>\n",
       "      <td>32</td>\n",
       "      <td>23</td>\n",
       "      <td>0</td>\n",
       "      <td>2</td>\n",
       "      <td>1</td>\n",
       "      <td>9</td>\n",
       "      <td>10</td>\n",
       "      <td>0</td>\n",
       "      <td>0</td>\n",
       "      <td>reut.rs</td>\n",
       "      <td>100.0</td>\n",
       "      <td>True</td>\n",
       "    </tr>\n",
       "    <tr>\n",
       "      <th>3</th>\n",
       "      <td>111622415061</td>\n",
       "      <td>2020-11-22 23:59:48</td>\n",
       "      <td>2020-11-25 18:11:01</td>\n",
       "      <td>This is a re-share of a post</td>\n",
       "      <td>NaN</td>\n",
       "      <td>https://m.youtube.com/watch?v=6BsluRkxs78&amp;feature=youtu.be</td>\n",
       "      <td>https://www.facebook.com/100576118560804/posts/100621611889588/</td>\n",
       "      <td>https://www.facebook.com/groups/378361242549568/permalink/1253075498411467</td>\n",
       "      <td>388</td>\n",
       "      <td>-0.750000</td>\n",
       "      <td>12571754</td>\n",
       "      <td>Australia &amp; New Zealand Geoengineering Watch</td>\n",
       "      <td>NaN</td>\n",
       "      <td>388</td>\n",
       "      <td>https://www.facebook.com/groups/378361242549568</td>\n",
       "      <td>facebook_group</td>\n",
       "      <td>NaN</td>\n",
       "      <td>False</td>\n",
       "      <td>103</td>\n",
       "      <td>11</td>\n",
       "      <td>3</td>\n",
       "      <td>15</td>\n",
       "      <td>0</td>\n",
       "      <td>1</td>\n",
       "      <td>0</td>\n",
       "      <td>0</td>\n",
       "      <td>0</td>\n",
       "      <td>0</td>\n",
       "      <td>m.youtube.com</td>\n",
       "      <td>-1.0</td>\n",
       "      <td>False</td>\n",
       "    </tr>\n",
       "    <tr>\n",
       "      <th>4</th>\n",
       "      <td>111622415061</td>\n",
       "      <td>2020-11-22 23:59:48</td>\n",
       "      <td>2020-11-25 18:11:01</td>\n",
       "      <td>This is a re-share of a post</td>\n",
       "      <td>NaN</td>\n",
       "      <td>https://www.facebook.com/6442438662/posts/10157599122463663/?d=n</td>\n",
       "      <td>https://www.facebook.com/100576118560804/posts/100621611889588/</td>\n",
       "      <td>https://www.facebook.com/groups/378361242549568/permalink/1253075498411467</td>\n",
       "      <td>388</td>\n",
       "      <td>-0.750000</td>\n",
       "      <td>12571754</td>\n",
       "      <td>Australia &amp; New Zealand Geoengineering Watch</td>\n",
       "      <td>NaN</td>\n",
       "      <td>388</td>\n",
       "      <td>https://www.facebook.com/groups/378361242549568</td>\n",
       "      <td>facebook_group</td>\n",
       "      <td>NaN</td>\n",
       "      <td>False</td>\n",
       "      <td>103</td>\n",
       "      <td>11</td>\n",
       "      <td>3</td>\n",
       "      <td>15</td>\n",
       "      <td>0</td>\n",
       "      <td>1</td>\n",
       "      <td>0</td>\n",
       "      <td>0</td>\n",
       "      <td>0</td>\n",
       "      <td>0</td>\n",
       "      <td>facebook.com</td>\n",
       "      <td>-1.0</td>\n",
       "      <td>False</td>\n",
       "    </tr>\n",
       "  </tbody>\n",
       "</table>\n",
       "</div>"
      ],
      "text/plain": [
       "             id                 date              updated  \\\n",
       "0  111622404459  2020-11-22 23:59:49  2020-11-25 18:13:36   \n",
       "1  111678477449  2020-11-23 23:59:58  2020-11-25 18:17:53   \n",
       "2  111737873253  2020-11-24 23:59:23  2020-11-25 16:15:55   \n",
       "3  111622415061  2020-11-22 23:59:48  2020-11-25 18:11:01   \n",
       "4  111622415061  2020-11-22 23:59:48  2020-11-25 18:11:01   \n",
       "\n",
       "                                                                             title  \\\n",
       "0         L.A. County suspends outdoor dining at restaurants as coronavirus surges   \n",
       "1                         Trump Administration To Begin Biden Transition Protocols   \n",
       "2  Russia, eyeing foreign markets, says Sputnik COVID-19 vaccine to cost under $20   \n",
       "3                                                     This is a re-share of a post   \n",
       "4                                                     This is a re-share of a post   \n",
       "\n",
       "       caption  \\\n",
       "0  latimes.com   \n",
       "1      npr.org   \n",
       "2  reuters.com   \n",
       "3          NaN   \n",
       "4          NaN   \n",
       "\n",
       "                                                                                                                                                                   expandedLinks  \\\n",
       "0                                                    https://www.latimes.com/california/story/2020-11-22/l-a-county-suspends-outdoor-dining-at-restaurants-as-coronavirus-surges   \n",
       "1  https://www.npr.org/2020/11/23/937956178/trump-administration-to-begin-biden-transition-protocols?utm_source=facebook.com&utm_term=nprnews&utm_campaign=npr&utm_medium=social   \n",
       "2                                                                                                                                                        https://reut.rs/39bWCNG   \n",
       "3                                                                                                                     https://m.youtube.com/watch?v=6BsluRkxs78&feature=youtu.be   \n",
       "4                                                                                                               https://www.facebook.com/6442438662/posts/10157599122463663/?d=n   \n",
       "\n",
       "                                                                                                                                                                            link  \\\n",
       "0                                                    https://www.latimes.com/california/story/2020-11-22/l-a-county-suspends-outdoor-dining-at-restaurants-as-coronavirus-surges   \n",
       "1  https://www.npr.org/2020/11/23/937956178/trump-administration-to-begin-biden-transition-protocols?utm_source=facebook.com&utm_term=nprnews&utm_campaign=npr&utm_medium=social   \n",
       "2                                                                                                                                                        https://reut.rs/39bWCNG   \n",
       "3                                                                                                                https://www.facebook.com/100576118560804/posts/100621611889588/   \n",
       "4                                                                                                                https://www.facebook.com/100576118560804/posts/100621611889588/   \n",
       "\n",
       "                                                                      postUrl  \\\n",
       "0                  https://www.facebook.com/edgarreece/posts/3504433216313464   \n",
       "1               https://www.facebook.com/OccupySpokane/posts/3477341109030911   \n",
       "2   https://www.facebook.com/groups/335017933691230/permalink/962329240960093   \n",
       "3  https://www.facebook.com/groups/378361242549568/permalink/1253075498411467   \n",
       "4  https://www.facebook.com/groups/378361242549568/permalink/1253075498411467   \n",
       "\n",
       "   subscriberCount      score  account_id  \\\n",
       "0             2351   3.739130     4619429   \n",
       "1            21775   2.333333     4619429   \n",
       "2            18498 -21.000000     4619429   \n",
       "3              388  -0.750000    12571754   \n",
       "4              388  -0.750000    12571754   \n",
       "\n",
       "                                   account_name account_handle  \\\n",
       "0                       Council Member Ed Reece     edgarreece   \n",
       "1                       Council Member Ed Reece     edgarreece   \n",
       "2                       Council Member Ed Reece     edgarreece   \n",
       "3  Australia & New Zealand Geoengineering Watch            NaN   \n",
       "4  Australia & New Zealand Geoengineering Watch            NaN   \n",
       "\n",
       "   account_subscriberCount                                      account_url  \\\n",
       "0                     2354         https://www.facebook.com/165175133572639   \n",
       "1                     2354         https://www.facebook.com/165175133572639   \n",
       "2                     2354         https://www.facebook.com/165175133572639   \n",
       "3                      388  https://www.facebook.com/groups/378361242549568   \n",
       "4                      388  https://www.facebook.com/groups/378361242549568   \n",
       "\n",
       "  account_accountType account_pageAdminTopCountry  account_verified  \\\n",
       "0       facebook_page                          US              True   \n",
       "1       facebook_page                          US              True   \n",
       "2       facebook_page                          US              True   \n",
       "3      facebook_group                         NaN             False   \n",
       "4      facebook_group                         NaN             False   \n",
       "\n",
       "   statistics_likeCount  statistics_shareCount  statistics_commentCount  \\\n",
       "0                     9                     32                       23   \n",
       "1                     9                     32                       23   \n",
       "2                     9                     32                       23   \n",
       "3                   103                     11                        3   \n",
       "4                   103                     11                        3   \n",
       "\n",
       "   statistics_loveCount  statistics_wowCount  statistics_hahaCount  \\\n",
       "0                     0                    2                     1   \n",
       "1                     0                    2                     1   \n",
       "2                     0                    2                     1   \n",
       "3                    15                    0                     1   \n",
       "4                    15                    0                     1   \n",
       "\n",
       "   statistics_sadCount  statistics_angryCount  statistics_thankfulCount  \\\n",
       "0                    9                     10                         0   \n",
       "1                    9                     10                         0   \n",
       "2                    9                     10                         0   \n",
       "3                    0                      0                         0   \n",
       "4                    0                      0                         0   \n",
       "\n",
       "   statistics_careCount         domain  rating  credible  \n",
       "0                     0    latimes.com   100.0      True  \n",
       "1                     0        npr.org   100.0      True  \n",
       "2                     0        reut.rs   100.0      True  \n",
       "3                     0  m.youtube.com    -1.0     False  \n",
       "4                     0   facebook.com    -1.0     False  "
      ]
     },
     "execution_count": 49,
     "metadata": {},
     "output_type": "execute_result"
    }
   ],
   "source": [
    "news_ratings_data.head()"
   ]
  },
  {
   "cell_type": "code",
   "execution_count": null,
   "metadata": {},
   "outputs": [],
   "source": []
  },
  {
   "cell_type": "markdown",
   "metadata": {},
   "source": [
    "## General Characterization"
   ]
  },
  {
   "cell_type": "code",
   "execution_count": 50,
   "metadata": {},
   "outputs": [
    {
     "data": {
      "text/plain": [
       "Index(['id', 'date', 'updated', 'title', 'caption', 'expandedLinks', 'link',\n",
       "       'postUrl', 'subscriberCount', 'score', 'account_id', 'account_name',\n",
       "       'account_handle', 'account_subscriberCount', 'account_url',\n",
       "       'account_accountType', 'account_pageAdminTopCountry',\n",
       "       'account_verified', 'statistics_likeCount', 'statistics_shareCount',\n",
       "       'statistics_commentCount', 'statistics_loveCount',\n",
       "       'statistics_wowCount', 'statistics_hahaCount', 'statistics_sadCount',\n",
       "       'statistics_angryCount', 'statistics_thankfulCount',\n",
       "       'statistics_careCount', 'domain', 'rating', 'credible'],\n",
       "      dtype='object')"
      ]
     },
     "execution_count": 50,
     "metadata": {},
     "output_type": "execute_result"
    }
   ],
   "source": [
    "news_ratings_data.columns"
   ]
  },
  {
   "cell_type": "code",
   "execution_count": 51,
   "metadata": {
    "scrolled": true
   },
   "outputs": [
    {
     "data": {
      "text/plain": [
       "True"
      ]
     },
     "execution_count": 51,
     "metadata": {},
     "output_type": "execute_result"
    }
   ],
   "source": [
    "'en.wikipedia.org' in news_ratings_data.domain.unique()"
   ]
  },
  {
   "cell_type": "code",
   "execution_count": 52,
   "metadata": {},
   "outputs": [
    {
     "data": {
      "text/plain": [
       "440477"
      ]
     },
     "execution_count": 52,
     "metadata": {},
     "output_type": "execute_result"
    }
   ],
   "source": [
    "len(news_ratings_data)"
   ]
  },
  {
   "cell_type": "code",
   "execution_count": 53,
   "metadata": {},
   "outputs": [
    {
     "name": "stdout",
     "output_type": "stream",
     "text": [
      "#Unique Posts:  376201\n"
     ]
    }
   ],
   "source": [
    "### number of posts\n",
    "posts = news_ratings_data['id']\n",
    "print('#Unique Posts: ', len(posts.unique()))"
   ]
  },
  {
   "cell_type": "code",
   "execution_count": 54,
   "metadata": {},
   "outputs": [
    {
     "name": "stdout",
     "output_type": "stream",
     "text": [
      "#Total URLs:  440477\n",
      "#Unique URLs:  238445\n"
     ]
    }
   ],
   "source": [
    "### number of unique URLs\n",
    "urls = news_ratings_data['expandedLinks']\n",
    "print('#Total URLs: ', len(urls))\n",
    "print('#Unique URLs: ', len(urls.unique()))"
   ]
  },
  {
   "cell_type": "code",
   "execution_count": 55,
   "metadata": {},
   "outputs": [
    {
     "name": "stdout",
     "output_type": "stream",
     "text": [
      "#Users:  40228\n"
     ]
    }
   ],
   "source": [
    "### number of users\n",
    "users = news_ratings_data['account_id']\n",
    "print('#Users: ', len(users.unique()))"
   ]
  },
  {
   "cell_type": "code",
   "execution_count": 56,
   "metadata": {},
   "outputs": [],
   "source": [
    "### number of credible and non-credible articles\n",
    "credibility_summary = news_ratings_data[['id', 'credible']].groupby('credible').count().sort_values('id', ascending=False).reset_index()"
   ]
  },
  {
   "cell_type": "code",
   "execution_count": 57,
   "metadata": {},
   "outputs": [
    {
     "data": {
      "text/html": [
       "<div>\n",
       "<style scoped>\n",
       "    .dataframe tbody tr th:only-of-type {\n",
       "        vertical-align: middle;\n",
       "    }\n",
       "\n",
       "    .dataframe tbody tr th {\n",
       "        vertical-align: top;\n",
       "    }\n",
       "\n",
       "    .dataframe thead th {\n",
       "        text-align: right;\n",
       "    }\n",
       "</style>\n",
       "<table border=\"1\" class=\"dataframe\">\n",
       "  <thead>\n",
       "    <tr style=\"text-align: right;\">\n",
       "      <th></th>\n",
       "      <th>credible</th>\n",
       "      <th>id</th>\n",
       "    </tr>\n",
       "  </thead>\n",
       "  <tbody>\n",
       "    <tr>\n",
       "      <th>0</th>\n",
       "      <td>True</td>\n",
       "      <td>320763</td>\n",
       "    </tr>\n",
       "    <tr>\n",
       "      <th>1</th>\n",
       "      <td>False</td>\n",
       "      <td>119714</td>\n",
       "    </tr>\n",
       "  </tbody>\n",
       "</table>\n",
       "</div>"
      ],
      "text/plain": [
       "   credible      id\n",
       "0      True  320763\n",
       "1     False  119714"
      ]
     },
     "execution_count": 57,
     "metadata": {},
     "output_type": "execute_result"
    }
   ],
   "source": [
    "credibility_summary"
   ]
  },
  {
   "cell_type": "code",
   "execution_count": 89,
   "metadata": {},
   "outputs": [
    {
     "data": {
      "image/svg+xml": [
       "<svg class=\"main-svg\" xmlns=\"http://www.w3.org/2000/svg\" xmlns:xlink=\"http://www.w3.org/1999/xlink\" width=\"700\" height=\"450\" style=\"\" viewBox=\"0 0 700 450\"><rect x=\"0\" y=\"0\" width=\"700\" height=\"450\" style=\"fill: rgb(255, 255, 255); fill-opacity: 1;\"/><defs id=\"defs-36ac1c\"><g class=\"clips\"><clipPath id=\"clip36ac1cxyplot\" class=\"plotclip\"><rect width=\"540\" height=\"270\"/></clipPath><clipPath class=\"axesclip\" id=\"clip36ac1cx\"><rect x=\"80\" y=\"0\" width=\"540\" height=\"450\"/></clipPath><clipPath class=\"axesclip\" id=\"clip36ac1cy\"><rect x=\"0\" y=\"100\" width=\"700\" height=\"270\"/></clipPath><clipPath class=\"axesclip\" id=\"clip36ac1cxy\"><rect x=\"80\" y=\"100\" width=\"540\" height=\"270\"/></clipPath></g><g class=\"gradients\"/></defs><g class=\"bglayer\"><rect class=\"bg\" x=\"80\" y=\"100\" width=\"540\" height=\"270\" style=\"fill: rgb(229, 236, 246); fill-opacity: 1; stroke-width: 0;\"/></g><g class=\"layer-below\"><g class=\"imagelayer\"/><g class=\"shapelayer\"/></g><g class=\"cartesianlayer\"><g class=\"subplot xy\"><g class=\"layer-subplot\"><g class=\"shapelayer\"/><g class=\"imagelayer\"/></g><g class=\"gridlayer\"><g class=\"x\"><path class=\"xgrid crisp\" transform=\"translate(159.97,0)\" d=\"M0,100v270\" style=\"stroke: rgb(255, 255, 255); stroke-opacity: 1; stroke-width: 1px;\"/><path class=\"xgrid crisp\" transform=\"translate(239.93,0)\" d=\"M0,100v270\" style=\"stroke: rgb(255, 255, 255); stroke-opacity: 1; stroke-width: 1px;\"/><path class=\"xgrid crisp\" transform=\"translate(319.9,0)\" d=\"M0,100v270\" style=\"stroke: rgb(255, 255, 255); stroke-opacity: 1; stroke-width: 1px;\"/><path class=\"xgrid crisp\" transform=\"translate(399.86,0)\" d=\"M0,100v270\" style=\"stroke: rgb(255, 255, 255); stroke-opacity: 1; stroke-width: 1px;\"/><path class=\"xgrid crisp\" transform=\"translate(479.83,0)\" d=\"M0,100v270\" style=\"stroke: rgb(255, 255, 255); stroke-opacity: 1; stroke-width: 1px;\"/><path class=\"xgrid crisp\" transform=\"translate(559.79,0)\" d=\"M0,100v270\" style=\"stroke: rgb(255, 255, 255); stroke-opacity: 1; stroke-width: 1px;\"/></g><g class=\"y\"/></g><g class=\"zerolinelayer\"><path class=\"xzl zl crisp\" transform=\"translate(80,0)\" d=\"M0,100v270\" style=\"stroke: rgb(255, 255, 255); stroke-opacity: 1; stroke-width: 2px;\"/></g><path class=\"xlines-below\"/><path class=\"ylines-below\"/><g class=\"overlines-below\"/><g class=\"xaxislayer-below\"/><g class=\"yaxislayer-below\"/><g class=\"overaxes-below\"/><g class=\"plot\" transform=\"translate(80,100)\" clip-path=\"url('#clip36ac1cxyplot')\"><g class=\"barlayer mlayer\"><g class=\"trace bars\" style=\"opacity: 1;\"><g class=\"points\"><g class=\"point\"><path d=\"M0,256.5V148.5H513V256.5Z\" style=\"vector-effect: non-scaling-stroke; opacity: 1; stroke-width: 0.5px; fill: rgb(3, 152, 252); fill-opacity: 1; stroke: rgb(229, 236, 246); stroke-opacity: 1;\"/></g><g class=\"point\"><path d=\"M0,121.5V13.5H191.46V121.5Z\" style=\"vector-effect: non-scaling-stroke; opacity: 1; stroke-width: 0.5px; fill: rgb(3, 152, 252); fill-opacity: 1; stroke: rgb(229, 236, 246); stroke-opacity: 1;\"/></g></g></g></g></g><g class=\"overplot\"/><path class=\"xlines-above crisp\" d=\"M0,0\" style=\"fill: none;\"/><path class=\"ylines-above crisp\" d=\"M0,0\" style=\"fill: none;\"/><g class=\"overlines-above\"/><g class=\"xaxislayer-above\"><g class=\"xtick\"><text text-anchor=\"middle\" x=\"0\" y=\"383\" transform=\"translate(80,0)\" style=\"font-family: 'Open Sans', verdana, arial, sans-serif; font-size: 12px; fill: rgb(42, 63, 95); fill-opacity: 1; white-space: pre;\">0</text></g><g class=\"xtick\"><text text-anchor=\"middle\" x=\"0\" y=\"383\" transform=\"translate(159.97,0)\" style=\"font-family: 'Open Sans', verdana, arial, sans-serif; font-size: 12px; fill: rgb(42, 63, 95); fill-opacity: 1; white-space: pre;\">50k</text></g><g class=\"xtick\"><text text-anchor=\"middle\" x=\"0\" y=\"383\" transform=\"translate(239.93,0)\" style=\"font-family: 'Open Sans', verdana, arial, sans-serif; font-size: 12px; fill: rgb(42, 63, 95); fill-opacity: 1; white-space: pre;\">100k</text></g><g class=\"xtick\"><text text-anchor=\"middle\" x=\"0\" y=\"383\" transform=\"translate(319.9,0)\" style=\"font-family: 'Open Sans', verdana, arial, sans-serif; font-size: 12px; fill: rgb(42, 63, 95); fill-opacity: 1; white-space: pre;\">150k</text></g><g class=\"xtick\"><text text-anchor=\"middle\" x=\"0\" y=\"383\" transform=\"translate(399.86,0)\" style=\"font-family: 'Open Sans', verdana, arial, sans-serif; font-size: 12px; fill: rgb(42, 63, 95); fill-opacity: 1; white-space: pre;\">200k</text></g><g class=\"xtick\"><text text-anchor=\"middle\" x=\"0\" y=\"383\" transform=\"translate(479.83,0)\" style=\"font-family: 'Open Sans', verdana, arial, sans-serif; font-size: 12px; fill: rgb(42, 63, 95); fill-opacity: 1; white-space: pre;\">250k</text></g><g class=\"xtick\"><text text-anchor=\"middle\" x=\"0\" y=\"383\" transform=\"translate(559.79,0)\" style=\"font-family: 'Open Sans', verdana, arial, sans-serif; font-size: 12px; fill: rgb(42, 63, 95); fill-opacity: 1; white-space: pre;\">300k</text></g></g><g class=\"yaxislayer-above\"><g class=\"ytick\"><text text-anchor=\"end\" x=\"79\" y=\"4.199999999999999\" transform=\"translate(0,302.5)\" style=\"font-family: 'Open Sans', verdana, arial, sans-serif; font-size: 12px; fill: rgb(42, 63, 95); fill-opacity: 1; white-space: pre;\">true</text></g><g class=\"ytick\"><text text-anchor=\"end\" x=\"79\" y=\"4.199999999999999\" transform=\"translate(0,167.5)\" style=\"font-family: 'Open Sans', verdana, arial, sans-serif; font-size: 12px; fill: rgb(42, 63, 95); fill-opacity: 1; white-space: pre;\">false</text></g></g><g class=\"overaxes-above\"/></g></g><g class=\"polarlayer\"/><g class=\"ternarylayer\"/><g class=\"geolayer\"/><g class=\"funnelarealayer\"/><g class=\"pielayer\"/><g class=\"treemaplayer\"/><g class=\"sunburstlayer\"/><g class=\"glimages\"/><defs id=\"topdefs-36ac1c\"><g class=\"clips\"/></defs><g class=\"layer-above\"><g class=\"imagelayer\"/><g class=\"shapelayer\"/></g><g class=\"infolayer\"><g class=\"g-gtitle\"><text class=\"gtitle\" x=\"35\" y=\"50\" text-anchor=\"start\" dy=\"0em\" style=\"font-family: 'Open Sans', verdana, arial, sans-serif; font-size: 17px; fill: rgb(42, 63, 95); opacity: 1; font-weight: normal; white-space: pre;\">Number of Credible and Non-Credible Posts</text></g><g class=\"g-xtitle\"><text class=\"xtitle\" x=\"350\" y=\"410.471875\" text-anchor=\"middle\" style=\"font-family: 'Open Sans', verdana, arial, sans-serif; font-size: 14px; fill: rgb(42, 63, 95); opacity: 1; font-weight: normal; white-space: pre;\">Number of Posts</text></g><g class=\"g-ytitle\"><text class=\"ytitle\" transform=\"rotate(-90,26.075000000000003,235)\" x=\"26.075000000000003\" y=\"235\" text-anchor=\"middle\" style=\"font-family: 'Open Sans', verdana, arial, sans-serif; font-size: 14px; fill: rgb(42, 63, 95); opacity: 1; font-weight: normal; white-space: pre;\">Credible</text></g></g></svg>"
      ]
     },
     "metadata": {},
     "output_type": "display_data"
    }
   ],
   "source": [
    "fig = go.Figure(data=go.Bar(x=credibility_summary.id, y=credibility_summary.credible, orientation='h', marker={'color':'#0398fc'}))\n",
    "fig.update_layout(\n",
    "    title=\"Number of Credible and Non-Credible Posts\",\n",
    "    yaxis_title=\"Credible\",\n",
    "    xaxis_title=\"Number of Posts\")\n",
    "fig.show(svg_option)"
   ]
  },
  {
   "cell_type": "code",
   "execution_count": 91,
   "metadata": {},
   "outputs": [],
   "source": [
    "fig.write_image(\"images/credible_noncredible_count.png\")"
   ]
  },
  {
   "cell_type": "code",
   "execution_count": 59,
   "metadata": {},
   "outputs": [],
   "source": [
    "news_ratings_data['date'] = pd.to_datetime(news_ratings_data.date)"
   ]
  },
  {
   "cell_type": "code",
   "execution_count": 60,
   "metadata": {},
   "outputs": [],
   "source": [
    "news_ratings_data['hour'] = news_ratings_data.date.dt.floor('h')"
   ]
  },
  {
   "cell_type": "code",
   "execution_count": 61,
   "metadata": {},
   "outputs": [],
   "source": [
    "cred_df = pd.pivot_table(news_ratings_data, values = 'id', index = 'hour',\n",
    "               columns = 'credible',aggfunc ='count').reset_index()"
   ]
  },
  {
   "cell_type": "code",
   "execution_count": 62,
   "metadata": {},
   "outputs": [
    {
     "data": {
      "text/html": [
       "<div>\n",
       "<style scoped>\n",
       "    .dataframe tbody tr th:only-of-type {\n",
       "        vertical-align: middle;\n",
       "    }\n",
       "\n",
       "    .dataframe tbody tr th {\n",
       "        vertical-align: top;\n",
       "    }\n",
       "\n",
       "    .dataframe thead th {\n",
       "        text-align: right;\n",
       "    }\n",
       "</style>\n",
       "<table border=\"1\" class=\"dataframe\">\n",
       "  <thead>\n",
       "    <tr style=\"text-align: right;\">\n",
       "      <th>credible</th>\n",
       "      <th>hour</th>\n",
       "      <th>False</th>\n",
       "      <th>True</th>\n",
       "    </tr>\n",
       "  </thead>\n",
       "  <tbody>\n",
       "    <tr>\n",
       "      <th>0</th>\n",
       "      <td>2020-11-22 00:00:00</td>\n",
       "      <td>1591</td>\n",
       "      <td>4372</td>\n",
       "    </tr>\n",
       "    <tr>\n",
       "      <th>1</th>\n",
       "      <td>2020-11-22 01:00:00</td>\n",
       "      <td>1403</td>\n",
       "      <td>4107</td>\n",
       "    </tr>\n",
       "    <tr>\n",
       "      <th>2</th>\n",
       "      <td>2020-11-22 02:00:00</td>\n",
       "      <td>1171</td>\n",
       "      <td>3770</td>\n",
       "    </tr>\n",
       "    <tr>\n",
       "      <th>3</th>\n",
       "      <td>2020-11-22 03:00:00</td>\n",
       "      <td>1047</td>\n",
       "      <td>3279</td>\n",
       "    </tr>\n",
       "    <tr>\n",
       "      <th>4</th>\n",
       "      <td>2020-11-22 04:00:00</td>\n",
       "      <td>1156</td>\n",
       "      <td>2741</td>\n",
       "    </tr>\n",
       "  </tbody>\n",
       "</table>\n",
       "</div>"
      ],
      "text/plain": [
       "credible                hour  False  True\n",
       "0        2020-11-22 00:00:00   1591  4372\n",
       "1        2020-11-22 01:00:00   1403  4107\n",
       "2        2020-11-22 02:00:00   1171  3770\n",
       "3        2020-11-22 03:00:00   1047  3279\n",
       "4        2020-11-22 04:00:00   1156  2741"
      ]
     },
     "execution_count": 62,
     "metadata": {},
     "output_type": "execute_result"
    }
   ],
   "source": [
    "cred_df.head()"
   ]
  },
  {
   "cell_type": "code",
   "execution_count": 92,
   "metadata": {},
   "outputs": [
    {
     "data": {
      "image/svg+xml": [
       "<svg class=\"main-svg\" xmlns=\"http://www.w3.org/2000/svg\" xmlns:xlink=\"http://www.w3.org/1999/xlink\" width=\"700\" height=\"450\" style=\"\" viewBox=\"0 0 700 450\"><rect x=\"0\" y=\"0\" width=\"700\" height=\"450\" style=\"fill: rgb(255, 255, 255); fill-opacity: 1;\"/><defs id=\"defs-37c08a\"><g class=\"clips\"><clipPath id=\"clip37c08axyplot\" class=\"plotclip\"><rect width=\"476\" height=\"244\"/></clipPath><clipPath class=\"axesclip\" id=\"clip37c08ax\"><rect x=\"80\" y=\"0\" width=\"476\" height=\"450\"/></clipPath><clipPath class=\"axesclip\" id=\"clip37c08ay\"><rect x=\"0\" y=\"100\" width=\"700\" height=\"244\"/></clipPath><clipPath class=\"axesclip\" id=\"clip37c08axy\"><rect x=\"80\" y=\"100\" width=\"476\" height=\"244\"/></clipPath></g><g class=\"gradients\"/></defs><g class=\"bglayer\"><rect class=\"bg\" x=\"80\" y=\"100\" width=\"476\" height=\"244\" style=\"fill: rgb(229, 236, 246); fill-opacity: 1; stroke-width: 0;\"/></g><g class=\"layer-below\"><g class=\"imagelayer\"/><g class=\"shapelayer\"/></g><g class=\"cartesianlayer\"><g class=\"subplot xy\"><g class=\"layer-subplot\"><g class=\"shapelayer\"/><g class=\"imagelayer\"/></g><g class=\"gridlayer\"><g class=\"x\"><path class=\"xgrid crisp\" transform=\"translate(120.22999999999999,0)\" d=\"M0,100v244\" style=\"stroke: rgb(255, 255, 255); stroke-opacity: 1; stroke-width: 1px;\"/><path class=\"xgrid crisp\" transform=\"translate(160.45,0)\" d=\"M0,100v244\" style=\"stroke: rgb(255, 255, 255); stroke-opacity: 1; stroke-width: 1px;\"/><path class=\"xgrid crisp\" transform=\"translate(200.68,0)\" d=\"M0,100v244\" style=\"stroke: rgb(255, 255, 255); stroke-opacity: 1; stroke-width: 1px;\"/><path class=\"xgrid crisp\" transform=\"translate(240.9,0)\" d=\"M0,100v244\" style=\"stroke: rgb(255, 255, 255); stroke-opacity: 1; stroke-width: 1px;\"/><path class=\"xgrid crisp\" transform=\"translate(281.13,0)\" d=\"M0,100v244\" style=\"stroke: rgb(255, 255, 255); stroke-opacity: 1; stroke-width: 1px;\"/><path class=\"xgrid crisp\" transform=\"translate(321.35,0)\" d=\"M0,100v244\" style=\"stroke: rgb(255, 255, 255); stroke-opacity: 1; stroke-width: 1px;\"/><path class=\"xgrid crisp\" transform=\"translate(361.58,0)\" d=\"M0,100v244\" style=\"stroke: rgb(255, 255, 255); stroke-opacity: 1; stroke-width: 1px;\"/><path class=\"xgrid crisp\" transform=\"translate(401.8,0)\" d=\"M0,100v244\" style=\"stroke: rgb(255, 255, 255); stroke-opacity: 1; stroke-width: 1px;\"/><path class=\"xgrid crisp\" transform=\"translate(442.03,0)\" d=\"M0,100v244\" style=\"stroke: rgb(255, 255, 255); stroke-opacity: 1; stroke-width: 1px;\"/><path class=\"xgrid crisp\" transform=\"translate(482.25,0)\" d=\"M0,100v244\" style=\"stroke: rgb(255, 255, 255); stroke-opacity: 1; stroke-width: 1px;\"/><path class=\"xgrid crisp\" transform=\"translate(522.48,0)\" d=\"M0,100v244\" style=\"stroke: rgb(255, 255, 255); stroke-opacity: 1; stroke-width: 1px;\"/></g><g class=\"y\"><path class=\"ygrid crisp\" transform=\"translate(0,298.08000000000004)\" d=\"M80,0h476\" style=\"stroke: rgb(255, 255, 255); stroke-opacity: 1; stroke-width: 1px;\"/><path class=\"ygrid crisp\" transform=\"translate(0,241.07)\" d=\"M80,0h476\" style=\"stroke: rgb(255, 255, 255); stroke-opacity: 1; stroke-width: 1px;\"/><path class=\"ygrid crisp\" transform=\"translate(0,184.06)\" d=\"M80,0h476\" style=\"stroke: rgb(255, 255, 255); stroke-opacity: 1; stroke-width: 1px;\"/><path class=\"ygrid crisp\" transform=\"translate(0,127.05)\" d=\"M80,0h476\" style=\"stroke: rgb(255, 255, 255); stroke-opacity: 1; stroke-width: 1px;\"/></g></g><g class=\"zerolinelayer\"/><path class=\"xlines-below\"/><path class=\"ylines-below\"/><g class=\"overlines-below\"/><g class=\"xaxislayer-below\"/><g class=\"yaxislayer-below\"/><g class=\"overaxes-below\"/><g class=\"plot\" transform=\"translate(80,100)\" clip-path=\"url('#clip37c08axyplot')\"><g class=\"scatterlayer mlayer\"><g class=\"trace scatter tracef623f8\" style=\"stroke-miterlimit: 2; opacity: 1;\"><g class=\"fills\"/><g class=\"errorbars\"/><g class=\"lines\"><path class=\"js-line\" d=\"M0,130.47L6.7,138.02L13.41,147.63L26.82,176.96L33.52,193.29L40.23,198.22L46.93,211.19L53.63,216.81L60.34,217.06L67.04,214.84L73.75,198.31L80.45,169.89L87.15,149.82L93.86,135L100.56,123.54L107.27,107.72L113.97,100.76L120.68,100.45L127.38,115.84L134.08,117.7L140.79,132.95L147.49,118.81L154.2,114.96L160.9,119.78L167.61,139.84L174.31,145.52L181.01,168.86L187.72,184.91L194.42,194.52L201.13,195.91L207.83,211.16L214.54,210.76L221.24,211.25L227.94,198.76L234.65,175.87L241.35,137.05L248.06,109.17L254.76,68.87L261.46,12.2L268.17,49.94L274.87,49.28L281.58,50.71L288.28,64.19L294.99,62.94L301.69,39.94L308.39,57.29L315.1,38.45L321.8,58.63L328.51,85.91L335.21,104.38L341.92,137.56L348.62,151.87L355.32,173.99L362.03,194.4L368.73,203.3L375.44,208.03L382.14,200.9L388.85,189.07L395.55,163.73L408.96,94.44L415.66,64.08L422.37,40.9L429.07,30.33L435.77,32.75L442.48,37.31L449.18,53.85L455.89,53.79L462.59,71.32L469.3,66.27L476,89.62\" style=\"vector-effect: non-scaling-stroke; fill: none; stroke: rgb(109, 184, 77); stroke-opacity: 1; stroke-width: 2px; opacity: 1;\"/></g><g class=\"points\"/><g class=\"text\"/></g><g class=\"trace scatter tracef89959\" style=\"stroke-miterlimit: 2; opacity: 1;\"><g class=\"fills\"/><g class=\"errorbars\"/><g class=\"lines\"><path class=\"js-line\" d=\"M0,209.74L6.7,215.1L13.41,221.71L20.11,225.24L26.82,222.14L33.52,229.29L40.23,231.8L46.93,227.24L53.63,229.15L67.04,226.5L73.75,227.87L87.15,210.79L93.86,203.58L100.56,211.76L107.27,205.8L113.97,203.75L120.68,205.75L127.38,208.74L134.08,213.84L140.79,208.26L147.49,181.26L154.2,210.88L160.9,211.19L174.31,217.43L181.01,223.11L187.72,221.48L194.42,226.01L201.13,222.91L207.83,224.87L214.54,224.67L221.24,222.11L227.94,223.11L234.65,214.01L248.06,201.21L254.76,194.94L261.46,188.64L268.17,185.71L274.87,189.98L281.58,185.71L288.28,192.83L294.99,192.55L301.69,197.37L308.39,198.48L315.1,196.28L321.8,197.59L328.51,202.67L335.21,201.61L341.92,214.13L348.62,216.92L355.32,219.09L362.03,223.7L368.73,224.22L375.44,219.12L382.14,212.39L388.85,220.26L395.55,207.11L402.25,203.98L408.96,195.46L415.66,181.66L429.07,190.41L435.77,152.24L442.48,175.9L449.18,183.2L455.89,188.5L462.59,199.76L469.3,193.97L476,190.04\" style=\"vector-effect: non-scaling-stroke; fill: none; stroke: rgb(151, 156, 149); stroke-opacity: 1; stroke-width: 2px; opacity: 1;\"/></g><g class=\"points\"/><g class=\"text\"/></g></g></g><g class=\"overplot\"/><path class=\"xlines-above crisp\" d=\"M0,0\" style=\"fill: none;\"/><path class=\"ylines-above crisp\" d=\"M0,0\" style=\"fill: none;\"/><g class=\"overlines-above\"/><g class=\"xaxislayer-above\"><g class=\"xtick\"><text text-anchor=\"start\" x=\"0\" y=\"357\" transform=\"translate(80,0) rotate(30,0,351)\" style=\"font-family: 'Open Sans', verdana, arial, sans-serif; font-size: 12px; fill: rgb(42, 63, 95); fill-opacity: 1; white-space: pre;\"><tspan class=\"line\" dy=\"0em\" x=\"0\" y=\"357\">00:00</tspan><tspan class=\"line\" dy=\"1.3em\" x=\"0\" y=\"357\">Nov 22, 2020</tspan></text></g><g class=\"xtick\"><text text-anchor=\"start\" x=\"0\" y=\"357\" transform=\"translate(120.22999999999999,0) rotate(30,0,351)\" style=\"font-family: 'Open Sans', verdana, arial, sans-serif; font-size: 12px; fill: rgb(42, 63, 95); fill-opacity: 1; white-space: pre;\">06:00</text></g><g class=\"xtick\"><text text-anchor=\"start\" x=\"0\" y=\"357\" transform=\"translate(160.45,0) rotate(30,0,351)\" style=\"font-family: 'Open Sans', verdana, arial, sans-serif; font-size: 12px; fill: rgb(42, 63, 95); fill-opacity: 1; white-space: pre;\">12:00</text></g><g class=\"xtick\"><text text-anchor=\"start\" x=\"0\" y=\"357\" transform=\"translate(200.68,0) rotate(30,0,351)\" style=\"font-family: 'Open Sans', verdana, arial, sans-serif; font-size: 12px; fill: rgb(42, 63, 95); fill-opacity: 1; white-space: pre;\">18:00</text></g><g class=\"xtick\"><text text-anchor=\"start\" x=\"0\" y=\"357\" transform=\"translate(240.9,0) rotate(30,0,351)\" style=\"font-family: 'Open Sans', verdana, arial, sans-serif; font-size: 12px; fill: rgb(42, 63, 95); fill-opacity: 1; white-space: pre;\"><tspan class=\"line\" dy=\"0em\" x=\"0\" y=\"357\">00:00</tspan><tspan class=\"line\" dy=\"1.3em\" x=\"0\" y=\"357\">Nov 23, 2020</tspan></text></g><g class=\"xtick\"><text text-anchor=\"start\" x=\"0\" y=\"357\" transform=\"translate(281.13,0) rotate(30,0,351)\" style=\"font-family: 'Open Sans', verdana, arial, sans-serif; font-size: 12px; fill: rgb(42, 63, 95); fill-opacity: 1; white-space: pre;\">06:00</text></g><g class=\"xtick\"><text text-anchor=\"start\" x=\"0\" y=\"357\" transform=\"translate(321.35,0) rotate(30,0,351)\" style=\"font-family: 'Open Sans', verdana, arial, sans-serif; font-size: 12px; fill: rgb(42, 63, 95); fill-opacity: 1; white-space: pre;\">12:00</text></g><g class=\"xtick\"><text text-anchor=\"start\" x=\"0\" y=\"357\" transform=\"translate(361.58,0) rotate(30,0,351)\" style=\"font-family: 'Open Sans', verdana, arial, sans-serif; font-size: 12px; fill: rgb(42, 63, 95); fill-opacity: 1; white-space: pre;\">18:00</text></g><g class=\"xtick\"><text text-anchor=\"start\" x=\"0\" y=\"357\" transform=\"translate(401.8,0) rotate(30,0,351)\" style=\"font-family: 'Open Sans', verdana, arial, sans-serif; font-size: 12px; fill: rgb(42, 63, 95); fill-opacity: 1; white-space: pre;\"><tspan class=\"line\" dy=\"0em\" x=\"0\" y=\"357\">00:00</tspan><tspan class=\"line\" dy=\"1.3em\" x=\"0\" y=\"357\">Nov 24, 2020</tspan></text></g><g class=\"xtick\"><text text-anchor=\"start\" x=\"0\" y=\"357\" transform=\"translate(442.03,0) rotate(30,0,351)\" style=\"font-family: 'Open Sans', verdana, arial, sans-serif; font-size: 12px; fill: rgb(42, 63, 95); fill-opacity: 1; white-space: pre;\">06:00</text></g><g class=\"xtick\"><text text-anchor=\"start\" x=\"0\" y=\"357\" transform=\"translate(482.25,0) rotate(30,0,351)\" style=\"font-family: 'Open Sans', verdana, arial, sans-serif; font-size: 12px; fill: rgb(42, 63, 95); fill-opacity: 1; white-space: pre;\">12:00</text></g><g class=\"xtick\"><text text-anchor=\"start\" x=\"0\" y=\"357\" transform=\"translate(522.48,0) rotate(30,0,351)\" style=\"font-family: 'Open Sans', verdana, arial, sans-serif; font-size: 12px; fill: rgb(42, 63, 95); fill-opacity: 1; white-space: pre;\">18:00</text></g></g><g class=\"yaxislayer-above\"><g class=\"ytick\"><text text-anchor=\"end\" x=\"79\" y=\"4.199999999999999\" transform=\"translate(0,298.08000000000004)\" style=\"font-family: 'Open Sans', verdana, arial, sans-serif; font-size: 12px; fill: rgb(42, 63, 95); fill-opacity: 1; white-space: pre;\">2000</text></g><g class=\"ytick\"><text text-anchor=\"end\" x=\"79\" y=\"4.199999999999999\" transform=\"translate(0,241.07)\" style=\"font-family: 'Open Sans', verdana, arial, sans-serif; font-size: 12px; fill: rgb(42, 63, 95); fill-opacity: 1; white-space: pre;\">4000</text></g><g class=\"ytick\"><text text-anchor=\"end\" x=\"79\" y=\"4.199999999999999\" transform=\"translate(0,184.06)\" style=\"font-family: 'Open Sans', verdana, arial, sans-serif; font-size: 12px; fill: rgb(42, 63, 95); fill-opacity: 1; white-space: pre;\">6000</text></g><g class=\"ytick\"><text text-anchor=\"end\" x=\"79\" y=\"4.199999999999999\" transform=\"translate(0,127.05)\" style=\"font-family: 'Open Sans', verdana, arial, sans-serif; font-size: 12px; fill: rgb(42, 63, 95); fill-opacity: 1; white-space: pre;\">8000</text></g></g><g class=\"overaxes-above\"/></g></g><g class=\"polarlayer\"/><g class=\"ternarylayer\"/><g class=\"geolayer\"/><g class=\"funnelarealayer\"/><g class=\"pielayer\"/><g class=\"treemaplayer\"/><g class=\"sunburstlayer\"/><g class=\"glimages\"/><defs id=\"topdefs-37c08a\"><g class=\"clips\"/><clipPath id=\"legend37c08a\"><rect width=\"122\" height=\"48\" x=\"0\" y=\"0\"/></clipPath></defs><g class=\"layer-above\"><g class=\"imagelayer\"/><g class=\"shapelayer\"/></g><g class=\"infolayer\"><g class=\"legend\" pointer-events=\"all\" transform=\"translate(565.52,100)\"><rect class=\"bg\" shape-rendering=\"crispEdges\" width=\"122\" height=\"48\" x=\"0\" y=\"0\" style=\"stroke: rgb(68, 68, 68); stroke-opacity: 1; fill: rgb(255, 255, 255); fill-opacity: 1; stroke-width: 0px;\"/><g class=\"scrollbox\" transform=\"\" clip-path=\"url('#legend37c08a')\"><g class=\"groups\"><g class=\"traces\" transform=\"translate(0,14.5)\" style=\"opacity: 1;\"><text class=\"legendtext\" text-anchor=\"start\" x=\"40\" y=\"4.680000000000001\" style=\"font-family: 'Open Sans', verdana, arial, sans-serif; font-size: 12px; fill: rgb(42, 63, 95); fill-opacity: 1; white-space: pre;\">Credible</text><g class=\"layers\" style=\"opacity: 1;\"><g class=\"legendfill\"/><g class=\"legendlines\"><path class=\"js-line\" d=\"M5,0h30\" style=\"fill: none; stroke: rgb(109, 184, 77); stroke-opacity: 1; stroke-width: 2px;\"/></g><g class=\"legendsymbols\"><g class=\"legendpoints\"/></g></g><rect class=\"legendtoggle\" x=\"0\" y=\"-9.5\" width=\"116.703125\" height=\"19\" style=\"fill: rgb(0, 0, 0); fill-opacity: 0;\"/></g><g class=\"traces\" transform=\"translate(0,33.5)\" style=\"opacity: 1;\"><text class=\"legendtext\" text-anchor=\"start\" x=\"40\" y=\"4.680000000000001\" style=\"font-family: 'Open Sans', verdana, arial, sans-serif; font-size: 12px; fill: rgb(42, 63, 95); fill-opacity: 1; white-space: pre;\">Non-credible</text><g class=\"layers\" style=\"opacity: 1;\"><g class=\"legendfill\"/><g class=\"legendlines\"><path class=\"js-line\" d=\"M5,0h30\" style=\"fill: none; stroke: rgb(151, 156, 149); stroke-opacity: 1; stroke-width: 2px;\"/></g><g class=\"legendsymbols\"><g class=\"legendpoints\"/></g></g><rect class=\"legendtoggle\" x=\"0\" y=\"-9.5\" width=\"116.703125\" height=\"19\" style=\"fill: rgb(0, 0, 0); fill-opacity: 0;\"/></g></g></g><rect class=\"scrollbar\" rx=\"20\" ry=\"3\" width=\"0\" height=\"0\" x=\"0\" y=\"0\" style=\"fill: rgb(128, 139, 164); fill-opacity: 1;\"/></g><g class=\"g-gtitle\"><text class=\"gtitle\" x=\"35\" y=\"50\" text-anchor=\"start\" dy=\"0em\" style=\"font-family: 'Open Sans', verdana, arial, sans-serif; font-size: 17px; fill: rgb(42, 63, 95); opacity: 1; font-weight: normal; white-space: pre;\">Credible vs Non-Credible Posts vs. Time</text></g><g class=\"g-xtitle\"><text class=\"xtitle\" x=\"318\" y=\"437.75735931396486\" text-anchor=\"middle\" style=\"font-family: 'Open Sans', verdana, arial, sans-serif; font-size: 14px; fill: rgb(42, 63, 95); opacity: 1; font-weight: normal; white-space: pre;\">Time(h)</text></g><g class=\"g-ytitle\"><text class=\"ytitle\" transform=\"rotate(-90,23.684375000000003,222)\" x=\"23.684375000000003\" y=\"222\" text-anchor=\"middle\" style=\"font-family: 'Open Sans', verdana, arial, sans-serif; font-size: 14px; fill: rgb(42, 63, 95); opacity: 1; font-weight: normal; white-space: pre;\">Number of Posts</text></g></g></svg>"
      ]
     },
     "metadata": {},
     "output_type": "display_data"
    }
   ],
   "source": [
    "fig = go.Figure(data=go.Scatter(x=cred_df.hour, y=cred_df[True],mode='lines', line_color='#6db84d', name='Credible'))\n",
    "fig.add_trace(go.Scatter(x=cred_df.hour, y=cred_df[False],mode='lines', line=dict(color=\"#979c95\"), name='Non-credible'))\n",
    "fig.update_xaxes(nticks=12)\n",
    "fig.update_layout(\n",
    "    title=\"Credible vs Non-Credible Posts vs. Time\",\n",
    "    xaxis_title=\"Time(h)\",\n",
    "    yaxis_title=\"Number of Posts\")\n",
    "\n",
    "fig.show(svg_option)"
   ]
  },
  {
   "cell_type": "code",
   "execution_count": 93,
   "metadata": {},
   "outputs": [],
   "source": [
    "fig.write_image(\"images/credible_noncredible_over_time.png\")"
   ]
  },
  {
   "cell_type": "markdown",
   "metadata": {},
   "source": [
    "## Popularity Analysis"
   ]
  },
  {
   "cell_type": "code",
   "execution_count": 64,
   "metadata": {},
   "outputs": [],
   "source": [
    "domains = pd.pivot_table(news_ratings_data, values = 'id',index = ['domain', 'rating', 'credible'], aggfunc ='count').sort_values(['rating', 'id'], ascending=False).reset_index()"
   ]
  },
  {
   "cell_type": "code",
   "execution_count": 65,
   "metadata": {},
   "outputs": [
    {
     "data": {
      "text/plain": [
       "True"
      ]
     },
     "execution_count": 65,
     "metadata": {},
     "output_type": "execute_result"
    }
   ],
   "source": [
    "'en.wikipedia.org' in news_ratings_data.domain.unique()"
   ]
  },
  {
   "cell_type": "code",
   "execution_count": 66,
   "metadata": {},
   "outputs": [
    {
     "data": {
      "text/plain": [
       "7038"
      ]
     },
     "execution_count": 66,
     "metadata": {},
     "output_type": "execute_result"
    }
   ],
   "source": [
    "len(news_ratings_data.domain.unique())"
   ]
  },
  {
   "cell_type": "code",
   "execution_count": 67,
   "metadata": {},
   "outputs": [
    {
     "data": {
      "text/plain": [
       "True"
      ]
     },
     "execution_count": 67,
     "metadata": {},
     "output_type": "execute_result"
    }
   ],
   "source": [
    "'en.wikipedia.org' in domains.domain.unique()"
   ]
  },
  {
   "cell_type": "code",
   "execution_count": 68,
   "metadata": {},
   "outputs": [
    {
     "data": {
      "text/plain": [
       "7037"
      ]
     },
     "execution_count": 68,
     "metadata": {},
     "output_type": "execute_result"
    }
   ],
   "source": [
    "len(domains.domain.unique())"
   ]
  },
  {
   "cell_type": "code",
   "execution_count": 69,
   "metadata": {},
   "outputs": [
    {
     "data": {
      "text/plain": [
       "{nan}"
      ]
     },
     "execution_count": 69,
     "metadata": {},
     "output_type": "execute_result"
    }
   ],
   "source": [
    "set(news_ratings_data.domain.unique()).difference(set(domains.domain.unique()))"
   ]
  },
  {
   "cell_type": "code",
   "execution_count": 70,
   "metadata": {},
   "outputs": [
    {
     "data": {
      "text/html": [
       "<div>\n",
       "<style scoped>\n",
       "    .dataframe tbody tr th:only-of-type {\n",
       "        vertical-align: middle;\n",
       "    }\n",
       "\n",
       "    .dataframe tbody tr th {\n",
       "        vertical-align: top;\n",
       "    }\n",
       "\n",
       "    .dataframe thead th {\n",
       "        text-align: right;\n",
       "    }\n",
       "</style>\n",
       "<table border=\"1\" class=\"dataframe\">\n",
       "  <thead>\n",
       "    <tr style=\"text-align: right;\">\n",
       "      <th></th>\n",
       "      <th>id</th>\n",
       "      <th>date</th>\n",
       "      <th>updated</th>\n",
       "      <th>title</th>\n",
       "      <th>caption</th>\n",
       "      <th>expandedLinks</th>\n",
       "      <th>link</th>\n",
       "      <th>postUrl</th>\n",
       "      <th>subscriberCount</th>\n",
       "      <th>score</th>\n",
       "      <th>account_id</th>\n",
       "      <th>account_name</th>\n",
       "      <th>account_handle</th>\n",
       "      <th>account_subscriberCount</th>\n",
       "      <th>account_url</th>\n",
       "      <th>account_accountType</th>\n",
       "      <th>account_pageAdminTopCountry</th>\n",
       "      <th>account_verified</th>\n",
       "      <th>statistics_likeCount</th>\n",
       "      <th>statistics_shareCount</th>\n",
       "      <th>statistics_commentCount</th>\n",
       "      <th>statistics_loveCount</th>\n",
       "      <th>statistics_wowCount</th>\n",
       "      <th>statistics_hahaCount</th>\n",
       "      <th>statistics_sadCount</th>\n",
       "      <th>statistics_angryCount</th>\n",
       "      <th>statistics_thankfulCount</th>\n",
       "      <th>statistics_careCount</th>\n",
       "      <th>domain</th>\n",
       "      <th>rating</th>\n",
       "      <th>credible</th>\n",
       "      <th>hour</th>\n",
       "    </tr>\n",
       "  </thead>\n",
       "  <tbody>\n",
       "    <tr>\n",
       "      <th>117564</th>\n",
       "      <td>111703702337</td>\n",
       "      <td>2020-11-24 12:46:03</td>\n",
       "      <td>2020-11-25 19:16:20</td>\n",
       "      <td>NaN</td>\n",
       "      <td>NaN</td>\n",
       "      <td>www..</td>\n",
       "      <td>https://www.facebook.com/goodbusinessph/photos/a.122474952626649/225081182366025/?type=3</td>\n",
       "      <td>https://www.facebook.com/groups/1613550218909369/permalink/2639058889691825</td>\n",
       "      <td>3502</td>\n",
       "      <td>-24.0</td>\n",
       "      <td>37756</td>\n",
       "      <td>Scotts Valley Patch</td>\n",
       "      <td>scottsvalleypatch</td>\n",
       "      <td>629</td>\n",
       "      <td>https://www.facebook.com/168810009796475</td>\n",
       "      <td>facebook_page</td>\n",
       "      <td>NaN</td>\n",
       "      <td>False</td>\n",
       "      <td>108</td>\n",
       "      <td>18</td>\n",
       "      <td>198</td>\n",
       "      <td>1</td>\n",
       "      <td>7</td>\n",
       "      <td>6</td>\n",
       "      <td>25</td>\n",
       "      <td>140</td>\n",
       "      <td>0</td>\n",
       "      <td>0</td>\n",
       "      <td>.</td>\n",
       "      <td>-1.0</td>\n",
       "      <td>False</td>\n",
       "      <td>2020-11-24 12:00:00</td>\n",
       "    </tr>\n",
       "    <tr>\n",
       "      <th>117570</th>\n",
       "      <td>111704683295</td>\n",
       "      <td>2020-11-24 12:45:54</td>\n",
       "      <td>2020-11-25 18:48:25</td>\n",
       "      <td>NaN</td>\n",
       "      <td>NaN</td>\n",
       "      <td>www..</td>\n",
       "      <td>https://www.facebook.com/goodbusinessph/photos/a.122474952626649/225081182366025/?type=3</td>\n",
       "      <td>https://www.facebook.com/groups/1710445832541836/permalink/2809070756012666</td>\n",
       "      <td>30763</td>\n",
       "      <td>-118.0</td>\n",
       "      <td>37888</td>\n",
       "      <td>Santa Monica Patch</td>\n",
       "      <td>SantaMonicaPatch</td>\n",
       "      <td>2315</td>\n",
       "      <td>https://www.facebook.com/152612108100468</td>\n",
       "      <td>facebook_page</td>\n",
       "      <td>US</td>\n",
       "      <td>False</td>\n",
       "      <td>3</td>\n",
       "      <td>2</td>\n",
       "      <td>1</td>\n",
       "      <td>1</td>\n",
       "      <td>0</td>\n",
       "      <td>0</td>\n",
       "      <td>0</td>\n",
       "      <td>0</td>\n",
       "      <td>0</td>\n",
       "      <td>0</td>\n",
       "      <td>.</td>\n",
       "      <td>-1.0</td>\n",
       "      <td>False</td>\n",
       "      <td>2020-11-24 12:00:00</td>\n",
       "    </tr>\n",
       "  </tbody>\n",
       "</table>\n",
       "</div>"
      ],
      "text/plain": [
       "                  id                date              updated title caption  \\\n",
       "117564  111703702337 2020-11-24 12:46:03  2020-11-25 19:16:20   NaN     NaN   \n",
       "117570  111704683295 2020-11-24 12:45:54  2020-11-25 18:48:25   NaN     NaN   \n",
       "\n",
       "       expandedLinks  \\\n",
       "117564         www..   \n",
       "117570         www..   \n",
       "\n",
       "                                                                                            link  \\\n",
       "117564  https://www.facebook.com/goodbusinessph/photos/a.122474952626649/225081182366025/?type=3   \n",
       "117570  https://www.facebook.com/goodbusinessph/photos/a.122474952626649/225081182366025/?type=3   \n",
       "\n",
       "                                                                            postUrl  \\\n",
       "117564  https://www.facebook.com/groups/1613550218909369/permalink/2639058889691825   \n",
       "117570  https://www.facebook.com/groups/1710445832541836/permalink/2809070756012666   \n",
       "\n",
       "        subscriberCount  score  account_id         account_name  \\\n",
       "117564             3502  -24.0       37756  Scotts Valley Patch   \n",
       "117570            30763 -118.0       37888   Santa Monica Patch   \n",
       "\n",
       "           account_handle  account_subscriberCount  \\\n",
       "117564  scottsvalleypatch                      629   \n",
       "117570   SantaMonicaPatch                     2315   \n",
       "\n",
       "                                     account_url account_accountType  \\\n",
       "117564  https://www.facebook.com/168810009796475       facebook_page   \n",
       "117570  https://www.facebook.com/152612108100468       facebook_page   \n",
       "\n",
       "       account_pageAdminTopCountry  account_verified  statistics_likeCount  \\\n",
       "117564                         NaN             False                   108   \n",
       "117570                          US             False                     3   \n",
       "\n",
       "        statistics_shareCount  statistics_commentCount  statistics_loveCount  \\\n",
       "117564                     18                      198                     1   \n",
       "117570                      2                        1                     1   \n",
       "\n",
       "        statistics_wowCount  statistics_hahaCount  statistics_sadCount  \\\n",
       "117564                    7                     6                   25   \n",
       "117570                    0                     0                    0   \n",
       "\n",
       "        statistics_angryCount  statistics_thankfulCount  statistics_careCount  \\\n",
       "117564                    140                         0                     0   \n",
       "117570                      0                         0                     0   \n",
       "\n",
       "       domain  rating  credible                hour  \n",
       "117564      .    -1.0     False 2020-11-24 12:00:00  \n",
       "117570      .    -1.0     False 2020-11-24 12:00:00  "
      ]
     },
     "execution_count": 70,
     "metadata": {},
     "output_type": "execute_result"
    }
   ],
   "source": [
    "# news_ratings_data[~news_ratings_data.domain.isin(domains.domain.unique())]\n",
    "news_ratings_data[news_ratings_data.domain == '.']"
   ]
  },
  {
   "cell_type": "code",
   "execution_count": 71,
   "metadata": {},
   "outputs": [
    {
     "data": {
      "text/html": [
       "<div>\n",
       "<style scoped>\n",
       "    .dataframe tbody tr th:only-of-type {\n",
       "        vertical-align: middle;\n",
       "    }\n",
       "\n",
       "    .dataframe tbody tr th {\n",
       "        vertical-align: top;\n",
       "    }\n",
       "\n",
       "    .dataframe thead th {\n",
       "        text-align: right;\n",
       "    }\n",
       "</style>\n",
       "<table border=\"1\" class=\"dataframe\">\n",
       "  <thead>\n",
       "    <tr style=\"text-align: right;\">\n",
       "      <th></th>\n",
       "      <th>domain</th>\n",
       "      <th>rating</th>\n",
       "      <th>credible</th>\n",
       "      <th>id</th>\n",
       "    </tr>\n",
       "  </thead>\n",
       "  <tbody>\n",
       "    <tr>\n",
       "      <th>0</th>\n",
       "      <td>patch.com</td>\n",
       "      <td>100.0</td>\n",
       "      <td>True</td>\n",
       "      <td>37113</td>\n",
       "    </tr>\n",
       "    <tr>\n",
       "      <th>1</th>\n",
       "      <td>theguardian.com</td>\n",
       "      <td>100.0</td>\n",
       "      <td>True</td>\n",
       "      <td>8353</td>\n",
       "    </tr>\n",
       "    <tr>\n",
       "      <th>2</th>\n",
       "      <td>nytimes.com</td>\n",
       "      <td>100.0</td>\n",
       "      <td>True</td>\n",
       "      <td>7845</td>\n",
       "    </tr>\n",
       "    <tr>\n",
       "      <th>3</th>\n",
       "      <td>cnn.com</td>\n",
       "      <td>100.0</td>\n",
       "      <td>True</td>\n",
       "      <td>7385</td>\n",
       "    </tr>\n",
       "    <tr>\n",
       "      <th>4</th>\n",
       "      <td>nbcnews.com</td>\n",
       "      <td>100.0</td>\n",
       "      <td>True</td>\n",
       "      <td>5412</td>\n",
       "    </tr>\n",
       "  </tbody>\n",
       "</table>\n",
       "</div>"
      ],
      "text/plain": [
       "            domain  rating  credible     id\n",
       "0        patch.com   100.0      True  37113\n",
       "1  theguardian.com   100.0      True   8353\n",
       "2      nytimes.com   100.0      True   7845\n",
       "3          cnn.com   100.0      True   7385\n",
       "4      nbcnews.com   100.0      True   5412"
      ]
     },
     "execution_count": 71,
     "metadata": {},
     "output_type": "execute_result"
    }
   ],
   "source": [
    "domains.head()"
   ]
  },
  {
   "cell_type": "code",
   "execution_count": 72,
   "metadata": {},
   "outputs": [],
   "source": [
    "## credible news sources sorted by rating and number of posts\n",
    "credible_domains = domains[domains.credible == True]"
   ]
  },
  {
   "cell_type": "code",
   "execution_count": 73,
   "metadata": {},
   "outputs": [
    {
     "name": "stdout",
     "output_type": "stream",
     "text": [
      "Number of Credible Domains:  999\n",
      "Top 20 Credible Domains: \n",
      "                 domain  rating\n",
      "0             patch.com   100.0\n",
      "1       theguardian.com   100.0\n",
      "2           nytimes.com   100.0\n",
      "3               cnn.com   100.0\n",
      "4           nbcnews.com   100.0\n",
      "5    washingtonpost.com   100.0\n",
      "6   businessinsider.com   100.0\n",
      "7               npr.org   100.0\n",
      "8                cbc.ca   100.0\n",
      "9           cbsnews.com   100.0\n",
      "10         usatoday.com   100.0\n",
      "11          reuters.com   100.0\n",
      "12         politico.com   100.0\n",
      "13              wsj.com   100.0\n",
      "14          latimes.com   100.0\n",
      "15         newsweek.com   100.0\n",
      "16              pbs.org   100.0\n",
      "17             vice.com   100.0\n",
      "18           ctvnews.ca   100.0\n",
      "19               cnn.it   100.0\n"
     ]
    }
   ],
   "source": [
    "print(\"Number of Credible Domains: \", len(credible_domains))\n",
    "print(\"Top 20 Credible Domains: \")\n",
    "print(credible_domains[['domain', 'rating']][0:20])"
   ]
  },
  {
   "cell_type": "code",
   "execution_count": 74,
   "metadata": {},
   "outputs": [],
   "source": [
    "## non-credible news sources sorted by rating and number of posts\n",
    "# noncredible_domains = domains[domains.credible == False].sort_values('rating', ascending=True)\n",
    "noncredible_domains = domains[(domains['credible'] == False) & (domains['rating'] != -1.0)].sort_values('rating', ascending=True)"
   ]
  },
  {
   "cell_type": "code",
   "execution_count": 75,
   "metadata": {},
   "outputs": [
    {
     "name": "stdout",
     "output_type": "stream",
     "text": [
      "Number of Non-Credible Domains:  34\n",
      "Top 20 Non-Credible Domains: \n",
      "                            domain  rating\n",
      "1032                 zerohedge.com     0.0\n",
      "1031      worldnewsdailyreport.com     7.5\n",
      "1030               sputniknews.com     7.5\n",
      "1029               naturalnews.com    12.5\n",
      "1028              yournewswire.com    15.0\n",
      "1027  theconservativetreehouse.com    17.5\n",
      "1026                  lifenews.com    17.5\n",
      "1025              lifesitenews.com    17.5\n",
      "1024          thegatewaypundit.com    20.0\n",
      "1022                       wnd.com    25.0\n",
      "1023                  infowars.com    25.0\n",
      "1021           americanthinker.com    27.5\n",
      "1020                gregpalast.com    32.0\n",
      "1019                  arabnews.com    32.0\n",
      "1018                        rt.com    32.5\n",
      "1017            westernjournal.com    32.5\n",
      "1016         middleeastmonitor.com    40.0\n",
      "1015                  theblaze.com    40.0\n",
      "1013                   pjmedia.com    42.0\n",
      "1012                  redstate.com    42.0\n"
     ]
    }
   ],
   "source": [
    "print(\"Number of Non-Credible Domains: \", len(noncredible_domains))\n",
    "print(\"Top 20 Non-Credible Domains: \")\n",
    "print(noncredible_domains[['domain', 'rating']][0:20])"
   ]
  },
  {
   "cell_type": "markdown",
   "metadata": {},
   "source": [
    "#### Popularity of credible sources over time"
   ]
  },
  {
   "cell_type": "code",
   "execution_count": 76,
   "metadata": {},
   "outputs": [
    {
     "name": "stdout",
     "output_type": "stream",
     "text": [
      "['patch.com', 'theguardian.com', 'nytimes.com', 'cnn.com', 'nbcnews.com']\n"
     ]
    }
   ],
   "source": [
    "credible_top20_domains = credible_domains[['domain']][0:5]\n",
    "credible_top20_list = credible_top20_domains['domain'].to_list()\n",
    "print(credible_top20_list)"
   ]
  },
  {
   "cell_type": "code",
   "execution_count": 77,
   "metadata": {},
   "outputs": [],
   "source": [
    "credible_top20_trend_df =  pd.pivot_table(news_ratings_data[news_ratings_data['domain'].isin(credible_top20_list)], values = 'id',index = 'hour', columns = 'domain', aggfunc ='count').sort_values(['hour'], ascending=True).reset_index()"
   ]
  },
  {
   "cell_type": "code",
   "execution_count": 78,
   "metadata": {
    "scrolled": true
   },
   "outputs": [
    {
     "data": {
      "text/html": [
       "<div>\n",
       "<style scoped>\n",
       "    .dataframe tbody tr th:only-of-type {\n",
       "        vertical-align: middle;\n",
       "    }\n",
       "\n",
       "    .dataframe tbody tr th {\n",
       "        vertical-align: top;\n",
       "    }\n",
       "\n",
       "    .dataframe thead th {\n",
       "        text-align: right;\n",
       "    }\n",
       "</style>\n",
       "<table border=\"1\" class=\"dataframe\">\n",
       "  <thead>\n",
       "    <tr style=\"text-align: right;\">\n",
       "      <th>domain</th>\n",
       "      <th>hour</th>\n",
       "      <th>cnn.com</th>\n",
       "      <th>nbcnews.com</th>\n",
       "      <th>nytimes.com</th>\n",
       "      <th>patch.com</th>\n",
       "      <th>theguardian.com</th>\n",
       "    </tr>\n",
       "  </thead>\n",
       "  <tbody>\n",
       "    <tr>\n",
       "      <th>0</th>\n",
       "      <td>2020-11-22 00:00:00</td>\n",
       "      <td>203</td>\n",
       "      <td>91</td>\n",
       "      <td>100</td>\n",
       "      <td>436</td>\n",
       "      <td>109</td>\n",
       "    </tr>\n",
       "    <tr>\n",
       "      <th>1</th>\n",
       "      <td>2020-11-22 01:00:00</td>\n",
       "      <td>137</td>\n",
       "      <td>93</td>\n",
       "      <td>128</td>\n",
       "      <td>450</td>\n",
       "      <td>65</td>\n",
       "    </tr>\n",
       "    <tr>\n",
       "      <th>2</th>\n",
       "      <td>2020-11-22 02:00:00</td>\n",
       "      <td>80</td>\n",
       "      <td>75</td>\n",
       "      <td>89</td>\n",
       "      <td>326</td>\n",
       "      <td>94</td>\n",
       "    </tr>\n",
       "    <tr>\n",
       "      <th>3</th>\n",
       "      <td>2020-11-22 03:00:00</td>\n",
       "      <td>86</td>\n",
       "      <td>53</td>\n",
       "      <td>99</td>\n",
       "      <td>280</td>\n",
       "      <td>63</td>\n",
       "    </tr>\n",
       "    <tr>\n",
       "      <th>4</th>\n",
       "      <td>2020-11-22 04:00:00</td>\n",
       "      <td>91</td>\n",
       "      <td>32</td>\n",
       "      <td>100</td>\n",
       "      <td>74</td>\n",
       "      <td>62</td>\n",
       "    </tr>\n",
       "  </tbody>\n",
       "</table>\n",
       "</div>"
      ],
      "text/plain": [
       "domain                hour  cnn.com  nbcnews.com  nytimes.com  patch.com  \\\n",
       "0      2020-11-22 00:00:00      203           91          100        436   \n",
       "1      2020-11-22 01:00:00      137           93          128        450   \n",
       "2      2020-11-22 02:00:00       80           75           89        326   \n",
       "3      2020-11-22 03:00:00       86           53           99        280   \n",
       "4      2020-11-22 04:00:00       91           32          100         74   \n",
       "\n",
       "domain  theguardian.com  \n",
       "0                   109  \n",
       "1                    65  \n",
       "2                    94  \n",
       "3                    63  \n",
       "4                    62  "
      ]
     },
     "execution_count": 78,
     "metadata": {},
     "output_type": "execute_result"
    }
   ],
   "source": [
    "credible_top20_trend_df.head()"
   ]
  },
  {
   "cell_type": "markdown",
   "metadata": {},
   "source": [
    "#### The time axis is in hour, which can be changed to date when we have more data"
   ]
  },
  {
   "cell_type": "code",
   "execution_count": 94,
   "metadata": {},
   "outputs": [
    {
     "data": {
      "image/svg+xml": [
       "<svg class=\"main-svg\" xmlns=\"http://www.w3.org/2000/svg\" xmlns:xlink=\"http://www.w3.org/1999/xlink\" width=\"700\" height=\"450\" style=\"\" viewBox=\"0 0 700 450\"><rect x=\"0\" y=\"0\" width=\"700\" height=\"450\" style=\"fill: rgb(255, 255, 255); fill-opacity: 1;\"/><defs id=\"defs-01281b\"><g class=\"clips\"><clipPath id=\"clip01281bxyplot\" class=\"plotclip\"><rect width=\"451\" height=\"244\"/></clipPath><clipPath class=\"axesclip\" id=\"clip01281bx\"><rect x=\"80\" y=\"0\" width=\"451\" height=\"450\"/></clipPath><clipPath class=\"axesclip\" id=\"clip01281by\"><rect x=\"0\" y=\"100\" width=\"700\" height=\"244\"/></clipPath><clipPath class=\"axesclip\" id=\"clip01281bxy\"><rect x=\"80\" y=\"100\" width=\"451\" height=\"244\"/></clipPath></g><g class=\"gradients\"/></defs><g class=\"bglayer\"><rect class=\"bg\" x=\"80\" y=\"100\" width=\"451\" height=\"244\" style=\"fill: rgb(229, 236, 246); fill-opacity: 1; stroke-width: 0;\"/></g><g class=\"layer-below\"><g class=\"imagelayer\"/><g class=\"shapelayer\"/></g><g class=\"cartesianlayer\"><g class=\"subplot xy\"><g class=\"layer-subplot\"><g class=\"shapelayer\"/><g class=\"imagelayer\"/></g><g class=\"gridlayer\"><g class=\"x\"><path class=\"xgrid crisp\" transform=\"translate(118.11,0)\" d=\"M0,100v244\" style=\"stroke: rgb(255, 255, 255); stroke-opacity: 1; stroke-width: 1px;\"/><path class=\"xgrid crisp\" transform=\"translate(156.23000000000002,0)\" d=\"M0,100v244\" style=\"stroke: rgb(255, 255, 255); stroke-opacity: 1; stroke-width: 1px;\"/><path class=\"xgrid crisp\" transform=\"translate(194.34,0)\" d=\"M0,100v244\" style=\"stroke: rgb(255, 255, 255); stroke-opacity: 1; stroke-width: 1px;\"/><path class=\"xgrid crisp\" transform=\"translate(232.45,0)\" d=\"M0,100v244\" style=\"stroke: rgb(255, 255, 255); stroke-opacity: 1; stroke-width: 1px;\"/><path class=\"xgrid crisp\" transform=\"translate(270.56,0)\" d=\"M0,100v244\" style=\"stroke: rgb(255, 255, 255); stroke-opacity: 1; stroke-width: 1px;\"/><path class=\"xgrid crisp\" transform=\"translate(308.68,0)\" d=\"M0,100v244\" style=\"stroke: rgb(255, 255, 255); stroke-opacity: 1; stroke-width: 1px;\"/><path class=\"xgrid crisp\" transform=\"translate(346.79,0)\" d=\"M0,100v244\" style=\"stroke: rgb(255, 255, 255); stroke-opacity: 1; stroke-width: 1px;\"/><path class=\"xgrid crisp\" transform=\"translate(384.9,0)\" d=\"M0,100v244\" style=\"stroke: rgb(255, 255, 255); stroke-opacity: 1; stroke-width: 1px;\"/><path class=\"xgrid crisp\" transform=\"translate(423.01,0)\" d=\"M0,100v244\" style=\"stroke: rgb(255, 255, 255); stroke-opacity: 1; stroke-width: 1px;\"/><path class=\"xgrid crisp\" transform=\"translate(461.13,0)\" d=\"M0,100v244\" style=\"stroke: rgb(255, 255, 255); stroke-opacity: 1; stroke-width: 1px;\"/><path class=\"xgrid crisp\" transform=\"translate(499.24,0)\" d=\"M0,100v244\" style=\"stroke: rgb(255, 255, 255); stroke-opacity: 1; stroke-width: 1px;\"/></g><g class=\"y\"><path class=\"ygrid crisp\" transform=\"translate(0,285.13)\" d=\"M80,0h451\" style=\"stroke: rgb(255, 255, 255); stroke-opacity: 1; stroke-width: 1px;\"/><path class=\"ygrid crisp\" transform=\"translate(0,238.37)\" d=\"M80,0h451\" style=\"stroke: rgb(255, 255, 255); stroke-opacity: 1; stroke-width: 1px;\"/><path class=\"ygrid crisp\" transform=\"translate(0,191.6)\" d=\"M80,0h451\" style=\"stroke: rgb(255, 255, 255); stroke-opacity: 1; stroke-width: 1px;\"/><path class=\"ygrid crisp\" transform=\"translate(0,144.84)\" d=\"M80,0h451\" style=\"stroke: rgb(255, 255, 255); stroke-opacity: 1; stroke-width: 1px;\"/></g></g><g class=\"zerolinelayer\"><path class=\"yzl zl crisp\" transform=\"translate(0,331.89)\" d=\"M80,0h451\" style=\"stroke: rgb(255, 255, 255); stroke-opacity: 1; stroke-width: 2px;\"/></g><path class=\"xlines-below\"/><path class=\"ylines-below\"/><g class=\"overlines-below\"/><g class=\"xaxislayer-below\"/><g class=\"yaxislayer-below\"/><g class=\"overaxes-below\"/><g class=\"plot\" transform=\"translate(80,100)\" clip-path=\"url('#clip01281bxyplot')\"><g class=\"scatterlayer mlayer\"><g class=\"trace scatter traceda2245\" style=\"stroke-miterlimit: 2; opacity: 1;\"><g class=\"fills\"/><g class=\"errorbars\"/><g class=\"lines\"><path class=\"js-line\" d=\"M0,191.12L6.35,189.81L12.7,201.4L19.06,205.71L25.41,224.97L31.76,213.38L38.11,213.94L44.46,231.05L50.82,231.71L57.17,229.74L63.52,231.71L69.87,229.09L76.23,216.18L82.58,201.12L88.93,210.66L95.28,185.69L101.63,167.92L107.99,132.85L114.34,117.6L120.69,142.48L127.04,155.11L133.39,185.88L139.75,141.92L146.1,127.61L152.45,132.57L158.8,177.18L165.15,174.75L171.51,195.89L177.86,208.51L184.21,213L190.56,213.84L196.92,230.49L203.27,231.8L209.62,231.71L215.97,230.21L222.32,228.99L228.68,219.64L235.03,194.86L241.38,140.71L247.73,12.2L254.08,135.56L260.44,153.8L266.79,141.55L273.14,155.39L279.49,158.48L285.85,121.72L292.2,165.21L298.55,183.17L304.9,179.99L311.25,156.14L317.61,150.53L323.96,200.66L330.31,209.35L336.66,202.9L343.01,227.31L349.37,228.99L355.72,227.59L362.07,229.56L368.42,229.46L374.77,217.49L381.13,193.55L387.48,188.31L393.83,145.48L400.18,140.05L406.54,140.71L412.89,141.73L419.24,145.01L425.59,159.78L431.94,153.89L438.3,175.22L444.65,148.28L451,203.46\" style=\"vector-effect: non-scaling-stroke; fill: none; stroke: rgb(99, 110, 250); stroke-opacity: 1; stroke-width: 2px; opacity: 1;\"/></g><g class=\"points\"/><g class=\"text\"/></g><g class=\"trace scatter tracef4e679\" style=\"stroke-miterlimit: 2; opacity: 1;\"><g class=\"fills\"/><g class=\"errorbars\"/><g class=\"lines\"><path class=\"js-line\" d=\"M0,221.7L6.35,225.81L12.7,223.1L19.06,226L25.41,226.09L31.76,228.06L38.11,224.22L44.46,221.04L50.82,218.8L57.17,220.58L63.52,218.89L69.87,220.2L76.23,218.71L82.58,221.89L88.93,222.26L95.28,220.3L101.63,220.58L107.99,217.21L114.34,216.56L120.69,220.86L127.04,222.73L133.39,221.61L139.75,223.94L146.1,224.79L152.45,224.32L165.15,225.63L171.51,227.97L177.86,227.12L184.21,227.68L190.56,223.57L196.92,222.63L209.62,219.64L215.97,221.23L222.32,220.39L228.68,218.43L235.03,220.2L241.38,218.61L247.73,219.92L254.08,219.36L266.79,216.84L273.14,215.62L279.49,218.8L285.85,217.02L292.2,217.4L298.55,219.92L304.9,223.01L311.25,221.51L317.61,226L323.96,223.94L330.31,227.78L336.66,226.94L349.37,222.91L355.72,219.64L362.07,217.02L368.42,215.81L374.77,217.49L381.13,220.02L387.48,218.52L393.83,217.86L400.18,215.71L406.54,217.68L412.89,218.15L419.24,215.81L425.59,218.8L431.94,218.52L438.3,216.93L444.65,218.89L451,218.99\" style=\"vector-effect: non-scaling-stroke; fill: none; stroke: rgb(239, 85, 59); stroke-opacity: 1; stroke-width: 2px; opacity: 1;\"/></g><g class=\"points\"/><g class=\"text\"/></g><g class=\"trace scatter trace35de44\" style=\"stroke-miterlimit: 2; opacity: 1;\"><g class=\"fills\"/><g class=\"errorbars\"/><g class=\"lines\"><path class=\"js-line\" d=\"M0,222.54L6.35,219.92L12.7,223.57L19.06,222.63L25.41,222.54L31.76,225.72L38.11,227.12L50.82,228.99L57.17,230.21L63.52,230.02L69.87,226.75L88.93,221.23L95.28,220.3L101.63,216.56L107.99,220.67L114.34,221.79L120.69,221.89L133.39,223.2L139.75,225.35L152.45,223.94L158.8,225.44L171.51,222.07L177.86,225.53L184.21,224.79L190.56,227.87L196.92,228.9L203.27,228.25L209.62,228.43L215.97,226.66L222.32,227.31L228.68,224.04L235.03,219.27L241.38,215.53L247.73,211.69L254.08,216.27L260.44,209.26L266.79,211.41L273.14,212.72L279.49,212.91L285.85,213.38L292.2,215.53L304.9,212.35L311.25,218.15L317.61,221.42L323.96,221.23L330.31,225.72L336.66,225.63L343.01,223.85L349.37,226.47L355.72,228.53L362.07,228.34L368.42,227.78L374.77,225.44L381.13,223.94L387.48,219.36L393.83,218.8L400.18,212.25L419.24,216.65L425.59,220.11L431.94,218.15L438.3,218.52L444.65,220.39L451,218.99\" style=\"vector-effect: non-scaling-stroke; fill: none; stroke: rgb(0, 204, 150); stroke-opacity: 1; stroke-width: 2px; opacity: 1;\"/></g><g class=\"points\"/><g class=\"text\"/></g><g class=\"trace scatter traceef0af7\" style=\"stroke-miterlimit: 2; opacity: 1;\"><g class=\"fills\"/><g class=\"errorbars\"/><g class=\"lines\"><path class=\"js-line\" d=\"M0,212.91L12.7,224.41L19.06,223.85L25.41,223.38L31.76,225.72L38.11,228.25L44.46,228.25L50.82,229.74L57.17,229.09L63.52,229.84L69.87,227.59L82.58,225.35L88.93,225.16L95.28,221.89L101.63,221.79L107.99,219.08L114.34,220.95L120.69,219.74L127.04,221.42L133.39,223.29L139.75,223.2L146.1,222.73L152.45,225.72L158.8,223.1L165.15,223.85L177.86,227.5L184.21,228.06L196.92,229.27L203.27,230.3L222.32,228.06L228.68,226.38L241.38,222.73L247.73,220.76L260.44,221.89L266.79,220.48L273.14,222.26L279.49,221.7L292.2,215.81L298.55,171.85L304.9,201.78L311.25,211.13L317.61,217.21L323.96,221.79L330.31,219.27L336.66,225.07L343.01,227.22L349.37,228.15L355.72,229.56L362.07,228.43L368.42,225.44L374.77,226.75L387.48,219.45L393.83,218.8L400.18,216.65L406.54,216.65L412.89,216.93L419.24,218.61L425.59,220.67L431.94,216.27L444.65,223.57L451,222.73\" style=\"vector-effect: non-scaling-stroke; fill: none; stroke: rgb(171, 99, 250); stroke-opacity: 1; stroke-width: 2px; opacity: 1;\"/></g><g class=\"points\"/><g class=\"text\"/></g><g class=\"trace scatter tracef2a451\" style=\"stroke-miterlimit: 2; opacity: 1;\"><g class=\"fills\"/><g class=\"errorbars\"/><g class=\"lines\"><path class=\"js-line\" d=\"M0,223.38L6.35,223.2L12.7,224.88L25.41,228.9L31.76,229.65L38.11,229.18L44.46,230.58L50.82,229.84L57.17,230.96L82.58,227.22L88.93,225.07L95.28,226L101.63,225.44L107.99,223.66L114.34,224.5L120.69,226L127.04,225.07L133.39,225.35L139.75,226.47L146.1,224.6L152.45,227.87L158.8,227.4L165.15,228.15L171.51,226.94L177.86,227.68L184.21,228.9L190.56,228.99L196.92,230.12L203.27,228.81L209.62,229.74L215.97,229.56L228.68,227.12L235.03,223.94L247.73,218.43L254.08,219.64L260.44,221.89L266.79,222.91L279.49,218.89L285.85,217.49L292.2,216.27L298.55,211.22L304.9,210.76L311.25,219.64L317.61,222.54L323.96,224.5L336.66,225.25L343.01,229.09L355.72,228.71L362.07,228.71L368.42,229.93L374.77,228.99L381.13,227.03L387.48,226.56L393.83,224.32L400.18,223.1L406.54,217.58L412.89,216.27L419.24,218.8L425.59,219.45L431.94,220.58L438.3,223.57L444.65,222.07L451,222.54\" style=\"vector-effect: non-scaling-stroke; fill: none; stroke: rgb(255, 161, 90); stroke-opacity: 1; stroke-width: 2px; opacity: 1;\"/></g><g class=\"points\"/><g class=\"text\"/></g></g></g><g class=\"overplot\"/><path class=\"xlines-above crisp\" d=\"M0,0\" style=\"fill: none;\"/><path class=\"ylines-above crisp\" d=\"M0,0\" style=\"fill: none;\"/><g class=\"overlines-above\"/><g class=\"xaxislayer-above\"><g class=\"xtick\"><text text-anchor=\"start\" x=\"0\" y=\"357\" transform=\"translate(80,0) rotate(30,0,351)\" style=\"font-family: 'Open Sans', verdana, arial, sans-serif; font-size: 12px; fill: rgb(42, 63, 95); fill-opacity: 1; white-space: pre;\"><tspan class=\"line\" dy=\"0em\" x=\"0\" y=\"357\">00:00</tspan><tspan class=\"line\" dy=\"1.3em\" x=\"0\" y=\"357\">Nov 22, 2020</tspan></text></g><g class=\"xtick\"><text text-anchor=\"start\" x=\"0\" y=\"357\" transform=\"translate(118.11,0) rotate(30,0,351)\" style=\"font-family: 'Open Sans', verdana, arial, sans-serif; font-size: 12px; fill: rgb(42, 63, 95); fill-opacity: 1; white-space: pre;\">06:00</text></g><g class=\"xtick\"><text text-anchor=\"start\" x=\"0\" y=\"357\" transform=\"translate(156.23000000000002,0) rotate(30,0,351)\" style=\"font-family: 'Open Sans', verdana, arial, sans-serif; font-size: 12px; fill: rgb(42, 63, 95); fill-opacity: 1; white-space: pre;\">12:00</text></g><g class=\"xtick\"><text text-anchor=\"start\" x=\"0\" y=\"357\" transform=\"translate(194.34,0) rotate(30,0,351)\" style=\"font-family: 'Open Sans', verdana, arial, sans-serif; font-size: 12px; fill: rgb(42, 63, 95); fill-opacity: 1; white-space: pre;\">18:00</text></g><g class=\"xtick\"><text text-anchor=\"start\" x=\"0\" y=\"357\" transform=\"translate(232.45,0) rotate(30,0,351)\" style=\"font-family: 'Open Sans', verdana, arial, sans-serif; font-size: 12px; fill: rgb(42, 63, 95); fill-opacity: 1; white-space: pre;\"><tspan class=\"line\" dy=\"0em\" x=\"0\" y=\"357\">00:00</tspan><tspan class=\"line\" dy=\"1.3em\" x=\"0\" y=\"357\">Nov 23, 2020</tspan></text></g><g class=\"xtick\"><text text-anchor=\"start\" x=\"0\" y=\"357\" transform=\"translate(270.56,0) rotate(30,0,351)\" style=\"font-family: 'Open Sans', verdana, arial, sans-serif; font-size: 12px; fill: rgb(42, 63, 95); fill-opacity: 1; white-space: pre;\">06:00</text></g><g class=\"xtick\"><text text-anchor=\"start\" x=\"0\" y=\"357\" transform=\"translate(308.68,0) rotate(30,0,351)\" style=\"font-family: 'Open Sans', verdana, arial, sans-serif; font-size: 12px; fill: rgb(42, 63, 95); fill-opacity: 1; white-space: pre;\">12:00</text></g><g class=\"xtick\"><text text-anchor=\"start\" x=\"0\" y=\"357\" transform=\"translate(346.79,0) rotate(30,0,351)\" style=\"font-family: 'Open Sans', verdana, arial, sans-serif; font-size: 12px; fill: rgb(42, 63, 95); fill-opacity: 1; white-space: pre;\">18:00</text></g><g class=\"xtick\"><text text-anchor=\"start\" x=\"0\" y=\"357\" transform=\"translate(384.9,0) rotate(30,0,351)\" style=\"font-family: 'Open Sans', verdana, arial, sans-serif; font-size: 12px; fill: rgb(42, 63, 95); fill-opacity: 1; white-space: pre;\"><tspan class=\"line\" dy=\"0em\" x=\"0\" y=\"357\">00:00</tspan><tspan class=\"line\" dy=\"1.3em\" x=\"0\" y=\"357\">Nov 24, 2020</tspan></text></g><g class=\"xtick\"><text text-anchor=\"start\" x=\"0\" y=\"357\" transform=\"translate(423.01,0) rotate(30,0,351)\" style=\"font-family: 'Open Sans', verdana, arial, sans-serif; font-size: 12px; fill: rgb(42, 63, 95); fill-opacity: 1; white-space: pre;\">06:00</text></g><g class=\"xtick\"><text text-anchor=\"start\" x=\"0\" y=\"357\" transform=\"translate(461.13,0) rotate(30,0,351)\" style=\"font-family: 'Open Sans', verdana, arial, sans-serif; font-size: 12px; fill: rgb(42, 63, 95); fill-opacity: 1; white-space: pre;\">12:00</text></g><g class=\"xtick\"><text text-anchor=\"start\" x=\"0\" y=\"357\" transform=\"translate(499.24,0) rotate(30,0,351)\" style=\"font-family: 'Open Sans', verdana, arial, sans-serif; font-size: 12px; fill: rgb(42, 63, 95); fill-opacity: 1; white-space: pre;\">18:00</text></g></g><g class=\"yaxislayer-above\"><g class=\"ytick\"><text text-anchor=\"end\" x=\"79\" y=\"4.199999999999999\" transform=\"translate(0,331.89)\" style=\"font-family: 'Open Sans', verdana, arial, sans-serif; font-size: 12px; fill: rgb(42, 63, 95); fill-opacity: 1; white-space: pre;\">0</text></g><g class=\"ytick\"><text text-anchor=\"end\" x=\"79\" y=\"4.199999999999999\" transform=\"translate(0,285.13)\" style=\"font-family: 'Open Sans', verdana, arial, sans-serif; font-size: 12px; fill: rgb(42, 63, 95); fill-opacity: 1; white-space: pre;\">500</text></g><g class=\"ytick\"><text text-anchor=\"end\" x=\"79\" y=\"4.199999999999999\" transform=\"translate(0,238.37)\" style=\"font-family: 'Open Sans', verdana, arial, sans-serif; font-size: 12px; fill: rgb(42, 63, 95); fill-opacity: 1; white-space: pre;\">1000</text></g><g class=\"ytick\"><text text-anchor=\"end\" x=\"79\" y=\"4.199999999999999\" transform=\"translate(0,191.6)\" style=\"font-family: 'Open Sans', verdana, arial, sans-serif; font-size: 12px; fill: rgb(42, 63, 95); fill-opacity: 1; white-space: pre;\">1500</text></g><g class=\"ytick\"><text text-anchor=\"end\" x=\"79\" y=\"4.199999999999999\" transform=\"translate(0,144.84)\" style=\"font-family: 'Open Sans', verdana, arial, sans-serif; font-size: 12px; fill: rgb(42, 63, 95); fill-opacity: 1; white-space: pre;\">2000</text></g></g><g class=\"overaxes-above\"/></g></g><g class=\"polarlayer\"/><g class=\"ternarylayer\"/><g class=\"geolayer\"/><g class=\"funnelarealayer\"/><g class=\"pielayer\"/><g class=\"treemaplayer\"/><g class=\"sunburstlayer\"/><g class=\"glimages\"/><defs id=\"topdefs-01281b\"><g class=\"clips\"/><clipPath id=\"legend01281b\"><rect width=\"148\" height=\"105\" x=\"0\" y=\"0\"/></clipPath></defs><g class=\"layer-above\"><g class=\"imagelayer\"/><g class=\"shapelayer\"/></g><g class=\"infolayer\"><g class=\"legend\" pointer-events=\"all\" transform=\"translate(540.02,100)\"><rect class=\"bg\" shape-rendering=\"crispEdges\" width=\"148\" height=\"105\" x=\"0\" y=\"0\" style=\"stroke: rgb(68, 68, 68); stroke-opacity: 1; fill: rgb(255, 255, 255); fill-opacity: 1; stroke-width: 0px;\"/><g class=\"scrollbox\" transform=\"\" clip-path=\"url('#legend01281b')\"><g class=\"groups\"><g class=\"traces\" transform=\"translate(0,14.5)\" style=\"opacity: 1;\"><text class=\"legendtext\" text-anchor=\"start\" x=\"40\" y=\"4.680000000000001\" style=\"font-family: 'Open Sans', verdana, arial, sans-serif; font-size: 12px; fill: rgb(42, 63, 95); fill-opacity: 1; white-space: pre;\">patch.com</text><g class=\"layers\" style=\"opacity: 1;\"><g class=\"legendfill\"/><g class=\"legendlines\"><path class=\"js-line\" d=\"M5,0h30\" style=\"fill: none; stroke: rgb(99, 110, 250); stroke-opacity: 1; stroke-width: 2px;\"/></g><g class=\"legendsymbols\"><g class=\"legendpoints\"/></g></g><rect class=\"legendtoggle\" x=\"0\" y=\"-9.5\" width=\"142.015625\" height=\"19\" style=\"fill: rgb(0, 0, 0); fill-opacity: 0;\"/></g><g class=\"traces\" transform=\"translate(0,33.5)\" style=\"opacity: 1;\"><text class=\"legendtext\" text-anchor=\"start\" x=\"40\" y=\"4.680000000000001\" style=\"font-family: 'Open Sans', verdana, arial, sans-serif; font-size: 12px; fill: rgb(42, 63, 95); fill-opacity: 1; white-space: pre;\">theguardian.com</text><g class=\"layers\" style=\"opacity: 1;\"><g class=\"legendfill\"/><g class=\"legendlines\"><path class=\"js-line\" d=\"M5,0h30\" style=\"fill: none; stroke: rgb(239, 85, 59); stroke-opacity: 1; stroke-width: 2px;\"/></g><g class=\"legendsymbols\"><g class=\"legendpoints\"/></g></g><rect class=\"legendtoggle\" x=\"0\" y=\"-9.5\" width=\"142.015625\" height=\"19\" style=\"fill: rgb(0, 0, 0); fill-opacity: 0;\"/></g><g class=\"traces\" transform=\"translate(0,52.5)\" style=\"opacity: 1;\"><text class=\"legendtext\" text-anchor=\"start\" x=\"40\" y=\"4.680000000000001\" style=\"font-family: 'Open Sans', verdana, arial, sans-serif; font-size: 12px; fill: rgb(42, 63, 95); fill-opacity: 1; white-space: pre;\">nytimes.com</text><g class=\"layers\" style=\"opacity: 1;\"><g class=\"legendfill\"/><g class=\"legendlines\"><path class=\"js-line\" d=\"M5,0h30\" style=\"fill: none; stroke: rgb(0, 204, 150); stroke-opacity: 1; stroke-width: 2px;\"/></g><g class=\"legendsymbols\"><g class=\"legendpoints\"/></g></g><rect class=\"legendtoggle\" x=\"0\" y=\"-9.5\" width=\"142.015625\" height=\"19\" style=\"fill: rgb(0, 0, 0); fill-opacity: 0;\"/></g><g class=\"traces\" transform=\"translate(0,71.5)\" style=\"opacity: 1;\"><text class=\"legendtext\" text-anchor=\"start\" x=\"40\" y=\"4.680000000000001\" style=\"font-family: 'Open Sans', verdana, arial, sans-serif; font-size: 12px; fill: rgb(42, 63, 95); fill-opacity: 1; white-space: pre;\">cnn.com</text><g class=\"layers\" style=\"opacity: 1;\"><g class=\"legendfill\"/><g class=\"legendlines\"><path class=\"js-line\" d=\"M5,0h30\" style=\"fill: none; stroke: rgb(171, 99, 250); stroke-opacity: 1; stroke-width: 2px;\"/></g><g class=\"legendsymbols\"><g class=\"legendpoints\"/></g></g><rect class=\"legendtoggle\" x=\"0\" y=\"-9.5\" width=\"142.015625\" height=\"19\" style=\"fill: rgb(0, 0, 0); fill-opacity: 0;\"/></g><g class=\"traces\" transform=\"translate(0,90.5)\" style=\"opacity: 1;\"><text class=\"legendtext\" text-anchor=\"start\" x=\"40\" y=\"4.680000000000001\" style=\"font-family: 'Open Sans', verdana, arial, sans-serif; font-size: 12px; fill: rgb(42, 63, 95); fill-opacity: 1; white-space: pre;\">nbcnews.com</text><g class=\"layers\" style=\"opacity: 1;\"><g class=\"legendfill\"/><g class=\"legendlines\"><path class=\"js-line\" d=\"M5,0h30\" style=\"fill: none; stroke: rgb(255, 161, 90); stroke-opacity: 1; stroke-width: 2px;\"/></g><g class=\"legendsymbols\"><g class=\"legendpoints\"/></g></g><rect class=\"legendtoggle\" x=\"0\" y=\"-9.5\" width=\"142.015625\" height=\"19\" style=\"fill: rgb(0, 0, 0); fill-opacity: 0;\"/></g></g></g><rect class=\"scrollbar\" rx=\"20\" ry=\"3\" width=\"0\" height=\"0\" x=\"0\" y=\"0\" style=\"fill: rgb(128, 139, 164); fill-opacity: 1;\"/></g><g class=\"g-gtitle\"><text class=\"gtitle\" x=\"35\" y=\"50\" text-anchor=\"start\" dy=\"0em\" style=\"font-family: 'Open Sans', verdana, arial, sans-serif; font-size: 17px; fill: rgb(42, 63, 95); opacity: 1; font-weight: normal; white-space: pre;\">Popularity of Credible Sources vs. Time</text></g><g class=\"g-xtitle\"><text class=\"xtitle\" x=\"305.5\" y=\"437.75735931396486\" text-anchor=\"middle\" style=\"font-family: 'Open Sans', verdana, arial, sans-serif; font-size: 14px; fill: rgb(42, 63, 95); opacity: 1; font-weight: normal; white-space: pre;\">Time(h)</text></g><g class=\"g-ytitle\"><text class=\"ytitle\" transform=\"rotate(-90,23.684375000000003,222)\" x=\"23.684375000000003\" y=\"222\" text-anchor=\"middle\" style=\"font-family: 'Open Sans', verdana, arial, sans-serif; font-size: 14px; fill: rgb(42, 63, 95); opacity: 1; font-weight: normal; white-space: pre;\">Number of Posts</text></g></g></svg>"
      ]
     },
     "metadata": {},
     "output_type": "display_data"
    }
   ],
   "source": [
    "fig = go.Figure(data=go.Scatter(x=credible_top20_trend_df.hour, y=credible_top20_trend_df[credible_top20_list[0]],mode='lines', name=credible_top20_list[0]))\n",
    "for col in credible_top20_list[1:]:\n",
    "                fig.add_trace(go.Scatter(x=credible_top20_trend_df.hour, y=credible_top20_trend_df[col],mode='lines', name=col))\n",
    "fig.update_xaxes(nticks=12)\n",
    "fig.update_layout(\n",
    "title=\"Popularity of Credible Sources vs. Time\",\n",
    "xaxis_title=\"Time(h)\",\n",
    "yaxis_title=\"Number of Posts\")\n",
    "fig.show(svg_option)"
   ]
  },
  {
   "cell_type": "code",
   "execution_count": 95,
   "metadata": {},
   "outputs": [],
   "source": [
    "fig.write_image(\"images/top_credible_over_time.png\")"
   ]
  },
  {
   "cell_type": "markdown",
   "metadata": {},
   "source": [
    "#### Popularity of non-credible sources over time"
   ]
  },
  {
   "cell_type": "code",
   "execution_count": 80,
   "metadata": {},
   "outputs": [
    {
     "name": "stdout",
     "output_type": "stream",
     "text": [
      "['zerohedge.com', 'worldnewsdailyreport.com', 'sputniknews.com', 'naturalnews.com', 'yournewswire.com']\n"
     ]
    }
   ],
   "source": [
    "noncredible_top20_domains = noncredible_domains[['domain']][0:5]\n",
    "noncredible_top20_list = noncredible_top20_domains['domain'].to_list()\n",
    "print(noncredible_top20_list)"
   ]
  },
  {
   "cell_type": "code",
   "execution_count": 81,
   "metadata": {},
   "outputs": [],
   "source": [
    "noncredible_top20_trend_df =  pd.pivot_table(news_ratings_data[news_ratings_data['domain'].isin(noncredible_top20_list)], values = 'id',index = 'hour', columns = 'domain', aggfunc ='count').sort_values(['hour'], ascending=True).reset_index()"
   ]
  },
  {
   "cell_type": "code",
   "execution_count": 82,
   "metadata": {
    "scrolled": true
   },
   "outputs": [
    {
     "data": {
      "text/html": [
       "<div>\n",
       "<style scoped>\n",
       "    .dataframe tbody tr th:only-of-type {\n",
       "        vertical-align: middle;\n",
       "    }\n",
       "\n",
       "    .dataframe tbody tr th {\n",
       "        vertical-align: top;\n",
       "    }\n",
       "\n",
       "    .dataframe thead th {\n",
       "        text-align: right;\n",
       "    }\n",
       "</style>\n",
       "<table border=\"1\" class=\"dataframe\">\n",
       "  <thead>\n",
       "    <tr style=\"text-align: right;\">\n",
       "      <th>domain</th>\n",
       "      <th>hour</th>\n",
       "      <th>naturalnews.com</th>\n",
       "      <th>sputniknews.com</th>\n",
       "      <th>worldnewsdailyreport.com</th>\n",
       "      <th>yournewswire.com</th>\n",
       "      <th>zerohedge.com</th>\n",
       "    </tr>\n",
       "  </thead>\n",
       "  <tbody>\n",
       "    <tr>\n",
       "      <th>0</th>\n",
       "      <td>2020-11-22 00:00:00</td>\n",
       "      <td>NaN</td>\n",
       "      <td>1.0</td>\n",
       "      <td>NaN</td>\n",
       "      <td>NaN</td>\n",
       "      <td>8.0</td>\n",
       "    </tr>\n",
       "    <tr>\n",
       "      <th>1</th>\n",
       "      <td>2020-11-22 01:00:00</td>\n",
       "      <td>NaN</td>\n",
       "      <td>4.0</td>\n",
       "      <td>NaN</td>\n",
       "      <td>NaN</td>\n",
       "      <td>5.0</td>\n",
       "    </tr>\n",
       "    <tr>\n",
       "      <th>2</th>\n",
       "      <td>2020-11-22 02:00:00</td>\n",
       "      <td>NaN</td>\n",
       "      <td>2.0</td>\n",
       "      <td>NaN</td>\n",
       "      <td>NaN</td>\n",
       "      <td>10.0</td>\n",
       "    </tr>\n",
       "    <tr>\n",
       "      <th>3</th>\n",
       "      <td>2020-11-22 03:00:00</td>\n",
       "      <td>NaN</td>\n",
       "      <td>6.0</td>\n",
       "      <td>NaN</td>\n",
       "      <td>NaN</td>\n",
       "      <td>10.0</td>\n",
       "    </tr>\n",
       "    <tr>\n",
       "      <th>4</th>\n",
       "      <td>2020-11-22 04:00:00</td>\n",
       "      <td>NaN</td>\n",
       "      <td>1.0</td>\n",
       "      <td>NaN</td>\n",
       "      <td>2.0</td>\n",
       "      <td>9.0</td>\n",
       "    </tr>\n",
       "  </tbody>\n",
       "</table>\n",
       "</div>"
      ],
      "text/plain": [
       "domain                hour  naturalnews.com  sputniknews.com  \\\n",
       "0      2020-11-22 00:00:00              NaN              1.0   \n",
       "1      2020-11-22 01:00:00              NaN              4.0   \n",
       "2      2020-11-22 02:00:00              NaN              2.0   \n",
       "3      2020-11-22 03:00:00              NaN              6.0   \n",
       "4      2020-11-22 04:00:00              NaN              1.0   \n",
       "\n",
       "domain  worldnewsdailyreport.com  yournewswire.com  zerohedge.com  \n",
       "0                            NaN               NaN            8.0  \n",
       "1                            NaN               NaN            5.0  \n",
       "2                            NaN               NaN           10.0  \n",
       "3                            NaN               NaN           10.0  \n",
       "4                            NaN               2.0            9.0  "
      ]
     },
     "execution_count": 82,
     "metadata": {},
     "output_type": "execute_result"
    }
   ],
   "source": [
    "noncredible_top20_trend_df.head()"
   ]
  },
  {
   "cell_type": "markdown",
   "metadata": {},
   "source": [
    "#### The time axis is in hour, which can be changed to date when we have more data"
   ]
  },
  {
   "cell_type": "code",
   "execution_count": 96,
   "metadata": {},
   "outputs": [
    {
     "data": {
      "image/svg+xml": [
       "<svg class=\"main-svg\" xmlns=\"http://www.w3.org/2000/svg\" xmlns:xlink=\"http://www.w3.org/1999/xlink\" width=\"700\" height=\"450\" style=\"\" viewBox=\"0 0 700 450\"><rect x=\"0\" y=\"0\" width=\"700\" height=\"450\" style=\"fill: rgb(255, 255, 255); fill-opacity: 1;\"/><defs id=\"defs-812e15\"><g class=\"clips\"><clipPath id=\"clip812e15xyplot\" class=\"plotclip\"><rect width=\"396\" height=\"244\"/></clipPath><clipPath class=\"axesclip\" id=\"clip812e15x\"><rect x=\"80\" y=\"0\" width=\"396\" height=\"450\"/></clipPath><clipPath class=\"axesclip\" id=\"clip812e15y\"><rect x=\"0\" y=\"100\" width=\"700\" height=\"244\"/></clipPath><clipPath class=\"axesclip\" id=\"clip812e15xy\"><rect x=\"80\" y=\"100\" width=\"396\" height=\"244\"/></clipPath></g><g class=\"gradients\"/></defs><g class=\"bglayer\"><rect class=\"bg\" x=\"80\" y=\"100\" width=\"396\" height=\"244\" style=\"fill: rgb(229, 236, 246); fill-opacity: 1; stroke-width: 0;\"/></g><g class=\"layer-below\"><g class=\"imagelayer\"/><g class=\"shapelayer\"/></g><g class=\"cartesianlayer\"><g class=\"subplot xy\"><g class=\"layer-subplot\"><g class=\"shapelayer\"/><g class=\"imagelayer\"/></g><g class=\"gridlayer\"><g class=\"x\"><path class=\"xgrid crisp\" transform=\"translate(113.46000000000001,0)\" d=\"M0,100v244\" style=\"stroke: rgb(255, 255, 255); stroke-opacity: 1; stroke-width: 1px;\"/><path class=\"xgrid crisp\" transform=\"translate(146.93,0)\" d=\"M0,100v244\" style=\"stroke: rgb(255, 255, 255); stroke-opacity: 1; stroke-width: 1px;\"/><path class=\"xgrid crisp\" transform=\"translate(180.39,0)\" d=\"M0,100v244\" style=\"stroke: rgb(255, 255, 255); stroke-opacity: 1; stroke-width: 1px;\"/><path class=\"xgrid crisp\" transform=\"translate(213.86,0)\" d=\"M0,100v244\" style=\"stroke: rgb(255, 255, 255); stroke-opacity: 1; stroke-width: 1px;\"/><path class=\"xgrid crisp\" transform=\"translate(247.32,0)\" d=\"M0,100v244\" style=\"stroke: rgb(255, 255, 255); stroke-opacity: 1; stroke-width: 1px;\"/><path class=\"xgrid crisp\" transform=\"translate(280.78999999999996,0)\" d=\"M0,100v244\" style=\"stroke: rgb(255, 255, 255); stroke-opacity: 1; stroke-width: 1px;\"/><path class=\"xgrid crisp\" transform=\"translate(314.25,0)\" d=\"M0,100v244\" style=\"stroke: rgb(255, 255, 255); stroke-opacity: 1; stroke-width: 1px;\"/><path class=\"xgrid crisp\" transform=\"translate(347.72,0)\" d=\"M0,100v244\" style=\"stroke: rgb(255, 255, 255); stroke-opacity: 1; stroke-width: 1px;\"/><path class=\"xgrid crisp\" transform=\"translate(381.18,0)\" d=\"M0,100v244\" style=\"stroke: rgb(255, 255, 255); stroke-opacity: 1; stroke-width: 1px;\"/><path class=\"xgrid crisp\" transform=\"translate(414.65,0)\" d=\"M0,100v244\" style=\"stroke: rgb(255, 255, 255); stroke-opacity: 1; stroke-width: 1px;\"/><path class=\"xgrid crisp\" transform=\"translate(448.11,0)\" d=\"M0,100v244\" style=\"stroke: rgb(255, 255, 255); stroke-opacity: 1; stroke-width: 1px;\"/></g><g class=\"y\"><path class=\"ygrid crisp\" transform=\"translate(0,298.02)\" d=\"M80,0h396\" style=\"stroke: rgb(255, 255, 255); stroke-opacity: 1; stroke-width: 1px;\"/><path class=\"ygrid crisp\" transform=\"translate(0,255.78)\" d=\"M80,0h396\" style=\"stroke: rgb(255, 255, 255); stroke-opacity: 1; stroke-width: 1px;\"/><path class=\"ygrid crisp\" transform=\"translate(0,213.55)\" d=\"M80,0h396\" style=\"stroke: rgb(255, 255, 255); stroke-opacity: 1; stroke-width: 1px;\"/><path class=\"ygrid crisp\" transform=\"translate(0,171.32)\" d=\"M80,0h396\" style=\"stroke: rgb(255, 255, 255); stroke-opacity: 1; stroke-width: 1px;\"/><path class=\"ygrid crisp\" transform=\"translate(0,129.09)\" d=\"M80,0h396\" style=\"stroke: rgb(255, 255, 255); stroke-opacity: 1; stroke-width: 1px;\"/></g></g><g class=\"zerolinelayer\"><path class=\"yzl zl crisp\" transform=\"translate(0,340.25)\" d=\"M80,0h396\" style=\"stroke: rgb(255, 255, 255); stroke-opacity: 1; stroke-width: 2px;\"/></g><path class=\"xlines-below\"/><path class=\"ylines-below\"/><g class=\"overlines-below\"/><g class=\"xaxislayer-below\"/><g class=\"yaxislayer-below\"/><g class=\"overaxes-below\"/><g class=\"plot\" transform=\"translate(80,100)\" clip-path=\"url('#clip812e15xyplot')\"><g class=\"scatterlayer mlayer\"><g class=\"trace scatter tracedda175\" style=\"stroke-miterlimit: 2; opacity: 1;\"><g class=\"fills\"/><g class=\"errorbars\"/><g class=\"lines\"><path class=\"js-line\" d=\"M0,172.68L5.58,198.02L11.15,155.78L16.73,155.78L22.31,164.23L33.46,231.8L39.04,198.02L44.62,172.68L50.2,223.35L55.77,198.02L61.35,214.91L66.93,223.35L72.51,198.02L78.08,189.57L83.66,130.45L89.24,37.54L94.82,79.77L100.39,130.45L105.97,138.89L111.55,155.78L117.13,96.66L122.7,130.45L128.28,172.68L133.86,147.34L139.44,130.45L145.01,105.11L150.59,172.68L156.17,181.12L161.75,96.66L167.32,181.12L172.9,164.23L178.48,164.23L184.06,223.35L189.63,164.23L195.21,181.12L200.79,147.34L206.37,130.45L211.94,130.45L217.52,71.32L223.1,79.77L228.68,122L234.25,181.12L239.83,181.12L245.41,71.32L250.99,130.45L256.56,79.77L262.14,113.55L267.72,79.77L273.3,155.78L278.87,164.23L284.45,12.2L290.03,138.89L295.61,172.68L301.18,223.35L306.76,206.46L312.34,206.46L317.92,155.78L323.49,181.12L329.07,181.12L334.65,164.23L340.23,155.78L345.8,71.32L351.38,71.32L356.96,54.43L362.54,138.89L368.11,96.66L373.69,105.11L379.27,12.2L384.85,138.89L390.42,113.55L396,147.34\" style=\"vector-effect: non-scaling-stroke; fill: none; stroke: rgb(99, 110, 250); stroke-opacity: 1; stroke-width: 2px; opacity: 1;\"/></g><g class=\"points\"/><g class=\"text\"/></g><g class=\"trace scatter trace72ec70\" style=\"stroke-miterlimit: 2; opacity: 1;\"><g class=\"fills\"/><g class=\"errorbars\"/><g class=\"lines\"><path class=\"js-line\" d=\"M356.96,256.5L362.54,256.5\" style=\"vector-effect: non-scaling-stroke; fill: none; stroke: rgb(0, 0, 0); stroke-opacity: 1; stroke-width: 0px; opacity: 1;\"/><path class=\"js-line\" d=\"M356.96,231.8L362.54,231.8\" style=\"vector-effect: non-scaling-stroke; fill: none; stroke: rgb(239, 85, 59); stroke-opacity: 1; stroke-width: 2px; opacity: 1;\"/></g><g class=\"points\"/><g class=\"text\"/></g><g class=\"trace scatter trace3d3732\" style=\"stroke-miterlimit: 2; opacity: 1;\"><g class=\"fills\"/><g class=\"errorbars\"/><g class=\"lines\"><path class=\"js-line\" d=\"M0,231.8L5.58,206.46L11.15,223.35L16.73,189.57L22.31,231.8L33.46,198.02L39.04,231.8\" style=\"vector-effect: non-scaling-stroke; fill: none; stroke: rgb(0, 204, 150); stroke-opacity: 1; stroke-width: 2px; opacity: 1;\"/><path class=\"js-line\" d=\"M50.2,172.68L55.77,206.46L61.35,223.35L72.51,223.35L78.08,214.91L83.66,231.8L89.24,231.8L94.82,223.35L100.39,172.68L105.97,214.91L111.55,223.35L117.13,231.8L122.7,198.02L128.28,231.8L133.86,189.57L139.44,231.8L145.01,198.02L150.59,231.8L156.17,214.91L161.75,223.35L167.32,223.35L172.9,231.8L178.48,172.68L184.06,181.12L189.63,223.35L195.21,223.35L200.79,147.34L206.37,138.89L211.94,214.91L217.52,206.46L223.1,214.91L228.68,214.91L234.25,231.8L239.83,181.12L245.41,231.8L250.99,214.91L256.56,214.91L262.14,214.91\" style=\"vector-effect: non-scaling-stroke; fill: none; stroke: rgb(0, 204, 150); stroke-opacity: 1; stroke-width: 2px; opacity: 1;\"/><path class=\"js-line\" d=\"M273.3,214.91L278.87,214.91L284.45,223.35L290.03,223.35L295.61,206.46L301.18,223.35\" style=\"vector-effect: non-scaling-stroke; fill: none; stroke: rgb(0, 204, 150); stroke-opacity: 1; stroke-width: 2px; opacity: 1;\"/><path class=\"js-line\" d=\"M312.34,214.91L317.92,231.8L323.49,231.8L334.65,231.8L340.23,214.91L345.8,189.57L351.38,198.02L356.96,223.35L362.54,223.35L368.11,214.91L373.69,223.35L379.27,189.57\" style=\"vector-effect: non-scaling-stroke; fill: none; stroke: rgb(0, 204, 150); stroke-opacity: 1; stroke-width: 2px; opacity: 1;\"/><path class=\"js-line\" d=\"M390.42,189.57L396,164.23\" style=\"vector-effect: non-scaling-stroke; fill: none; stroke: rgb(0, 204, 150); stroke-opacity: 1; stroke-width: 2px; opacity: 1;\"/></g><g class=\"points\"/><g class=\"text\"/></g><g class=\"trace scatter tracec41539\" style=\"stroke-miterlimit: 2; opacity: 1;\"><g class=\"fills\"/><g class=\"errorbars\"/><g class=\"lines\"/><g class=\"points\"/><g class=\"text\"/></g><g class=\"trace scatter tracefda223\" style=\"stroke-miterlimit: 2; opacity: 1;\"><g class=\"fills\"/><g class=\"errorbars\"/><g class=\"lines\"><path class=\"js-line\" d=\"M178.48,256.5L184.06,256.5L189.63,153.69L195.21,256.5L200.79,228.46L206.37,13.5L211.94,153.69L217.52,228.46L223.1,191.08L228.68,209.77L234.25,209.77L239.83,228.46\" style=\"vector-effect: non-scaling-stroke; fill: none; stroke: rgb(0, 0, 0); stroke-opacity: 1; stroke-width: 0px; opacity: 1;\"/><path class=\"js-line\" d=\"M178.48,231.8L184.06,231.8L189.63,138.89L195.21,231.8L200.79,206.46L206.37,12.2L211.94,138.89L217.52,206.46L223.1,172.68L228.68,189.57L234.25,189.57L239.83,206.46\" style=\"vector-effect: non-scaling-stroke; fill: none; stroke: rgb(255, 161, 90); stroke-opacity: 1; stroke-width: 2px; opacity: 1;\"/><path class=\"js-line\" d=\"M351.38,256.5L356.96,256.5\" style=\"vector-effect: non-scaling-stroke; fill: none; stroke: rgb(0, 0, 0); stroke-opacity: 1; stroke-width: 0px; opacity: 1;\"/><path class=\"js-line\" d=\"M295.61,231.8L301.18,231.8\" style=\"vector-effect: non-scaling-stroke; fill: none; stroke: rgb(255, 161, 90); stroke-opacity: 1; stroke-width: 2px; opacity: 1;\"/><path class=\"js-line\" d=\"M351.38,231.8L356.96,231.8\" style=\"vector-effect: non-scaling-stroke; fill: none; stroke: rgb(255, 161, 90); stroke-opacity: 1; stroke-width: 2px; opacity: 1;\"/></g><g class=\"points\"/><g class=\"text\"/></g></g></g><g class=\"overplot\"/><path class=\"xlines-above crisp\" d=\"M0,0\" style=\"fill: none;\"/><path class=\"ylines-above crisp\" d=\"M0,0\" style=\"fill: none;\"/><g class=\"overlines-above\"/><g class=\"xaxislayer-above\"><g class=\"xtick\"><text text-anchor=\"start\" x=\"0\" y=\"357\" transform=\"translate(80,0) rotate(30,0,351)\" style=\"font-family: 'Open Sans', verdana, arial, sans-serif; font-size: 12px; fill: rgb(42, 63, 95); fill-opacity: 1; white-space: pre;\"><tspan class=\"line\" dy=\"0em\" x=\"0\" y=\"357\">00:00</tspan><tspan class=\"line\" dy=\"1.3em\" x=\"0\" y=\"357\">Nov 22, 2020</tspan></text></g><g class=\"xtick\"><text text-anchor=\"start\" x=\"0\" y=\"357\" transform=\"translate(113.46000000000001,0) rotate(30,0,351)\" style=\"font-family: 'Open Sans', verdana, arial, sans-serif; font-size: 12px; fill: rgb(42, 63, 95); fill-opacity: 1; white-space: pre;\">06:00</text></g><g class=\"xtick\"><text text-anchor=\"start\" x=\"0\" y=\"357\" transform=\"translate(146.93,0) rotate(30,0,351)\" style=\"font-family: 'Open Sans', verdana, arial, sans-serif; font-size: 12px; fill: rgb(42, 63, 95); fill-opacity: 1; white-space: pre;\">12:00</text></g><g class=\"xtick\"><text text-anchor=\"start\" x=\"0\" y=\"357\" transform=\"translate(180.39,0) rotate(30,0,351)\" style=\"font-family: 'Open Sans', verdana, arial, sans-serif; font-size: 12px; fill: rgb(42, 63, 95); fill-opacity: 1; white-space: pre;\">18:00</text></g><g class=\"xtick\"><text text-anchor=\"start\" x=\"0\" y=\"357\" transform=\"translate(213.86,0) rotate(30,0,351)\" style=\"font-family: 'Open Sans', verdana, arial, sans-serif; font-size: 12px; fill: rgb(42, 63, 95); fill-opacity: 1; white-space: pre;\"><tspan class=\"line\" dy=\"0em\" x=\"0\" y=\"357\">00:00</tspan><tspan class=\"line\" dy=\"1.3em\" x=\"0\" y=\"357\">Nov 23, 2020</tspan></text></g><g class=\"xtick\"><text text-anchor=\"start\" x=\"0\" y=\"357\" transform=\"translate(247.32,0) rotate(30,0,351)\" style=\"font-family: 'Open Sans', verdana, arial, sans-serif; font-size: 12px; fill: rgb(42, 63, 95); fill-opacity: 1; white-space: pre;\">06:00</text></g><g class=\"xtick\"><text text-anchor=\"start\" x=\"0\" y=\"357\" transform=\"translate(280.78999999999996,0) rotate(30,0,351)\" style=\"font-family: 'Open Sans', verdana, arial, sans-serif; font-size: 12px; fill: rgb(42, 63, 95); fill-opacity: 1; white-space: pre;\">12:00</text></g><g class=\"xtick\"><text text-anchor=\"start\" x=\"0\" y=\"357\" transform=\"translate(314.25,0) rotate(30,0,351)\" style=\"font-family: 'Open Sans', verdana, arial, sans-serif; font-size: 12px; fill: rgb(42, 63, 95); fill-opacity: 1; white-space: pre;\">18:00</text></g><g class=\"xtick\"><text text-anchor=\"start\" x=\"0\" y=\"357\" transform=\"translate(347.72,0) rotate(30,0,351)\" style=\"font-family: 'Open Sans', verdana, arial, sans-serif; font-size: 12px; fill: rgb(42, 63, 95); fill-opacity: 1; white-space: pre;\"><tspan class=\"line\" dy=\"0em\" x=\"0\" y=\"357\">00:00</tspan><tspan class=\"line\" dy=\"1.3em\" x=\"0\" y=\"357\">Nov 24, 2020</tspan></text></g><g class=\"xtick\"><text text-anchor=\"start\" x=\"0\" y=\"357\" transform=\"translate(381.18,0) rotate(30,0,351)\" style=\"font-family: 'Open Sans', verdana, arial, sans-serif; font-size: 12px; fill: rgb(42, 63, 95); fill-opacity: 1; white-space: pre;\">06:00</text></g><g class=\"xtick\"><text text-anchor=\"start\" x=\"0\" y=\"357\" transform=\"translate(414.65,0) rotate(30,0,351)\" style=\"font-family: 'Open Sans', verdana, arial, sans-serif; font-size: 12px; fill: rgb(42, 63, 95); fill-opacity: 1; white-space: pre;\">12:00</text></g><g class=\"xtick\"><text text-anchor=\"start\" x=\"0\" y=\"357\" transform=\"translate(448.11,0) rotate(30,0,351)\" style=\"font-family: 'Open Sans', verdana, arial, sans-serif; font-size: 12px; fill: rgb(42, 63, 95); fill-opacity: 1; white-space: pre;\">18:00</text></g></g><g class=\"yaxislayer-above\"><g class=\"ytick\"><text text-anchor=\"end\" x=\"79\" y=\"4.199999999999999\" transform=\"translate(0,340.25)\" style=\"font-family: 'Open Sans', verdana, arial, sans-serif; font-size: 12px; fill: rgb(42, 63, 95); fill-opacity: 1; white-space: pre;\">0</text></g><g class=\"ytick\"><text text-anchor=\"end\" x=\"79\" y=\"4.199999999999999\" transform=\"translate(0,298.02)\" style=\"font-family: 'Open Sans', verdana, arial, sans-serif; font-size: 12px; fill: rgb(42, 63, 95); fill-opacity: 1; white-space: pre;\">5</text></g><g class=\"ytick\"><text text-anchor=\"end\" x=\"79\" y=\"4.199999999999999\" transform=\"translate(0,255.78)\" style=\"font-family: 'Open Sans', verdana, arial, sans-serif; font-size: 12px; fill: rgb(42, 63, 95); fill-opacity: 1; white-space: pre;\">10</text></g><g class=\"ytick\"><text text-anchor=\"end\" x=\"79\" y=\"4.199999999999999\" transform=\"translate(0,213.55)\" style=\"font-family: 'Open Sans', verdana, arial, sans-serif; font-size: 12px; fill: rgb(42, 63, 95); fill-opacity: 1; white-space: pre;\">15</text></g><g class=\"ytick\"><text text-anchor=\"end\" x=\"79\" y=\"4.199999999999999\" transform=\"translate(0,171.32)\" style=\"font-family: 'Open Sans', verdana, arial, sans-serif; font-size: 12px; fill: rgb(42, 63, 95); fill-opacity: 1; white-space: pre;\">20</text></g><g class=\"ytick\"><text text-anchor=\"end\" x=\"79\" y=\"4.199999999999999\" transform=\"translate(0,129.09)\" style=\"font-family: 'Open Sans', verdana, arial, sans-serif; font-size: 12px; fill: rgb(42, 63, 95); fill-opacity: 1; white-space: pre;\">25</text></g></g><g class=\"overaxes-above\"/></g></g><g class=\"polarlayer\"/><g class=\"ternarylayer\"/><g class=\"geolayer\"/><g class=\"funnelarealayer\"/><g class=\"pielayer\"/><g class=\"treemaplayer\"/><g class=\"sunburstlayer\"/><g class=\"glimages\"/><defs id=\"topdefs-812e15\"><g class=\"clips\"/><clipPath id=\"legend812e15\"><rect width=\"204\" height=\"105\" x=\"0\" y=\"0\"/></clipPath></defs><g class=\"layer-above\"><g class=\"imagelayer\"/><g class=\"shapelayer\"/></g><g class=\"infolayer\"><g class=\"legend\" pointer-events=\"all\" transform=\"translate(483.92,100)\"><rect class=\"bg\" shape-rendering=\"crispEdges\" width=\"204\" height=\"105\" x=\"0\" y=\"0\" style=\"stroke: rgb(68, 68, 68); stroke-opacity: 1; fill: rgb(255, 255, 255); fill-opacity: 1; stroke-width: 0px;\"/><g class=\"scrollbox\" transform=\"\" clip-path=\"url('#legend812e15')\"><g class=\"groups\"><g class=\"traces\" transform=\"translate(0,14.5)\" style=\"opacity: 1;\"><text class=\"legendtext\" text-anchor=\"start\" x=\"40\" y=\"4.680000000000001\" style=\"font-family: 'Open Sans', verdana, arial, sans-serif; font-size: 12px; fill: rgb(42, 63, 95); fill-opacity: 1; white-space: pre;\">zerohedge.com</text><g class=\"layers\" style=\"opacity: 1;\"><g class=\"legendfill\"/><g class=\"legendlines\"><path class=\"js-line\" d=\"M5,0h30\" style=\"fill: none; stroke: rgb(99, 110, 250); stroke-opacity: 1; stroke-width: 2px;\"/></g><g class=\"legendsymbols\"><g class=\"legendpoints\"/></g></g><rect class=\"legendtoggle\" x=\"0\" y=\"-9.5\" width=\"198.640625\" height=\"19\" style=\"fill: rgb(0, 0, 0); fill-opacity: 0;\"/></g><g class=\"traces\" transform=\"translate(0,33.5)\" style=\"opacity: 1;\"><text class=\"legendtext\" text-anchor=\"start\" x=\"40\" y=\"4.680000000000001\" style=\"font-family: 'Open Sans', verdana, arial, sans-serif; font-size: 12px; fill: rgb(42, 63, 95); fill-opacity: 1; white-space: pre;\">worldnewsdailyreport.com</text><g class=\"layers\" style=\"opacity: 1;\"><g class=\"legendfill\"/><g class=\"legendlines\"><path class=\"js-line\" d=\"M5,0h30\" style=\"fill: none; stroke: rgb(239, 85, 59); stroke-opacity: 1; stroke-width: 2px;\"/></g><g class=\"legendsymbols\"><g class=\"legendpoints\"/></g></g><rect class=\"legendtoggle\" x=\"0\" y=\"-9.5\" width=\"198.640625\" height=\"19\" style=\"fill: rgb(0, 0, 0); fill-opacity: 0;\"/></g><g class=\"traces\" transform=\"translate(0,52.5)\" style=\"opacity: 1;\"><text class=\"legendtext\" text-anchor=\"start\" x=\"40\" y=\"4.680000000000001\" style=\"font-family: 'Open Sans', verdana, arial, sans-serif; font-size: 12px; fill: rgb(42, 63, 95); fill-opacity: 1; white-space: pre;\">sputniknews.com</text><g class=\"layers\" style=\"opacity: 1;\"><g class=\"legendfill\"/><g class=\"legendlines\"><path class=\"js-line\" d=\"M5,0h30\" style=\"fill: none; stroke: rgb(0, 204, 150); stroke-opacity: 1; stroke-width: 2px;\"/></g><g class=\"legendsymbols\"><g class=\"legendpoints\"/></g></g><rect class=\"legendtoggle\" x=\"0\" y=\"-9.5\" width=\"198.640625\" height=\"19\" style=\"fill: rgb(0, 0, 0); fill-opacity: 0;\"/></g><g class=\"traces\" transform=\"translate(0,71.5)\" style=\"opacity: 1;\"><text class=\"legendtext\" text-anchor=\"start\" x=\"40\" y=\"4.680000000000001\" style=\"font-family: 'Open Sans', verdana, arial, sans-serif; font-size: 12px; fill: rgb(42, 63, 95); fill-opacity: 1; white-space: pre;\">naturalnews.com</text><g class=\"layers\" style=\"opacity: 1;\"><g class=\"legendfill\"/><g class=\"legendlines\"><path class=\"js-line\" d=\"M5,0h30\" style=\"fill: none; stroke: rgb(171, 99, 250); stroke-opacity: 1; stroke-width: 2px;\"/></g><g class=\"legendsymbols\"><g class=\"legendpoints\"/></g></g><rect class=\"legendtoggle\" x=\"0\" y=\"-9.5\" width=\"198.640625\" height=\"19\" style=\"fill: rgb(0, 0, 0); fill-opacity: 0;\"/></g><g class=\"traces\" transform=\"translate(0,90.5)\" style=\"opacity: 1;\"><text class=\"legendtext\" text-anchor=\"start\" x=\"40\" y=\"4.680000000000001\" style=\"font-family: 'Open Sans', verdana, arial, sans-serif; font-size: 12px; fill: rgb(42, 63, 95); fill-opacity: 1; white-space: pre;\">yournewswire.com</text><g class=\"layers\" style=\"opacity: 1;\"><g class=\"legendfill\"/><g class=\"legendlines\"><path class=\"js-line\" d=\"M5,0h30\" style=\"fill: none; stroke: rgb(255, 161, 90); stroke-opacity: 1; stroke-width: 2px;\"/></g><g class=\"legendsymbols\"><g class=\"legendpoints\"/></g></g><rect class=\"legendtoggle\" x=\"0\" y=\"-9.5\" width=\"198.640625\" height=\"19\" style=\"fill: rgb(0, 0, 0); fill-opacity: 0;\"/></g></g></g><rect class=\"scrollbar\" rx=\"20\" ry=\"3\" width=\"0\" height=\"0\" x=\"0\" y=\"0\" style=\"fill: rgb(128, 139, 164); fill-opacity: 1;\"/></g><g class=\"g-gtitle\"><text class=\"gtitle\" x=\"35\" y=\"50\" text-anchor=\"start\" dy=\"0em\" style=\"font-family: 'Open Sans', verdana, arial, sans-serif; font-size: 17px; fill: rgb(42, 63, 95); opacity: 1; font-weight: normal; white-space: pre;\">Popularity of Non-Credible Sources vs. Time</text></g><g class=\"g-xtitle\"><text class=\"xtitle\" x=\"278\" y=\"437.75735931396486\" text-anchor=\"middle\" style=\"font-family: 'Open Sans', verdana, arial, sans-serif; font-size: 14px; fill: rgb(42, 63, 95); opacity: 1; font-weight: normal; white-space: pre;\">Time(h)</text></g><g class=\"g-ytitle\"><text class=\"ytitle\" transform=\"rotate(-90,38.934375,222)\" x=\"38.934375\" y=\"222\" text-anchor=\"middle\" style=\"font-family: 'Open Sans', verdana, arial, sans-serif; font-size: 14px; fill: rgb(42, 63, 95); opacity: 1; font-weight: normal; white-space: pre;\">Number of Posts</text></g></g></svg>"
      ]
     },
     "metadata": {},
     "output_type": "display_data"
    }
   ],
   "source": [
    "fig = go.Figure(data=go.Scatter(x=noncredible_top20_trend_df.hour, y=noncredible_top20_trend_df[noncredible_top20_list[0]],mode='lines', name=noncredible_top20_list[0]))\n",
    "for col in noncredible_top20_list[1:]:\n",
    "                fig.add_trace(go.Scatter(x=noncredible_top20_trend_df.hour, y=noncredible_top20_trend_df[col],mode='lines', name=col))\n",
    "fig.update_xaxes(nticks=12)\n",
    "fig.update_layout(\n",
    "title=\"Popularity of Non-Credible Sources vs. Time\",\n",
    "xaxis_title=\"Time(h)\",\n",
    "yaxis_title=\"Number of Posts\")\n",
    "fig.show(svg_option)"
   ]
  },
  {
   "cell_type": "code",
   "execution_count": 97,
   "metadata": {},
   "outputs": [],
   "source": [
    "fig.write_image(\"images/top_noncredible_over_time.png\")"
   ]
  },
  {
   "cell_type": "markdown",
   "metadata": {},
   "source": [
    "## Engagement Analysis"
   ]
  },
  {
   "cell_type": "code",
   "execution_count": 84,
   "metadata": {},
   "outputs": [],
   "source": [
    "## Plot the CDF of the likes, shares, and all other engagement metrics for both credible and non-credible articles\n"
   ]
  },
  {
   "cell_type": "code",
   "execution_count": 85,
   "metadata": {},
   "outputs": [
    {
     "data": {
      "text/plain": [
       "Index(['id', 'date', 'updated', 'title', 'caption', 'expandedLinks', 'link',\n",
       "       'postUrl', 'subscriberCount', 'score', 'account_id', 'account_name',\n",
       "       'account_handle', 'account_subscriberCount', 'account_url',\n",
       "       'account_accountType', 'account_pageAdminTopCountry',\n",
       "       'account_verified', 'statistics_likeCount', 'statistics_shareCount',\n",
       "       'statistics_commentCount', 'statistics_loveCount',\n",
       "       'statistics_wowCount', 'statistics_hahaCount', 'statistics_sadCount',\n",
       "       'statistics_angryCount', 'statistics_thankfulCount',\n",
       "       'statistics_careCount', 'domain', 'rating', 'credible', 'hour'],\n",
       "      dtype='object')"
      ]
     },
     "execution_count": 85,
     "metadata": {},
     "output_type": "execute_result"
    }
   ],
   "source": [
    "## news sources that attract the most engagement\n",
    "news_ratings_data.columns"
   ]
  },
  {
   "cell_type": "code",
   "execution_count": 86,
   "metadata": {},
   "outputs": [],
   "source": [
    "statistics = pd.pivot_table(news_ratings_data, values = 'id',index = ['domain', 'rating', 'credible', 'statistics_likeCount', 'statistics_shareCount',\n",
    "       'statistics_commentCount', 'statistics_loveCount',\n",
    "       'statistics_wowCount', 'statistics_hahaCount', 'statistics_sadCount',\n",
    "       'statistics_angryCount', 'statistics_thankfulCount',\n",
    "       'statistics_careCount'], aggfunc ='count').sort_values(['domain', 'rating', 'credible', 'id']).reset_index()"
   ]
  },
  {
   "cell_type": "code",
   "execution_count": 87,
   "metadata": {},
   "outputs": [
    {
     "data": {
      "text/html": [
       "<div>\n",
       "<style scoped>\n",
       "    .dataframe tbody tr th:only-of-type {\n",
       "        vertical-align: middle;\n",
       "    }\n",
       "\n",
       "    .dataframe tbody tr th {\n",
       "        vertical-align: top;\n",
       "    }\n",
       "\n",
       "    .dataframe thead th {\n",
       "        text-align: right;\n",
       "    }\n",
       "</style>\n",
       "<table border=\"1\" class=\"dataframe\">\n",
       "  <thead>\n",
       "    <tr style=\"text-align: right;\">\n",
       "      <th></th>\n",
       "      <th>domain</th>\n",
       "      <th>rating</th>\n",
       "      <th>credible</th>\n",
       "      <th>statistics_likeCount</th>\n",
       "      <th>statistics_shareCount</th>\n",
       "      <th>statistics_commentCount</th>\n",
       "      <th>statistics_loveCount</th>\n",
       "      <th>statistics_wowCount</th>\n",
       "      <th>statistics_hahaCount</th>\n",
       "      <th>statistics_sadCount</th>\n",
       "      <th>statistics_angryCount</th>\n",
       "      <th>statistics_thankfulCount</th>\n",
       "      <th>statistics_careCount</th>\n",
       "      <th>id</th>\n",
       "    </tr>\n",
       "  </thead>\n",
       "  <tbody>\n",
       "    <tr>\n",
       "      <th>0</th>\n",
       "      <td>.</td>\n",
       "      <td>-1.0</td>\n",
       "      <td>False</td>\n",
       "      <td>3</td>\n",
       "      <td>2</td>\n",
       "      <td>1</td>\n",
       "      <td>1</td>\n",
       "      <td>0</td>\n",
       "      <td>0</td>\n",
       "      <td>0</td>\n",
       "      <td>0</td>\n",
       "      <td>0</td>\n",
       "      <td>0</td>\n",
       "      <td>1</td>\n",
       "    </tr>\n",
       "    <tr>\n",
       "      <th>1</th>\n",
       "      <td>.</td>\n",
       "      <td>-1.0</td>\n",
       "      <td>False</td>\n",
       "      <td>108</td>\n",
       "      <td>18</td>\n",
       "      <td>198</td>\n",
       "      <td>1</td>\n",
       "      <td>7</td>\n",
       "      <td>6</td>\n",
       "      <td>25</td>\n",
       "      <td>140</td>\n",
       "      <td>0</td>\n",
       "      <td>0</td>\n",
       "      <td>1</td>\n",
       "    </tr>\n",
       "    <tr>\n",
       "      <th>2</th>\n",
       "      <td>..</td>\n",
       "      <td>-1.0</td>\n",
       "      <td>False</td>\n",
       "      <td>0</td>\n",
       "      <td>0</td>\n",
       "      <td>0</td>\n",
       "      <td>0</td>\n",
       "      <td>0</td>\n",
       "      <td>0</td>\n",
       "      <td>0</td>\n",
       "      <td>0</td>\n",
       "      <td>0</td>\n",
       "      <td>0</td>\n",
       "      <td>1</td>\n",
       "    </tr>\n",
       "    <tr>\n",
       "      <th>3</th>\n",
       "      <td>..</td>\n",
       "      <td>-1.0</td>\n",
       "      <td>False</td>\n",
       "      <td>1</td>\n",
       "      <td>1</td>\n",
       "      <td>0</td>\n",
       "      <td>0</td>\n",
       "      <td>1</td>\n",
       "      <td>0</td>\n",
       "      <td>0</td>\n",
       "      <td>0</td>\n",
       "      <td>0</td>\n",
       "      <td>0</td>\n",
       "      <td>1</td>\n",
       "    </tr>\n",
       "    <tr>\n",
       "      <th>4</th>\n",
       "      <td>..</td>\n",
       "      <td>-1.0</td>\n",
       "      <td>False</td>\n",
       "      <td>1</td>\n",
       "      <td>4</td>\n",
       "      <td>0</td>\n",
       "      <td>0</td>\n",
       "      <td>0</td>\n",
       "      <td>0</td>\n",
       "      <td>10</td>\n",
       "      <td>0</td>\n",
       "      <td>0</td>\n",
       "      <td>0</td>\n",
       "      <td>1</td>\n",
       "    </tr>\n",
       "    <tr>\n",
       "      <th>...</th>\n",
       "      <td>...</td>\n",
       "      <td>...</td>\n",
       "      <td>...</td>\n",
       "      <td>...</td>\n",
       "      <td>...</td>\n",
       "      <td>...</td>\n",
       "      <td>...</td>\n",
       "      <td>...</td>\n",
       "      <td>...</td>\n",
       "      <td>...</td>\n",
       "      <td>...</td>\n",
       "      <td>...</td>\n",
       "      <td>...</td>\n",
       "      <td>...</td>\n",
       "    </tr>\n",
       "    <tr>\n",
       "      <th>211078</th>\n",
       "      <td>zradiolive.com</td>\n",
       "      <td>-1.0</td>\n",
       "      <td>False</td>\n",
       "      <td>39</td>\n",
       "      <td>0</td>\n",
       "      <td>12</td>\n",
       "      <td>7</td>\n",
       "      <td>0</td>\n",
       "      <td>0</td>\n",
       "      <td>0</td>\n",
       "      <td>0</td>\n",
       "      <td>0</td>\n",
       "      <td>0</td>\n",
       "      <td>1</td>\n",
       "    </tr>\n",
       "    <tr>\n",
       "      <th>211079</th>\n",
       "      <td>zradiolive.com</td>\n",
       "      <td>-1.0</td>\n",
       "      <td>False</td>\n",
       "      <td>41</td>\n",
       "      <td>10</td>\n",
       "      <td>15</td>\n",
       "      <td>7</td>\n",
       "      <td>1</td>\n",
       "      <td>8</td>\n",
       "      <td>0</td>\n",
       "      <td>2</td>\n",
       "      <td>0</td>\n",
       "      <td>0</td>\n",
       "      <td>1</td>\n",
       "    </tr>\n",
       "    <tr>\n",
       "      <th>211080</th>\n",
       "      <td>zradiolive.com</td>\n",
       "      <td>-1.0</td>\n",
       "      <td>False</td>\n",
       "      <td>71</td>\n",
       "      <td>1</td>\n",
       "      <td>13</td>\n",
       "      <td>29</td>\n",
       "      <td>0</td>\n",
       "      <td>0</td>\n",
       "      <td>0</td>\n",
       "      <td>0</td>\n",
       "      <td>0</td>\n",
       "      <td>1</td>\n",
       "      <td>1</td>\n",
       "    </tr>\n",
       "    <tr>\n",
       "      <th>211081</th>\n",
       "      <td>zradiolive.com</td>\n",
       "      <td>-1.0</td>\n",
       "      <td>False</td>\n",
       "      <td>272</td>\n",
       "      <td>22</td>\n",
       "      <td>21</td>\n",
       "      <td>34</td>\n",
       "      <td>0</td>\n",
       "      <td>0</td>\n",
       "      <td>0</td>\n",
       "      <td>0</td>\n",
       "      <td>0</td>\n",
       "      <td>1</td>\n",
       "      <td>1</td>\n",
       "    </tr>\n",
       "    <tr>\n",
       "      <th>211082</th>\n",
       "      <td>zuarticles.com</td>\n",
       "      <td>-1.0</td>\n",
       "      <td>False</td>\n",
       "      <td>8</td>\n",
       "      <td>1</td>\n",
       "      <td>18</td>\n",
       "      <td>0</td>\n",
       "      <td>0</td>\n",
       "      <td>0</td>\n",
       "      <td>0</td>\n",
       "      <td>0</td>\n",
       "      <td>0</td>\n",
       "      <td>0</td>\n",
       "      <td>1</td>\n",
       "    </tr>\n",
       "  </tbody>\n",
       "</table>\n",
       "<p>211083 rows × 14 columns</p>\n",
       "</div>"
      ],
      "text/plain": [
       "                domain  rating  credible  statistics_likeCount  \\\n",
       "0                    .    -1.0     False                     3   \n",
       "1                    .    -1.0     False                   108   \n",
       "2                   ..    -1.0     False                     0   \n",
       "3                   ..    -1.0     False                     1   \n",
       "4                   ..    -1.0     False                     1   \n",
       "...                ...     ...       ...                   ...   \n",
       "211078  zradiolive.com    -1.0     False                    39   \n",
       "211079  zradiolive.com    -1.0     False                    41   \n",
       "211080  zradiolive.com    -1.0     False                    71   \n",
       "211081  zradiolive.com    -1.0     False                   272   \n",
       "211082  zuarticles.com    -1.0     False                     8   \n",
       "\n",
       "        statistics_shareCount  statistics_commentCount  statistics_loveCount  \\\n",
       "0                           2                        1                     1   \n",
       "1                          18                      198                     1   \n",
       "2                           0                        0                     0   \n",
       "3                           1                        0                     0   \n",
       "4                           4                        0                     0   \n",
       "...                       ...                      ...                   ...   \n",
       "211078                      0                       12                     7   \n",
       "211079                     10                       15                     7   \n",
       "211080                      1                       13                    29   \n",
       "211081                     22                       21                    34   \n",
       "211082                      1                       18                     0   \n",
       "\n",
       "        statistics_wowCount  statistics_hahaCount  statistics_sadCount  \\\n",
       "0                         0                     0                    0   \n",
       "1                         7                     6                   25   \n",
       "2                         0                     0                    0   \n",
       "3                         1                     0                    0   \n",
       "4                         0                     0                   10   \n",
       "...                     ...                   ...                  ...   \n",
       "211078                    0                     0                    0   \n",
       "211079                    1                     8                    0   \n",
       "211080                    0                     0                    0   \n",
       "211081                    0                     0                    0   \n",
       "211082                    0                     0                    0   \n",
       "\n",
       "        statistics_angryCount  statistics_thankfulCount  statistics_careCount  \\\n",
       "0                           0                         0                     0   \n",
       "1                         140                         0                     0   \n",
       "2                           0                         0                     0   \n",
       "3                           0                         0                     0   \n",
       "4                           0                         0                     0   \n",
       "...                       ...                       ...                   ...   \n",
       "211078                      0                         0                     0   \n",
       "211079                      2                         0                     0   \n",
       "211080                      0                         0                     1   \n",
       "211081                      0                         0                     1   \n",
       "211082                      0                         0                     0   \n",
       "\n",
       "        id  \n",
       "0        1  \n",
       "1        1  \n",
       "2        1  \n",
       "3        1  \n",
       "4        1  \n",
       "...     ..  \n",
       "211078   1  \n",
       "211079   1  \n",
       "211080   1  \n",
       "211081   1  \n",
       "211082   1  \n",
       "\n",
       "[211083 rows x 14 columns]"
      ]
     },
     "execution_count": 87,
     "metadata": {},
     "output_type": "execute_result"
    }
   ],
   "source": [
    "statistics"
   ]
  },
  {
   "cell_type": "code",
   "execution_count": null,
   "metadata": {},
   "outputs": [],
   "source": []
  }
 ],
 "metadata": {
  "kernelspec": {
   "display_name": "Python 3",
   "language": "python",
   "name": "python3"
  },
  "language_info": {
   "codemirror_mode": {
    "name": "ipython",
    "version": 3
   },
   "file_extension": ".py",
   "mimetype": "text/x-python",
   "name": "python",
   "nbconvert_exporter": "python",
   "pygments_lexer": "ipython3",
   "version": "3.8.3"
  }
 },
 "nbformat": 4,
 "nbformat_minor": 1
}