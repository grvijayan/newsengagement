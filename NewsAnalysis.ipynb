{
 "cells": [
  {
   "cell_type": "code",
   "execution_count": 1,
   "metadata": {},
   "outputs": [],
   "source": [
    "import pandas as pd\n",
    "import numpy as np\n",
    "import os\n",
    "import json\n",
    "import requests\n",
    "import re\n",
    "import plotly\n",
    "import plotly.graph_objects as go"
   ]
  },
  {
   "cell_type": "code",
   "execution_count": 2,
   "metadata": {},
   "outputs": [],
   "source": [
    "pd.set_option('display.max_colwidth', None)\n",
    "pd.set_option('display.max_rows', 200)\n",
    "pd.set_option('display.max_columns', None)"
   ]
  },
  {
   "cell_type": "markdown",
   "metadata": {},
   "source": [
    "## Data Prep"
   ]
  },
  {
   "cell_type": "code",
   "execution_count": 3,
   "metadata": {},
   "outputs": [],
   "source": [
    "## Load all data, return final data frame\n",
    "def load_data(dir_name):\n",
    "    frames = []\n",
    "    for filename in os.listdir(dir_name):\n",
    "        frame = pd.read_json(dir_name+\"/\"+filename, lines=True)\n",
    "        frames.append(frame)\n",
    "    df_raw = pd.concat(frames)\n",
    "    return df_raw"
   ]
  },
  {
   "cell_type": "markdown",
   "metadata": {},
   "source": [
    "#### comment load_data and %store df_raw after first run, uncomment %store -r df_raw to load data from memory"
   ]
  },
  {
   "cell_type": "code",
   "execution_count": 4,
   "metadata": {},
   "outputs": [],
   "source": [
    "df_raw = load_data(\"./data/newssources\")"
   ]
  },
  {
   "cell_type": "code",
   "execution_count": 5,
   "metadata": {},
   "outputs": [],
   "source": [
    "# # %store df_raw\n",
    "# %store -r df_raw"
   ]
  },
  {
   "cell_type": "code",
   "execution_count": 6,
   "metadata": {},
   "outputs": [],
   "source": [
    "# Filtered for specific columns\n",
    "col_names = ['id', 'date', 'updated', 'title', 'caption', 'expandedLinks', 'link', 'postUrl', 'subscriberCount', 'score', 'statistics', 'account']\n",
    "df_cols = df_raw[col_names]"
   ]
  },
  {
   "cell_type": "code",
   "execution_count": 7,
   "metadata": {},
   "outputs": [
    {
     "data": {
      "text/html": [
       "<div>\n",
       "<style scoped>\n",
       "    .dataframe tbody tr th:only-of-type {\n",
       "        vertical-align: middle;\n",
       "    }\n",
       "\n",
       "    .dataframe tbody tr th {\n",
       "        vertical-align: top;\n",
       "    }\n",
       "\n",
       "    .dataframe thead th {\n",
       "        text-align: right;\n",
       "    }\n",
       "</style>\n",
       "<table border=\"1\" class=\"dataframe\">\n",
       "  <thead>\n",
       "    <tr style=\"text-align: right;\">\n",
       "      <th></th>\n",
       "      <th>id</th>\n",
       "      <th>date</th>\n",
       "      <th>updated</th>\n",
       "      <th>title</th>\n",
       "      <th>caption</th>\n",
       "      <th>expandedLinks</th>\n",
       "      <th>link</th>\n",
       "      <th>postUrl</th>\n",
       "      <th>subscriberCount</th>\n",
       "      <th>score</th>\n",
       "      <th>statistics</th>\n",
       "      <th>account</th>\n",
       "    </tr>\n",
       "  </thead>\n",
       "  <tbody>\n",
       "    <tr>\n",
       "      <th>0</th>\n",
       "      <td>111622404459</td>\n",
       "      <td>2020-11-22 23:59:49</td>\n",
       "      <td>2020-11-25 18:13:36</td>\n",
       "      <td>L.A. County suspends outdoor dining at restaurants as coronavirus surges</td>\n",
       "      <td>latimes.com</td>\n",
       "      <td>[{'original': 'https://www.latimes.com/california/story/2020-11-22/l-a-county-suspends-outdoor-dining-at-restaurants-as-coronavirus-surges', 'expanded': 'https://www.latimes.com/california/story/2020-11-22/l-a-county-suspends-outdoor-dining-at-restaurants-as-coronavirus-surges'}, {'original': 'https://www.latimes.com/california/story/2020-11-22/l-a-county-suspends-outdoor-dining-at-restaurants-as-coronavirus-surges', 'expanded': 'https://www.latimes.com/california/story/2020-11-22/l-a-county-suspends-outdoor-dining-at-restaurants-as-coronavirus-surges'}]</td>\n",
       "      <td>https://www.latimes.com/california/story/2020-11-22/l-a-county-suspends-outdoor-dining-at-restaurants-as-coronavirus-surges</td>\n",
       "      <td>https://www.facebook.com/edgarreece/posts/3504433216313464</td>\n",
       "      <td>2351</td>\n",
       "      <td>3.73913</td>\n",
       "      <td>{'actual': {'likeCount': 9, 'shareCount': 32, 'commentCount': 23, 'loveCount': 0, 'wowCount': 2, 'hahaCount': 1, 'sadCount': 9, 'angryCount': 10, 'thankfulCount': 0, 'careCount': 0}, 'expected': {'likeCount': 6, 'shareCount': 4, 'commentCount': 3, 'loveCount': 3, 'wowCount': 2, 'hahaCount': 1, 'sadCount': 1, 'angryCount': 3, 'thankfulCount': 0, 'careCount': 0}}</td>\n",
       "      <td>{'id': 4619429, 'name': 'Council Member Ed Reece', 'handle': 'edgarreece', 'profileImage': 'https://scontent-sea1-1.xx.fbcdn.net/v/t1.0-1/p200x200/41729566_1855617687861700_8432782541798244352_n.jpg?_nc_cat=106&amp;ccb=2&amp;_nc_sid=dbb9e7&amp;_nc_ohc=BintqqCsj3MAX_7XrAe&amp;_nc_ht=scontent-sea1-1.xx&amp;tp=6&amp;oh=8c2d0a3070a712033f82b1ad071c5ab4&amp;oe=5FE269EF', 'subscriberCount': 2354, 'url': 'https://www.facebook.com/165175133572639', 'platform': 'Facebook', 'platformId': '165175133572639', 'accountType': 'facebook_page', 'pageAdminTopCountry': 'US', 'verified': True}</td>\n",
       "    </tr>\n",
       "  </tbody>\n",
       "</table>\n",
       "</div>"
      ],
      "text/plain": [
       "             id                date              updated  \\\n",
       "0  111622404459 2020-11-22 23:59:49  2020-11-25 18:13:36   \n",
       "\n",
       "                                                                      title  \\\n",
       "0  L.A. County suspends outdoor dining at restaurants as coronavirus surges   \n",
       "\n",
       "       caption  \\\n",
       "0  latimes.com   \n",
       "\n",
       "                                                                                                                                                                                                                                                                                                                                                                                                                                                                                                                                                                      expandedLinks  \\\n",
       "0  [{'original': 'https://www.latimes.com/california/story/2020-11-22/l-a-county-suspends-outdoor-dining-at-restaurants-as-coronavirus-surges', 'expanded': 'https://www.latimes.com/california/story/2020-11-22/l-a-county-suspends-outdoor-dining-at-restaurants-as-coronavirus-surges'}, {'original': 'https://www.latimes.com/california/story/2020-11-22/l-a-county-suspends-outdoor-dining-at-restaurants-as-coronavirus-surges', 'expanded': 'https://www.latimes.com/california/story/2020-11-22/l-a-county-suspends-outdoor-dining-at-restaurants-as-coronavirus-surges'}]   \n",
       "\n",
       "                                                                                                                          link  \\\n",
       "0  https://www.latimes.com/california/story/2020-11-22/l-a-county-suspends-outdoor-dining-at-restaurants-as-coronavirus-surges   \n",
       "\n",
       "                                                      postUrl  \\\n",
       "0  https://www.facebook.com/edgarreece/posts/3504433216313464   \n",
       "\n",
       "   subscriberCount    score  \\\n",
       "0             2351  3.73913   \n",
       "\n",
       "                                                                                                                                                                                                                                                                                                                                                                    statistics  \\\n",
       "0  {'actual': {'likeCount': 9, 'shareCount': 32, 'commentCount': 23, 'loveCount': 0, 'wowCount': 2, 'hahaCount': 1, 'sadCount': 9, 'angryCount': 10, 'thankfulCount': 0, 'careCount': 0}, 'expected': {'likeCount': 6, 'shareCount': 4, 'commentCount': 3, 'loveCount': 3, 'wowCount': 2, 'hahaCount': 1, 'sadCount': 1, 'angryCount': 3, 'thankfulCount': 0, 'careCount': 0}}   \n",
       "\n",
       "                                                                                                                                                                                                                                                                                                                                                                                                                                                                                                                                                                    account  \n",
       "0  {'id': 4619429, 'name': 'Council Member Ed Reece', 'handle': 'edgarreece', 'profileImage': 'https://scontent-sea1-1.xx.fbcdn.net/v/t1.0-1/p200x200/41729566_1855617687861700_8432782541798244352_n.jpg?_nc_cat=106&ccb=2&_nc_sid=dbb9e7&_nc_ohc=BintqqCsj3MAX_7XrAe&_nc_ht=scontent-sea1-1.xx&tp=6&oh=8c2d0a3070a712033f82b1ad071c5ab4&oe=5FE269EF', 'subscriberCount': 2354, 'url': 'https://www.facebook.com/165175133572639', 'platform': 'Facebook', 'platformId': '165175133572639', 'accountType': 'facebook_page', 'pageAdminTopCountry': 'US', 'verified': True}  "
      ]
     },
     "execution_count": 7,
     "metadata": {},
     "output_type": "execute_result"
    }
   ],
   "source": [
    "df_cols[0:1]"
   ]
  },
  {
   "cell_type": "code",
   "execution_count": 8,
   "metadata": {},
   "outputs": [
    {
     "data": {
      "text/html": [
       "<div>\n",
       "<style scoped>\n",
       "    .dataframe tbody tr th:only-of-type {\n",
       "        vertical-align: middle;\n",
       "    }\n",
       "\n",
       "    .dataframe tbody tr th {\n",
       "        vertical-align: top;\n",
       "    }\n",
       "\n",
       "    .dataframe thead th {\n",
       "        text-align: right;\n",
       "    }\n",
       "</style>\n",
       "<table border=\"1\" class=\"dataframe\">\n",
       "  <thead>\n",
       "    <tr style=\"text-align: right;\">\n",
       "      <th></th>\n",
       "      <th>id</th>\n",
       "      <th>date</th>\n",
       "      <th>updated</th>\n",
       "      <th>title</th>\n",
       "      <th>caption</th>\n",
       "      <th>expandedLinks</th>\n",
       "      <th>link</th>\n",
       "      <th>postUrl</th>\n",
       "      <th>subscriberCount</th>\n",
       "      <th>score</th>\n",
       "      <th>statistics</th>\n",
       "      <th>account_id</th>\n",
       "      <th>account_name</th>\n",
       "      <th>account_handle</th>\n",
       "      <th>account_subscriberCount</th>\n",
       "      <th>account_url</th>\n",
       "      <th>account_accountType</th>\n",
       "      <th>account_pageAdminTopCountry</th>\n",
       "      <th>account_verified</th>\n",
       "    </tr>\n",
       "  </thead>\n",
       "  <tbody>\n",
       "    <tr>\n",
       "      <th>0</th>\n",
       "      <td>111622404459</td>\n",
       "      <td>2020-11-22 23:59:49</td>\n",
       "      <td>2020-11-25 18:13:36</td>\n",
       "      <td>L.A. County suspends outdoor dining at restaurants as coronavirus surges</td>\n",
       "      <td>latimes.com</td>\n",
       "      <td>[{'original': 'https://www.latimes.com/california/story/2020-11-22/l-a-county-suspends-outdoor-dining-at-restaurants-as-coronavirus-surges', 'expanded': 'https://www.latimes.com/california/story/2020-11-22/l-a-county-suspends-outdoor-dining-at-restaurants-as-coronavirus-surges'}, {'original': 'https://www.latimes.com/california/story/2020-11-22/l-a-county-suspends-outdoor-dining-at-restaurants-as-coronavirus-surges', 'expanded': 'https://www.latimes.com/california/story/2020-11-22/l-a-county-suspends-outdoor-dining-at-restaurants-as-coronavirus-surges'}]</td>\n",
       "      <td>https://www.latimes.com/california/story/2020-11-22/l-a-county-suspends-outdoor-dining-at-restaurants-as-coronavirus-surges</td>\n",
       "      <td>https://www.facebook.com/edgarreece/posts/3504433216313464</td>\n",
       "      <td>2351</td>\n",
       "      <td>3.73913</td>\n",
       "      <td>{'actual': {'likeCount': 9, 'shareCount': 32, 'commentCount': 23, 'loveCount': 0, 'wowCount': 2, 'hahaCount': 1, 'sadCount': 9, 'angryCount': 10, 'thankfulCount': 0, 'careCount': 0}, 'expected': {'likeCount': 6, 'shareCount': 4, 'commentCount': 3, 'loveCount': 3, 'wowCount': 2, 'hahaCount': 1, 'sadCount': 1, 'angryCount': 3, 'thankfulCount': 0, 'careCount': 0}}</td>\n",
       "      <td>4619429</td>\n",
       "      <td>Council Member Ed Reece</td>\n",
       "      <td>edgarreece</td>\n",
       "      <td>2354</td>\n",
       "      <td>https://www.facebook.com/165175133572639</td>\n",
       "      <td>facebook_page</td>\n",
       "      <td>US</td>\n",
       "      <td>True</td>\n",
       "    </tr>\n",
       "  </tbody>\n",
       "</table>\n",
       "</div>"
      ],
      "text/plain": [
       "             id                date              updated  \\\n",
       "0  111622404459 2020-11-22 23:59:49  2020-11-25 18:13:36   \n",
       "\n",
       "                                                                      title  \\\n",
       "0  L.A. County suspends outdoor dining at restaurants as coronavirus surges   \n",
       "\n",
       "       caption  \\\n",
       "0  latimes.com   \n",
       "\n",
       "                                                                                                                                                                                                                                                                                                                                                                                                                                                                                                                                                                      expandedLinks  \\\n",
       "0  [{'original': 'https://www.latimes.com/california/story/2020-11-22/l-a-county-suspends-outdoor-dining-at-restaurants-as-coronavirus-surges', 'expanded': 'https://www.latimes.com/california/story/2020-11-22/l-a-county-suspends-outdoor-dining-at-restaurants-as-coronavirus-surges'}, {'original': 'https://www.latimes.com/california/story/2020-11-22/l-a-county-suspends-outdoor-dining-at-restaurants-as-coronavirus-surges', 'expanded': 'https://www.latimes.com/california/story/2020-11-22/l-a-county-suspends-outdoor-dining-at-restaurants-as-coronavirus-surges'}]   \n",
       "\n",
       "                                                                                                                          link  \\\n",
       "0  https://www.latimes.com/california/story/2020-11-22/l-a-county-suspends-outdoor-dining-at-restaurants-as-coronavirus-surges   \n",
       "\n",
       "                                                      postUrl  \\\n",
       "0  https://www.facebook.com/edgarreece/posts/3504433216313464   \n",
       "\n",
       "   subscriberCount    score  \\\n",
       "0             2351  3.73913   \n",
       "\n",
       "                                                                                                                                                                                                                                                                                                                                                                    statistics  \\\n",
       "0  {'actual': {'likeCount': 9, 'shareCount': 32, 'commentCount': 23, 'loveCount': 0, 'wowCount': 2, 'hahaCount': 1, 'sadCount': 9, 'angryCount': 10, 'thankfulCount': 0, 'careCount': 0}, 'expected': {'likeCount': 6, 'shareCount': 4, 'commentCount': 3, 'loveCount': 3, 'wowCount': 2, 'hahaCount': 1, 'sadCount': 1, 'angryCount': 3, 'thankfulCount': 0, 'careCount': 0}}   \n",
       "\n",
       "   account_id             account_name account_handle  \\\n",
       "0     4619429  Council Member Ed Reece     edgarreece   \n",
       "\n",
       "   account_subscriberCount                               account_url  \\\n",
       "0                     2354  https://www.facebook.com/165175133572639   \n",
       "\n",
       "  account_accountType account_pageAdminTopCountry  account_verified  \n",
       "0       facebook_page                          US              True  "
      ]
     },
     "execution_count": 8,
     "metadata": {},
     "output_type": "execute_result"
    }
   ],
   "source": [
    "## Normalizing account column \n",
    "df_acc = df_cols.join(pd.json_normalize(df_cols['account']).add_prefix('account_'))\n",
    "df_acc = df_acc.drop(columns=['account', 'account_profileImage', 'account_platform', 'account_platformId'])\n",
    "df_acc[0:1]"
   ]
  },
  {
   "cell_type": "code",
   "execution_count": 9,
   "metadata": {},
   "outputs": [
    {
     "data": {
      "text/html": [
       "<div>\n",
       "<style scoped>\n",
       "    .dataframe tbody tr th:only-of-type {\n",
       "        vertical-align: middle;\n",
       "    }\n",
       "\n",
       "    .dataframe tbody tr th {\n",
       "        vertical-align: top;\n",
       "    }\n",
       "\n",
       "    .dataframe thead th {\n",
       "        text-align: right;\n",
       "    }\n",
       "</style>\n",
       "<table border=\"1\" class=\"dataframe\">\n",
       "  <thead>\n",
       "    <tr style=\"text-align: right;\">\n",
       "      <th></th>\n",
       "      <th>id</th>\n",
       "      <th>date</th>\n",
       "      <th>updated</th>\n",
       "      <th>title</th>\n",
       "      <th>caption</th>\n",
       "      <th>expandedLinks</th>\n",
       "      <th>link</th>\n",
       "      <th>postUrl</th>\n",
       "      <th>subscriberCount</th>\n",
       "      <th>score</th>\n",
       "      <th>account_id</th>\n",
       "      <th>account_name</th>\n",
       "      <th>account_handle</th>\n",
       "      <th>account_subscriberCount</th>\n",
       "      <th>account_url</th>\n",
       "      <th>account_accountType</th>\n",
       "      <th>account_pageAdminTopCountry</th>\n",
       "      <th>account_verified</th>\n",
       "      <th>statistics_likeCount</th>\n",
       "      <th>statistics_shareCount</th>\n",
       "      <th>statistics_commentCount</th>\n",
       "      <th>statistics_loveCount</th>\n",
       "      <th>statistics_wowCount</th>\n",
       "      <th>statistics_hahaCount</th>\n",
       "      <th>statistics_sadCount</th>\n",
       "      <th>statistics_angryCount</th>\n",
       "      <th>statistics_thankfulCount</th>\n",
       "      <th>statistics_careCount</th>\n",
       "    </tr>\n",
       "  </thead>\n",
       "  <tbody>\n",
       "    <tr>\n",
       "      <th>0</th>\n",
       "      <td>111622404459</td>\n",
       "      <td>2020-11-22 23:59:49</td>\n",
       "      <td>2020-11-25 18:13:36</td>\n",
       "      <td>L.A. County suspends outdoor dining at restaurants as coronavirus surges</td>\n",
       "      <td>latimes.com</td>\n",
       "      <td>[{'original': 'https://www.latimes.com/california/story/2020-11-22/l-a-county-suspends-outdoor-dining-at-restaurants-as-coronavirus-surges', 'expanded': 'https://www.latimes.com/california/story/2020-11-22/l-a-county-suspends-outdoor-dining-at-restaurants-as-coronavirus-surges'}, {'original': 'https://www.latimes.com/california/story/2020-11-22/l-a-county-suspends-outdoor-dining-at-restaurants-as-coronavirus-surges', 'expanded': 'https://www.latimes.com/california/story/2020-11-22/l-a-county-suspends-outdoor-dining-at-restaurants-as-coronavirus-surges'}]</td>\n",
       "      <td>https://www.latimes.com/california/story/2020-11-22/l-a-county-suspends-outdoor-dining-at-restaurants-as-coronavirus-surges</td>\n",
       "      <td>https://www.facebook.com/edgarreece/posts/3504433216313464</td>\n",
       "      <td>2351</td>\n",
       "      <td>3.73913</td>\n",
       "      <td>4619429</td>\n",
       "      <td>Council Member Ed Reece</td>\n",
       "      <td>edgarreece</td>\n",
       "      <td>2354</td>\n",
       "      <td>https://www.facebook.com/165175133572639</td>\n",
       "      <td>facebook_page</td>\n",
       "      <td>US</td>\n",
       "      <td>True</td>\n",
       "      <td>9</td>\n",
       "      <td>32</td>\n",
       "      <td>23</td>\n",
       "      <td>0</td>\n",
       "      <td>2</td>\n",
       "      <td>1</td>\n",
       "      <td>9</td>\n",
       "      <td>10</td>\n",
       "      <td>0</td>\n",
       "      <td>0</td>\n",
       "    </tr>\n",
       "  </tbody>\n",
       "</table>\n",
       "</div>"
      ],
      "text/plain": [
       "             id                date              updated  \\\n",
       "0  111622404459 2020-11-22 23:59:49  2020-11-25 18:13:36   \n",
       "\n",
       "                                                                      title  \\\n",
       "0  L.A. County suspends outdoor dining at restaurants as coronavirus surges   \n",
       "\n",
       "       caption  \\\n",
       "0  latimes.com   \n",
       "\n",
       "                                                                                                                                                                                                                                                                                                                                                                                                                                                                                                                                                                      expandedLinks  \\\n",
       "0  [{'original': 'https://www.latimes.com/california/story/2020-11-22/l-a-county-suspends-outdoor-dining-at-restaurants-as-coronavirus-surges', 'expanded': 'https://www.latimes.com/california/story/2020-11-22/l-a-county-suspends-outdoor-dining-at-restaurants-as-coronavirus-surges'}, {'original': 'https://www.latimes.com/california/story/2020-11-22/l-a-county-suspends-outdoor-dining-at-restaurants-as-coronavirus-surges', 'expanded': 'https://www.latimes.com/california/story/2020-11-22/l-a-county-suspends-outdoor-dining-at-restaurants-as-coronavirus-surges'}]   \n",
       "\n",
       "                                                                                                                          link  \\\n",
       "0  https://www.latimes.com/california/story/2020-11-22/l-a-county-suspends-outdoor-dining-at-restaurants-as-coronavirus-surges   \n",
       "\n",
       "                                                      postUrl  \\\n",
       "0  https://www.facebook.com/edgarreece/posts/3504433216313464   \n",
       "\n",
       "   subscriberCount    score  account_id             account_name  \\\n",
       "0             2351  3.73913     4619429  Council Member Ed Reece   \n",
       "\n",
       "  account_handle  account_subscriberCount  \\\n",
       "0     edgarreece                     2354   \n",
       "\n",
       "                                account_url account_accountType  \\\n",
       "0  https://www.facebook.com/165175133572639       facebook_page   \n",
       "\n",
       "  account_pageAdminTopCountry  account_verified  statistics_likeCount  \\\n",
       "0                          US              True                     9   \n",
       "\n",
       "   statistics_shareCount  statistics_commentCount  statistics_loveCount  \\\n",
       "0                     32                       23                     0   \n",
       "\n",
       "   statistics_wowCount  statistics_hahaCount  statistics_sadCount  \\\n",
       "0                    2                     1                    9   \n",
       "\n",
       "   statistics_angryCount  statistics_thankfulCount  statistics_careCount  \n",
       "0                     10                         0                     0  "
      ]
     },
     "execution_count": 9,
     "metadata": {},
     "output_type": "execute_result"
    }
   ],
   "source": [
    "## Normalizing account column\n",
    "stat_col = df_acc.statistics.apply(lambda x: x['actual'])\n",
    "df_stat = df_acc.join(pd.json_normalize(stat_col).add_prefix('statistics_'))\n",
    "df_stat = df_stat.drop(columns=['statistics'])\n",
    "df_stat[0:1]"
   ]
  },
  {
   "cell_type": "code",
   "execution_count": 10,
   "metadata": {},
   "outputs": [],
   "source": [
    "## Adding rows based on 'expandedLinks' column values. One row each for every 'original' (unique) key in the dictionary.\n",
    "df_exp = df_stat.explode('expandedLinks').reset_index()"
   ]
  },
  {
   "cell_type": "code",
   "execution_count": 11,
   "metadata": {},
   "outputs": [],
   "source": [
    "expanded_link_original = df_exp.expandedLinks.apply(lambda x: x['expanded'] if not pd.isnull(x) else None)"
   ]
  },
  {
   "cell_type": "code",
   "execution_count": 12,
   "metadata": {},
   "outputs": [],
   "source": [
    "df_exp = df_exp.rename(columns={'expandedLinks': 'expandedLinksRaw'})\n",
    "df_final = df_exp.join(expanded_link_original)"
   ]
  },
  {
   "cell_type": "code",
   "execution_count": 13,
   "metadata": {},
   "outputs": [],
   "source": [
    "final_cols = ['id', 'date', 'updated', 'title', 'caption', 'expandedLinks', 'link', 'postUrl',\n",
    "       'subscriberCount', 'score', 'account_id', 'account_name',\n",
    "       'account_handle', 'account_subscriberCount', 'account_url',\n",
    "       'account_accountType', 'account_pageAdminTopCountry',\n",
    "       'account_verified', 'statistics_likeCount', 'statistics_shareCount',\n",
    "       'statistics_commentCount', 'statistics_loveCount',\n",
    "       'statistics_wowCount', 'statistics_hahaCount', 'statistics_sadCount',\n",
    "       'statistics_angryCount', 'statistics_thankfulCount',\n",
    "       'statistics_careCount']\n",
    "news_df = df_final[final_cols].drop_duplicates()"
   ]
  },
  {
   "cell_type": "code",
   "execution_count": 14,
   "metadata": {},
   "outputs": [
    {
     "data": {
      "text/plain": [
       "440477"
      ]
     },
     "execution_count": 14,
     "metadata": {},
     "output_type": "execute_result"
    }
   ],
   "source": [
    "len(news_df)"
   ]
  },
  {
   "cell_type": "code",
   "execution_count": 15,
   "metadata": {},
   "outputs": [],
   "source": [
    "### Loading NewsGuardTech Ratings\n",
    "with open(\"./data/ratings/newsguard-ratings.json\") as f:\n",
    "    ratings = f.read()\n",
    "ratings_data = json.loads(ratings)"
   ]
  },
  {
   "cell_type": "code",
   "execution_count": 16,
   "metadata": {},
   "outputs": [],
   "source": [
    "ratings_df = pd.DataFrame(ratings_data.items(), columns=['domain', 'rating'])"
   ]
  },
  {
   "cell_type": "code",
   "execution_count": 17,
   "metadata": {},
   "outputs": [],
   "source": [
    "## regex to extract valid urls\n",
    "exp = r'(?i)(.*h?t?tps?://)?(www\\.)?([A-Za-z_0-9.-]+).*'\n",
    "news_df['domain'] = news_df.expandedLinks.str.extract(exp, expand=True)[2]"
   ]
  },
  {
   "cell_type": "code",
   "execution_count": 18,
   "metadata": {},
   "outputs": [
    {
     "data": {
      "text/html": [
       "<div>\n",
       "<style scoped>\n",
       "    .dataframe tbody tr th:only-of-type {\n",
       "        vertical-align: middle;\n",
       "    }\n",
       "\n",
       "    .dataframe tbody tr th {\n",
       "        vertical-align: top;\n",
       "    }\n",
       "\n",
       "    .dataframe thead th {\n",
       "        text-align: right;\n",
       "    }\n",
       "</style>\n",
       "<table border=\"1\" class=\"dataframe\">\n",
       "  <thead>\n",
       "    <tr style=\"text-align: right;\">\n",
       "      <th></th>\n",
       "      <th>expandedLinks</th>\n",
       "      <th>domain</th>\n",
       "    </tr>\n",
       "  </thead>\n",
       "  <tbody>\n",
       "    <tr>\n",
       "      <th>0</th>\n",
       "      <td>https://www.latimes.com/california/story/2020-11-22/l-a-county-suspends-outdoor-dining-at-restaurants-as-coronavirus-surges</td>\n",
       "      <td>latimes.com</td>\n",
       "    </tr>\n",
       "    <tr>\n",
       "      <th>2</th>\n",
       "      <td>https://www.npr.org/2020/11/23/937956178/trump-administration-to-begin-biden-transition-protocols?utm_source=facebook.com&amp;utm_term=nprnews&amp;utm_campaign=npr&amp;utm_medium=social</td>\n",
       "      <td>npr.org</td>\n",
       "    </tr>\n",
       "    <tr>\n",
       "      <th>3</th>\n",
       "      <td>https://reut.rs/39bWCNG</td>\n",
       "      <td>reut.rs</td>\n",
       "    </tr>\n",
       "    <tr>\n",
       "      <th>4</th>\n",
       "      <td>https://m.youtube.com/watch?v=6BsluRkxs78&amp;feature=youtu.be</td>\n",
       "      <td>m.youtube.com</td>\n",
       "    </tr>\n",
       "    <tr>\n",
       "      <th>5</th>\n",
       "      <td>https://www.facebook.com/6442438662/posts/10157599122463663/?d=n</td>\n",
       "      <td>facebook.com</td>\n",
       "    </tr>\n",
       "    <tr>\n",
       "      <th>...</th>\n",
       "      <td>...</td>\n",
       "      <td>...</td>\n",
       "    </tr>\n",
       "    <tr>\n",
       "      <th>482611</th>\n",
       "      <td>https://www.newsleader.com/story/magnolia/taste/2020/11/20/deep-frying-turkey-tips-advice-time-temperature-size-safety-thanksgiving/6171599002/</td>\n",
       "      <td>newsleader.com</td>\n",
       "    </tr>\n",
       "    <tr>\n",
       "      <th>482612</th>\n",
       "      <td>https://scnow.com/news/national/watch-now-look-inside-massive-christmas-mansion-in-new-jersey-and-more-of-todays-top/collection_ca3251a1-e2ca-5275-acaa-2ad804792e7f.html?utm_campaign=snd-autopilot&amp;utm_medium=social&amp;utm_source=facebook_Morning_News</td>\n",
       "      <td>scnow.com</td>\n",
       "    </tr>\n",
       "    <tr>\n",
       "      <th>482613</th>\n",
       "      <td>https://scnow.com/sports/college/fmu-signs-athletes-for-baseball-womens-hoops/article_d37323d4-2de2-11eb-af76-9f1c501d5fb4.html?utm_campaign=snd-autopilot&amp;utm_medium=social&amp;utm_source=facebook_Morning_News</td>\n",
       "      <td>scnow.com</td>\n",
       "    </tr>\n",
       "    <tr>\n",
       "      <th>482614</th>\n",
       "      <td>https://scnow.com/sports/high-school/marion-rb-qualiek-crawford-on-quite-a-run-with-swamp-foxes/article_b153ba4e-2de1-11eb-bf7a-7f29b6c61193.html?utm_medium=social&amp;utm_source=facebook&amp;utm_campaign=user-share</td>\n",
       "      <td>scnow.com</td>\n",
       "    </tr>\n",
       "    <tr>\n",
       "      <th>482615</th>\n",
       "      <td>https://www.newsleader.com/story/news/2020/11/23/covid-cases-waynesboro-close-kate-collins-middle-school/6400673002/</td>\n",
       "      <td>newsleader.com</td>\n",
       "    </tr>\n",
       "  </tbody>\n",
       "</table>\n",
       "<p>440477 rows × 2 columns</p>\n",
       "</div>"
      ],
      "text/plain": [
       "                                                                                                                                                                                                                                                  expandedLinks  \\\n",
       "0                                                                                                                                   https://www.latimes.com/california/story/2020-11-22/l-a-county-suspends-outdoor-dining-at-restaurants-as-coronavirus-surges   \n",
       "2                                                                                 https://www.npr.org/2020/11/23/937956178/trump-administration-to-begin-biden-transition-protocols?utm_source=facebook.com&utm_term=nprnews&utm_campaign=npr&utm_medium=social   \n",
       "3                                                                                                                                                                                                                                       https://reut.rs/39bWCNG   \n",
       "4                                                                                                                                                                                                    https://m.youtube.com/watch?v=6BsluRkxs78&feature=youtu.be   \n",
       "5                                                                                                                                                                                              https://www.facebook.com/6442438662/posts/10157599122463663/?d=n   \n",
       "...                                                                                                                                                                                                                                                         ...   \n",
       "482611                                                                                                          https://www.newsleader.com/story/magnolia/taste/2020/11/20/deep-frying-turkey-tips-advice-time-temperature-size-safety-thanksgiving/6171599002/   \n",
       "482612  https://scnow.com/news/national/watch-now-look-inside-massive-christmas-mansion-in-new-jersey-and-more-of-todays-top/collection_ca3251a1-e2ca-5275-acaa-2ad804792e7f.html?utm_campaign=snd-autopilot&utm_medium=social&utm_source=facebook_Morning_News   \n",
       "482613                                            https://scnow.com/sports/college/fmu-signs-athletes-for-baseball-womens-hoops/article_d37323d4-2de2-11eb-af76-9f1c501d5fb4.html?utm_campaign=snd-autopilot&utm_medium=social&utm_source=facebook_Morning_News   \n",
       "482614                                          https://scnow.com/sports/high-school/marion-rb-qualiek-crawford-on-quite-a-run-with-swamp-foxes/article_b153ba4e-2de1-11eb-bf7a-7f29b6c61193.html?utm_medium=social&utm_source=facebook&utm_campaign=user-share   \n",
       "482615                                                                                                                                     https://www.newsleader.com/story/news/2020/11/23/covid-cases-waynesboro-close-kate-collins-middle-school/6400673002/   \n",
       "\n",
       "                domain  \n",
       "0          latimes.com  \n",
       "2              npr.org  \n",
       "3              reut.rs  \n",
       "4        m.youtube.com  \n",
       "5         facebook.com  \n",
       "...                ...  \n",
       "482611  newsleader.com  \n",
       "482612       scnow.com  \n",
       "482613       scnow.com  \n",
       "482614       scnow.com  \n",
       "482615  newsleader.com  \n",
       "\n",
       "[440477 rows x 2 columns]"
      ]
     },
     "execution_count": 18,
     "metadata": {},
     "output_type": "execute_result"
    }
   ],
   "source": [
    "news_df[['expandedLinks', 'domain']]"
   ]
  },
  {
   "cell_type": "code",
   "execution_count": 19,
   "metadata": {},
   "outputs": [],
   "source": [
    "def extract_domain(url):\n",
    "    exp = r'(?i)(.*h?t?tps?://)?(www\\.)?([A-Za-z_0-9.-]+).*'\n",
    "    try:\n",
    "        search = re.search(exp, url, re.IGNORECASE)\n",
    "        return search.groups()[2]\n",
    "    except Exception as e:\n",
    "        print(f'Exception for {url} - {e}')"
   ]
  },
  {
   "cell_type": "code",
   "execution_count": 20,
   "metadata": {},
   "outputs": [],
   "source": [
    "def get_extended_url(url):\n",
    "    extended_url = ''\n",
    "    domain = ''\n",
    "    try:\n",
    "        extended_url = requests.head(url).headers['location']\n",
    "    except (KeyError, TypeError) as e:\n",
    "        print(f'Key/Type Exception for {url} - {e}')\n",
    "    except requests.exceptions.MissingSchema as e:\n",
    "        print(f'Missing schema for {url}')\n",
    "        corrected_url =  'http://'+url\n",
    "        extended_url = requests.head(corrected_url).headers['location']\n",
    "    except Exception as e:\n",
    "        print(f'Exception for {url} - {e}')\n",
    "    domain = extract_domain(extended_url)    \n",
    "    if domain and domain in ['trib.al', 'bit.ly', 'tinyurl.com']:\n",
    "        extended_url = requests.head(extended_url).headers['location']\n",
    "        domain = extract_domain(extended_url)\n",
    "    return extended_url, domain"
   ]
  },
  {
   "cell_type": "code",
   "execution_count": 21,
   "metadata": {},
   "outputs": [],
   "source": [
    "def cleanup_url(url):\n",
    "    pos = url.find('https')\n",
    "    if url[-1] == '.':\n",
    "        url = url[0:-1]\n",
    "    if pos > 0:\n",
    "        return url[pos:]\n",
    "    return url"
   ]
  },
  {
   "cell_type": "code",
   "execution_count": 22,
   "metadata": {},
   "outputs": [],
   "source": [
    "#### Expanding short urls to obtain the correct domain\n",
    "to_get_expanded_url = news_df[news_df.domain.isin(['trib.al', 'bit.ly', 'tinyurl.com'])][['id', 'expandedLinks', 'domain']]\n",
    "short_url_list = to_get_expanded_url.expandedLinks.unique().tolist()"
   ]
  },
  {
   "cell_type": "markdown",
   "metadata": {},
   "source": [
    "#### comment the following two cells after first run to avoid re-running the domain extraction"
   ]
  },
  {
   "cell_type": "code",
   "execution_count": 23,
   "metadata": {},
   "outputs": [],
   "source": [
    "short_expanded_url_map = {}"
   ]
  },
  {
   "cell_type": "code",
   "execution_count": 24,
   "metadata": {},
   "outputs": [
    {
     "name": "stdout",
     "output_type": "stream",
     "text": [
      "Key/Type Exception for https://bit.ly/2UUkb5sd - 'location'\n",
      "Exception for  - 'NoneType' object has no attribute 'groups'\n",
      "Missing schema for bit.ly/2UeUZGn\n",
      "Missing schema for bit.ly/3kvwlMg\n",
      "Missing schema for bit.ly/3f2c7IQ\n",
      "Missing schema for tinyurl.com/AFSFilm5\n",
      "Missing schema for tinyurl.com/Antiracist-events-Ventura\n",
      "Key/Type Exception for https://bit.ly/KapucnisFels - 'location'\n",
      "Exception for  - 'NoneType' object has no attribute 'groups'\n",
      "Key/Type Exception for https://bit.ly/MagasSz - 'location'\n",
      "Exception for  - 'NoneType' object has no attribute 'groups'\n",
      "Missing schema for bit.ly/3i7mV9w\n",
      "Key/Type Exception for https://bit.ly/33c12R - 'location'\n",
      "Exception for  - 'NoneType' object has no attribute 'groups'\n",
      "Key/Type Exception for https://bit.ly/Amashop - 'location'\n",
      "Exception for  - 'NoneType' object has no attribute 'groups'\n",
      "Missing schema for bit.ly/2yoeS6c\n",
      "Missing schema for bit.ly/2vBUvAS\n",
      "Key/Type Exception for https://bit.ly/2vaBUvAS - 'location'\n",
      "Exception for  - 'NoneType' object has no attribute 'groups'\n",
      "Missing schema for tinyurl.com/JSETqos\n",
      "Key/Type Exception for https://bit.ly/3pWBqB - 'location'\n",
      "Exception for  - 'NoneType' object has no attribute 'groups'\n",
      "Key/Type Exception for https://bit.ly/2kzjjATSubscribe - 'location'\n",
      "Exception for  - 'NoneType' object has no attribute 'groups'\n",
      "Key/Type Exception for https://bit.ly/2IXqEInStream - 'location'\n",
      "Exception for  - 'NoneType' object has no attribute 'groups'\n",
      "Missing schema for bit.ly/32Tf9KR\n",
      "Missing schema for bit.ly/2zlWlb6\n",
      "Missing schema for tinyurl.com/CapitalSwing\n",
      "Missing schema for tinyurl.com/CapitalSwingSite\n",
      "Key/Type Exception for https://bit.ly/3l28eVNDeleware - 'location'\n",
      "Exception for  - 'NoneType' object has no attribute 'groups'\n",
      "Key/Type Exception for http://bit.ly/Belcourt-health-safety - 'location'\n",
      "Exception for  - 'NoneType' object has no attribute 'groups'\n",
      "Key/Type Exception for https://bit.ly/3fq1j7Ib - 'location'\n",
      "Exception for  - 'NoneType' object has no attribute 'groups'\n",
      "Missing schema for tinyurl.com/BlockingTheToll\n",
      "Missing schema for bit.ly/BeaufortCountyZIP\n"
     ]
    }
   ],
   "source": [
    "for url in short_url_list:\n",
    "    if url not in short_expanded_url_map.keys():\n",
    "        expanded_url, domain = get_extended_url(cleanup_url(url))\n",
    "        if expanded_url != '':\n",
    "            short_expanded_url_map[url] = [expanded_url, domain]"
   ]
  },
  {
   "cell_type": "markdown",
   "metadata": {},
   "source": [
    "#### comment the first line and uncomment the second line after first run to load the map from store"
   ]
  },
  {
   "cell_type": "code",
   "execution_count": 25,
   "metadata": {},
   "outputs": [],
   "source": [
    "# %store short_expanded_url_map\n",
    "# %store -r short_expanded_url_map"
   ]
  },
  {
   "cell_type": "code",
   "execution_count": 26,
   "metadata": {},
   "outputs": [],
   "source": [
    "data = [[short_url, val[1]]\n",
    "        for short_url, val in short_expanded_url_map.items()]\n",
    "corrected_domain_df = pd.DataFrame(data, columns=['expandedLinks', 'corrected_domain'])"
   ]
  },
  {
   "cell_type": "code",
   "execution_count": 27,
   "metadata": {},
   "outputs": [],
   "source": [
    "news_updated_domain_df = pd.merge(news_df,corrected_domain_df,how='left',left_on=['expandedLinks'],right_on=['expandedLinks'])\n",
    "news_updated_domain_df['domain'] = np.where(news_updated_domain_df['corrected_domain'].notnull(), news_updated_domain_df['corrected_domain'], news_updated_domain_df['domain'])\n",
    "news_updated_domain_df = news_updated_domain_df.drop(columns=['corrected_domain'])"
   ]
  },
  {
   "cell_type": "code",
   "execution_count": 28,
   "metadata": {},
   "outputs": [],
   "source": [
    "### Joining news_updated_domain_df with ratings_df\n",
    "news_ratings_df = pd.merge(news_updated_domain_df,ratings_df,how='left',left_on=['domain'],right_on=['domain'])"
   ]
  },
  {
   "cell_type": "code",
   "execution_count": 29,
   "metadata": {},
   "outputs": [],
   "source": [
    "news_ratings_df_filtered = news_ratings_df[news_ratings_df['rating'].notna()]"
   ]
  },
  {
   "cell_type": "code",
   "execution_count": 30,
   "metadata": {},
   "outputs": [
    {
     "name": "stderr",
     "output_type": "stream",
     "text": [
      "<ipython-input-30-801278aae509>:1: SettingWithCopyWarning: \n",
      "A value is trying to be set on a copy of a slice from a DataFrame.\n",
      "Try using .loc[row_indexer,col_indexer] = value instead\n",
      "\n",
      "See the caveats in the documentation: https://pandas.pydata.org/pandas-docs/stable/user_guide/indexing.html#returning-a-view-versus-a-copy\n",
      "  news_ratings_df_filtered['credible'] = news_ratings_df_filtered.rating.apply(lambda x: True if x >= 60 else False)\n"
     ]
    }
   ],
   "source": [
    "news_ratings_df_filtered['credible'] = news_ratings_df_filtered.rating.apply(lambda x: True if x >= 60 else False)"
   ]
  },
  {
   "cell_type": "code",
   "execution_count": 31,
   "metadata": {},
   "outputs": [
    {
     "data": {
      "text/html": [
       "<div>\n",
       "<style scoped>\n",
       "    .dataframe tbody tr th:only-of-type {\n",
       "        vertical-align: middle;\n",
       "    }\n",
       "\n",
       "    .dataframe tbody tr th {\n",
       "        vertical-align: top;\n",
       "    }\n",
       "\n",
       "    .dataframe thead th {\n",
       "        text-align: right;\n",
       "    }\n",
       "</style>\n",
       "<table border=\"1\" class=\"dataframe\">\n",
       "  <thead>\n",
       "    <tr style=\"text-align: right;\">\n",
       "      <th></th>\n",
       "      <th>id</th>\n",
       "      <th>date</th>\n",
       "      <th>updated</th>\n",
       "      <th>title</th>\n",
       "      <th>caption</th>\n",
       "      <th>expandedLinks</th>\n",
       "      <th>link</th>\n",
       "      <th>postUrl</th>\n",
       "      <th>subscriberCount</th>\n",
       "      <th>score</th>\n",
       "      <th>account_id</th>\n",
       "      <th>account_name</th>\n",
       "      <th>account_handle</th>\n",
       "      <th>account_subscriberCount</th>\n",
       "      <th>account_url</th>\n",
       "      <th>account_accountType</th>\n",
       "      <th>account_pageAdminTopCountry</th>\n",
       "      <th>account_verified</th>\n",
       "      <th>statistics_likeCount</th>\n",
       "      <th>statistics_shareCount</th>\n",
       "      <th>statistics_commentCount</th>\n",
       "      <th>statistics_loveCount</th>\n",
       "      <th>statistics_wowCount</th>\n",
       "      <th>statistics_hahaCount</th>\n",
       "      <th>statistics_sadCount</th>\n",
       "      <th>statistics_angryCount</th>\n",
       "      <th>statistics_thankfulCount</th>\n",
       "      <th>statistics_careCount</th>\n",
       "      <th>domain</th>\n",
       "      <th>rating</th>\n",
       "      <th>credible</th>\n",
       "    </tr>\n",
       "  </thead>\n",
       "  <tbody>\n",
       "    <tr>\n",
       "      <th>0</th>\n",
       "      <td>111622404459</td>\n",
       "      <td>2020-11-22 23:59:49</td>\n",
       "      <td>2020-11-25 18:13:36</td>\n",
       "      <td>L.A. County suspends outdoor dining at restaurants as coronavirus surges</td>\n",
       "      <td>latimes.com</td>\n",
       "      <td>https://www.latimes.com/california/story/2020-11-22/l-a-county-suspends-outdoor-dining-at-restaurants-as-coronavirus-surges</td>\n",
       "      <td>https://www.latimes.com/california/story/2020-11-22/l-a-county-suspends-outdoor-dining-at-restaurants-as-coronavirus-surges</td>\n",
       "      <td>https://www.facebook.com/edgarreece/posts/3504433216313464</td>\n",
       "      <td>2351</td>\n",
       "      <td>3.739130</td>\n",
       "      <td>4619429</td>\n",
       "      <td>Council Member Ed Reece</td>\n",
       "      <td>edgarreece</td>\n",
       "      <td>2354</td>\n",
       "      <td>https://www.facebook.com/165175133572639</td>\n",
       "      <td>facebook_page</td>\n",
       "      <td>US</td>\n",
       "      <td>True</td>\n",
       "      <td>9</td>\n",
       "      <td>32</td>\n",
       "      <td>23</td>\n",
       "      <td>0</td>\n",
       "      <td>2</td>\n",
       "      <td>1</td>\n",
       "      <td>9</td>\n",
       "      <td>10</td>\n",
       "      <td>0</td>\n",
       "      <td>0</td>\n",
       "      <td>latimes.com</td>\n",
       "      <td>100.0</td>\n",
       "      <td>True</td>\n",
       "    </tr>\n",
       "    <tr>\n",
       "      <th>1</th>\n",
       "      <td>111678477449</td>\n",
       "      <td>2020-11-23 23:59:58</td>\n",
       "      <td>2020-11-25 18:17:53</td>\n",
       "      <td>Trump Administration To Begin Biden Transition Protocols</td>\n",
       "      <td>npr.org</td>\n",
       "      <td>https://www.npr.org/2020/11/23/937956178/trump-administration-to-begin-biden-transition-protocols?utm_source=facebook.com&amp;utm_term=nprnews&amp;utm_campaign=npr&amp;utm_medium=social</td>\n",
       "      <td>https://www.npr.org/2020/11/23/937956178/trump-administration-to-begin-biden-transition-protocols?utm_source=facebook.com&amp;utm_term=nprnews&amp;utm_campaign=npr&amp;utm_medium=social</td>\n",
       "      <td>https://www.facebook.com/OccupySpokane/posts/3477341109030911</td>\n",
       "      <td>21775</td>\n",
       "      <td>2.333333</td>\n",
       "      <td>4619429</td>\n",
       "      <td>Council Member Ed Reece</td>\n",
       "      <td>edgarreece</td>\n",
       "      <td>2354</td>\n",
       "      <td>https://www.facebook.com/165175133572639</td>\n",
       "      <td>facebook_page</td>\n",
       "      <td>US</td>\n",
       "      <td>True</td>\n",
       "      <td>9</td>\n",
       "      <td>32</td>\n",
       "      <td>23</td>\n",
       "      <td>0</td>\n",
       "      <td>2</td>\n",
       "      <td>1</td>\n",
       "      <td>9</td>\n",
       "      <td>10</td>\n",
       "      <td>0</td>\n",
       "      <td>0</td>\n",
       "      <td>npr.org</td>\n",
       "      <td>100.0</td>\n",
       "      <td>True</td>\n",
       "    </tr>\n",
       "    <tr>\n",
       "      <th>2</th>\n",
       "      <td>111737873253</td>\n",
       "      <td>2020-11-24 23:59:23</td>\n",
       "      <td>2020-11-25 16:15:55</td>\n",
       "      <td>Russia, eyeing foreign markets, says Sputnik COVID-19 vaccine to cost under $20</td>\n",
       "      <td>reuters.com</td>\n",
       "      <td>https://reut.rs/39bWCNG</td>\n",
       "      <td>https://reut.rs/39bWCNG</td>\n",
       "      <td>https://www.facebook.com/groups/335017933691230/permalink/962329240960093</td>\n",
       "      <td>18498</td>\n",
       "      <td>-21.000000</td>\n",
       "      <td>4619429</td>\n",
       "      <td>Council Member Ed Reece</td>\n",
       "      <td>edgarreece</td>\n",
       "      <td>2354</td>\n",
       "      <td>https://www.facebook.com/165175133572639</td>\n",
       "      <td>facebook_page</td>\n",
       "      <td>US</td>\n",
       "      <td>True</td>\n",
       "      <td>9</td>\n",
       "      <td>32</td>\n",
       "      <td>23</td>\n",
       "      <td>0</td>\n",
       "      <td>2</td>\n",
       "      <td>1</td>\n",
       "      <td>9</td>\n",
       "      <td>10</td>\n",
       "      <td>0</td>\n",
       "      <td>0</td>\n",
       "      <td>reut.rs</td>\n",
       "      <td>100.0</td>\n",
       "      <td>True</td>\n",
       "    </tr>\n",
       "    <tr>\n",
       "      <th>5</th>\n",
       "      <td>111622415061</td>\n",
       "      <td>2020-11-22 23:59:48</td>\n",
       "      <td>2020-11-25 18:11:01</td>\n",
       "      <td>This is a re-share of a post</td>\n",
       "      <td>NaN</td>\n",
       "      <td>https://www.businessinsider.com/china-emotional-surveillance-technology-2018-4</td>\n",
       "      <td>https://www.facebook.com/100576118560804/posts/100621611889588/</td>\n",
       "      <td>https://www.facebook.com/groups/378361242549568/permalink/1253075498411467</td>\n",
       "      <td>388</td>\n",
       "      <td>-0.750000</td>\n",
       "      <td>12571754</td>\n",
       "      <td>Australia &amp; New Zealand Geoengineering Watch</td>\n",
       "      <td>NaN</td>\n",
       "      <td>388</td>\n",
       "      <td>https://www.facebook.com/groups/378361242549568</td>\n",
       "      <td>facebook_group</td>\n",
       "      <td>NaN</td>\n",
       "      <td>False</td>\n",
       "      <td>103</td>\n",
       "      <td>11</td>\n",
       "      <td>3</td>\n",
       "      <td>15</td>\n",
       "      <td>0</td>\n",
       "      <td>1</td>\n",
       "      <td>0</td>\n",
       "      <td>0</td>\n",
       "      <td>0</td>\n",
       "      <td>0</td>\n",
       "      <td>businessinsider.com</td>\n",
       "      <td>100.0</td>\n",
       "      <td>True</td>\n",
       "    </tr>\n",
       "    <tr>\n",
       "      <th>8</th>\n",
       "      <td>111622415061</td>\n",
       "      <td>2020-11-22 23:59:48</td>\n",
       "      <td>2020-11-25 18:11:01</td>\n",
       "      <td>This is a re-share of a post</td>\n",
       "      <td>NaN</td>\n",
       "      <td>https://www.wsj.com/articles/chinas-efforts-to-lead-the-way-in-ai-start-in-its-classrooms-11571958181</td>\n",
       "      <td>https://www.facebook.com/100576118560804/posts/100621611889588/</td>\n",
       "      <td>https://www.facebook.com/groups/378361242549568/permalink/1253075498411467</td>\n",
       "      <td>388</td>\n",
       "      <td>-0.750000</td>\n",
       "      <td>12571754</td>\n",
       "      <td>Australia &amp; New Zealand Geoengineering Watch</td>\n",
       "      <td>NaN</td>\n",
       "      <td>388</td>\n",
       "      <td>https://www.facebook.com/groups/378361242549568</td>\n",
       "      <td>facebook_group</td>\n",
       "      <td>NaN</td>\n",
       "      <td>False</td>\n",
       "      <td>103</td>\n",
       "      <td>11</td>\n",
       "      <td>3</td>\n",
       "      <td>15</td>\n",
       "      <td>0</td>\n",
       "      <td>1</td>\n",
       "      <td>0</td>\n",
       "      <td>0</td>\n",
       "      <td>0</td>\n",
       "      <td>0</td>\n",
       "      <td>wsj.com</td>\n",
       "      <td>100.0</td>\n",
       "      <td>True</td>\n",
       "    </tr>\n",
       "  </tbody>\n",
       "</table>\n",
       "</div>"
      ],
      "text/plain": [
       "             id                date              updated  \\\n",
       "0  111622404459 2020-11-22 23:59:49  2020-11-25 18:13:36   \n",
       "1  111678477449 2020-11-23 23:59:58  2020-11-25 18:17:53   \n",
       "2  111737873253 2020-11-24 23:59:23  2020-11-25 16:15:55   \n",
       "5  111622415061 2020-11-22 23:59:48  2020-11-25 18:11:01   \n",
       "8  111622415061 2020-11-22 23:59:48  2020-11-25 18:11:01   \n",
       "\n",
       "                                                                             title  \\\n",
       "0         L.A. County suspends outdoor dining at restaurants as coronavirus surges   \n",
       "1                         Trump Administration To Begin Biden Transition Protocols   \n",
       "2  Russia, eyeing foreign markets, says Sputnik COVID-19 vaccine to cost under $20   \n",
       "5                                                     This is a re-share of a post   \n",
       "8                                                     This is a re-share of a post   \n",
       "\n",
       "       caption  \\\n",
       "0  latimes.com   \n",
       "1      npr.org   \n",
       "2  reuters.com   \n",
       "5          NaN   \n",
       "8          NaN   \n",
       "\n",
       "                                                                                                                                                                   expandedLinks  \\\n",
       "0                                                    https://www.latimes.com/california/story/2020-11-22/l-a-county-suspends-outdoor-dining-at-restaurants-as-coronavirus-surges   \n",
       "1  https://www.npr.org/2020/11/23/937956178/trump-administration-to-begin-biden-transition-protocols?utm_source=facebook.com&utm_term=nprnews&utm_campaign=npr&utm_medium=social   \n",
       "2                                                                                                                                                        https://reut.rs/39bWCNG   \n",
       "5                                                                                                 https://www.businessinsider.com/china-emotional-surveillance-technology-2018-4   \n",
       "8                                                                          https://www.wsj.com/articles/chinas-efforts-to-lead-the-way-in-ai-start-in-its-classrooms-11571958181   \n",
       "\n",
       "                                                                                                                                                                            link  \\\n",
       "0                                                    https://www.latimes.com/california/story/2020-11-22/l-a-county-suspends-outdoor-dining-at-restaurants-as-coronavirus-surges   \n",
       "1  https://www.npr.org/2020/11/23/937956178/trump-administration-to-begin-biden-transition-protocols?utm_source=facebook.com&utm_term=nprnews&utm_campaign=npr&utm_medium=social   \n",
       "2                                                                                                                                                        https://reut.rs/39bWCNG   \n",
       "5                                                                                                                https://www.facebook.com/100576118560804/posts/100621611889588/   \n",
       "8                                                                                                                https://www.facebook.com/100576118560804/posts/100621611889588/   \n",
       "\n",
       "                                                                      postUrl  \\\n",
       "0                  https://www.facebook.com/edgarreece/posts/3504433216313464   \n",
       "1               https://www.facebook.com/OccupySpokane/posts/3477341109030911   \n",
       "2   https://www.facebook.com/groups/335017933691230/permalink/962329240960093   \n",
       "5  https://www.facebook.com/groups/378361242549568/permalink/1253075498411467   \n",
       "8  https://www.facebook.com/groups/378361242549568/permalink/1253075498411467   \n",
       "\n",
       "   subscriberCount      score  account_id  \\\n",
       "0             2351   3.739130     4619429   \n",
       "1            21775   2.333333     4619429   \n",
       "2            18498 -21.000000     4619429   \n",
       "5              388  -0.750000    12571754   \n",
       "8              388  -0.750000    12571754   \n",
       "\n",
       "                                   account_name account_handle  \\\n",
       "0                       Council Member Ed Reece     edgarreece   \n",
       "1                       Council Member Ed Reece     edgarreece   \n",
       "2                       Council Member Ed Reece     edgarreece   \n",
       "5  Australia & New Zealand Geoengineering Watch            NaN   \n",
       "8  Australia & New Zealand Geoengineering Watch            NaN   \n",
       "\n",
       "   account_subscriberCount                                      account_url  \\\n",
       "0                     2354         https://www.facebook.com/165175133572639   \n",
       "1                     2354         https://www.facebook.com/165175133572639   \n",
       "2                     2354         https://www.facebook.com/165175133572639   \n",
       "5                      388  https://www.facebook.com/groups/378361242549568   \n",
       "8                      388  https://www.facebook.com/groups/378361242549568   \n",
       "\n",
       "  account_accountType account_pageAdminTopCountry  account_verified  \\\n",
       "0       facebook_page                          US              True   \n",
       "1       facebook_page                          US              True   \n",
       "2       facebook_page                          US              True   \n",
       "5      facebook_group                         NaN             False   \n",
       "8      facebook_group                         NaN             False   \n",
       "\n",
       "   statistics_likeCount  statistics_shareCount  statistics_commentCount  \\\n",
       "0                     9                     32                       23   \n",
       "1                     9                     32                       23   \n",
       "2                     9                     32                       23   \n",
       "5                   103                     11                        3   \n",
       "8                   103                     11                        3   \n",
       "\n",
       "   statistics_loveCount  statistics_wowCount  statistics_hahaCount  \\\n",
       "0                     0                    2                     1   \n",
       "1                     0                    2                     1   \n",
       "2                     0                    2                     1   \n",
       "5                    15                    0                     1   \n",
       "8                    15                    0                     1   \n",
       "\n",
       "   statistics_sadCount  statistics_angryCount  statistics_thankfulCount  \\\n",
       "0                    9                     10                         0   \n",
       "1                    9                     10                         0   \n",
       "2                    9                     10                         0   \n",
       "5                    0                      0                         0   \n",
       "8                    0                      0                         0   \n",
       "\n",
       "   statistics_careCount               domain  rating  credible  \n",
       "0                     0          latimes.com   100.0      True  \n",
       "1                     0              npr.org   100.0      True  \n",
       "2                     0              reut.rs   100.0      True  \n",
       "5                     0  businessinsider.com   100.0      True  \n",
       "8                     0              wsj.com   100.0      True  "
      ]
     },
     "execution_count": 31,
     "metadata": {},
     "output_type": "execute_result"
    }
   ],
   "source": [
    "news_ratings_df_filtered.head()"
   ]
  },
  {
   "cell_type": "code",
   "execution_count": 32,
   "metadata": {},
   "outputs": [],
   "source": [
    "news_ratings_df_filtered.to_csv('news_ratings_df_filtered.csv', index=False)"
   ]
  },
  {
   "cell_type": "code",
   "execution_count": 33,
   "metadata": {},
   "outputs": [],
   "source": [
    "# %store news_ratings_df_filtered\n",
    "# %store -r news_ratings_df_filtered"
   ]
  },
  {
   "cell_type": "code",
   "execution_count": null,
   "metadata": {},
   "outputs": [],
   "source": []
  },
  {
   "cell_type": "markdown",
   "metadata": {},
   "source": [
    "## Analysis"
   ]
  },
  {
   "cell_type": "code",
   "execution_count": 34,
   "metadata": {},
   "outputs": [],
   "source": [
    "import os\n",
    "\n",
    "if not os.path.exists(\"images\"):\n",
    "    os.mkdir(\"images\")"
   ]
  },
  {
   "cell_type": "code",
   "execution_count": 35,
   "metadata": {},
   "outputs": [],
   "source": [
    "pd.options.plotting.backend = \"plotly\"\n",
    "## set svg_option = None to disable svg and to obtain larger plots with interactive values\n",
    "svg_option = \"svg\""
   ]
  },
  {
   "cell_type": "code",
   "execution_count": 36,
   "metadata": {},
   "outputs": [],
   "source": [
    "news_ratings_data = news_ratings_df_filtered"
   ]
  },
  {
   "cell_type": "code",
   "execution_count": 37,
   "metadata": {},
   "outputs": [],
   "source": [
    "# %store news_ratings_data\n",
    "# %store -r news_ratings_data"
   ]
  },
  {
   "cell_type": "markdown",
   "metadata": {},
   "source": [
    "#### percentage of credible and non-credible domains in unique domains"
   ]
  },
  {
   "cell_type": "code",
   "execution_count": 38,
   "metadata": {},
   "outputs": [],
   "source": [
    "newsguard_domains_count = news_ratings_data[['domain', 'credible']].groupby('credible').domain.nunique().reset_index().sort_values('credible', ascending=False)"
   ]
  },
  {
   "cell_type": "code",
   "execution_count": 39,
   "metadata": {},
   "outputs": [
    {
     "data": {
      "text/html": [
       "<div>\n",
       "<style scoped>\n",
       "    .dataframe tbody tr th:only-of-type {\n",
       "        vertical-align: middle;\n",
       "    }\n",
       "\n",
       "    .dataframe tbody tr th {\n",
       "        vertical-align: top;\n",
       "    }\n",
       "\n",
       "    .dataframe thead th {\n",
       "        text-align: right;\n",
       "    }\n",
       "</style>\n",
       "<table border=\"1\" class=\"dataframe\">\n",
       "  <thead>\n",
       "    <tr style=\"text-align: right;\">\n",
       "      <th></th>\n",
       "      <th>credible</th>\n",
       "      <th>domain</th>\n",
       "      <th>percentage</th>\n",
       "    </tr>\n",
       "  </thead>\n",
       "  <tbody>\n",
       "    <tr>\n",
       "      <th>1</th>\n",
       "      <td>True</td>\n",
       "      <td>999</td>\n",
       "      <td>96.708616</td>\n",
       "    </tr>\n",
       "    <tr>\n",
       "      <th>0</th>\n",
       "      <td>False</td>\n",
       "      <td>34</td>\n",
       "      <td>3.291384</td>\n",
       "    </tr>\n",
       "  </tbody>\n",
       "</table>\n",
       "</div>"
      ],
      "text/plain": [
       "   credible  domain  percentage\n",
       "1      True     999   96.708616\n",
       "0     False      34    3.291384"
      ]
     },
     "execution_count": 39,
     "metadata": {},
     "output_type": "execute_result"
    }
   ],
   "source": [
    "total_domains_count = newsguard_domains_count.domain[0]+newsguard_domains_count.domain[1]\n",
    "newsguard_domains_count['percentage'] = newsguard_domains_count.domain.apply(lambda x: x*100.0/total_domains_count)\n",
    "newsguard_domains_count"
   ]
  },
  {
   "cell_type": "markdown",
   "metadata": {},
   "source": [
    "### General Characterization"
   ]
  },
  {
   "cell_type": "code",
   "execution_count": 40,
   "metadata": {},
   "outputs": [
    {
     "data": {
      "text/plain": [
       "Index(['id', 'date', 'updated', 'title', 'caption', 'expandedLinks', 'link',\n",
       "       'postUrl', 'subscriberCount', 'score', 'account_id', 'account_name',\n",
       "       'account_handle', 'account_subscriberCount', 'account_url',\n",
       "       'account_accountType', 'account_pageAdminTopCountry',\n",
       "       'account_verified', 'statistics_likeCount', 'statistics_shareCount',\n",
       "       'statistics_commentCount', 'statistics_loveCount',\n",
       "       'statistics_wowCount', 'statistics_hahaCount', 'statistics_sadCount',\n",
       "       'statistics_angryCount', 'statistics_thankfulCount',\n",
       "       'statistics_careCount', 'domain', 'rating', 'credible'],\n",
       "      dtype='object')"
      ]
     },
     "execution_count": 40,
     "metadata": {},
     "output_type": "execute_result"
    }
   ],
   "source": [
    "news_ratings_data.columns"
   ]
  },
  {
   "cell_type": "code",
   "execution_count": 41,
   "metadata": {},
   "outputs": [
    {
     "name": "stdout",
     "output_type": "stream",
     "text": [
      "#Unique Posts:  331837\n"
     ]
    }
   ],
   "source": [
    "### number of posts\n",
    "posts = news_ratings_data['id']\n",
    "unique_posts = len(posts.unique())\n",
    "print('#Unique Posts: ', unique_posts)"
   ]
  },
  {
   "cell_type": "code",
   "execution_count": 42,
   "metadata": {},
   "outputs": [
    {
     "name": "stdout",
     "output_type": "stream",
     "text": [
      "#Total URLs:  340929\n",
      "#Unique URLs:  182375\n"
     ]
    }
   ],
   "source": [
    "### number of unique URLs\n",
    "urls = news_ratings_data['expandedLinks']\n",
    "print('#Total URLs: ', len(urls))\n",
    "print('#Unique URLs: ', len(urls.unique()))"
   ]
  },
  {
   "cell_type": "code",
   "execution_count": 43,
   "metadata": {},
   "outputs": [
    {
     "name": "stdout",
     "output_type": "stream",
     "text": [
      "#Users:  40077\n"
     ]
    }
   ],
   "source": [
    "### number of users\n",
    "users = news_ratings_data['account_id']\n",
    "print('#Users: ', len(users.unique()))"
   ]
  },
  {
   "cell_type": "code",
   "execution_count": 44,
   "metadata": {},
   "outputs": [],
   "source": [
    "### number of credible and non-credible articles\n",
    "credibility_summary = news_ratings_data[['id', 'credible']].groupby('credible').count().sort_values('id', ascending=False).reset_index()"
   ]
  },
  {
   "cell_type": "markdown",
   "metadata": {},
   "source": [
    "#### % of Credible and Non-Credible Users"
   ]
  },
  {
   "cell_type": "code",
   "execution_count": 45,
   "metadata": {},
   "outputs": [
    {
     "data": {
      "text/html": [
       "<div>\n",
       "<style scoped>\n",
       "    .dataframe tbody tr th:only-of-type {\n",
       "        vertical-align: middle;\n",
       "    }\n",
       "\n",
       "    .dataframe tbody tr th {\n",
       "        vertical-align: top;\n",
       "    }\n",
       "\n",
       "    .dataframe thead th {\n",
       "        text-align: right;\n",
       "    }\n",
       "</style>\n",
       "<table border=\"1\" class=\"dataframe\">\n",
       "  <thead>\n",
       "    <tr style=\"text-align: right;\">\n",
       "      <th></th>\n",
       "      <th>credible</th>\n",
       "      <th>id</th>\n",
       "      <th>percentage</th>\n",
       "    </tr>\n",
       "  </thead>\n",
       "  <tbody>\n",
       "    <tr>\n",
       "      <th>0</th>\n",
       "      <td>True</td>\n",
       "      <td>320761</td>\n",
       "      <td>94.084399</td>\n",
       "    </tr>\n",
       "    <tr>\n",
       "      <th>1</th>\n",
       "      <td>False</td>\n",
       "      <td>20168</td>\n",
       "      <td>5.915601</td>\n",
       "    </tr>\n",
       "  </tbody>\n",
       "</table>\n",
       "</div>"
      ],
      "text/plain": [
       "   credible      id  percentage\n",
       "0      True  320761   94.084399\n",
       "1     False   20168    5.915601"
      ]
     },
     "execution_count": 45,
     "metadata": {},
     "output_type": "execute_result"
    }
   ],
   "source": [
    "total_credible_count = credibility_summary.id[0]+credibility_summary.id[1]\n",
    "credibility_summary['percentage'] = credibility_summary.id.apply(lambda x: x*100.0/total_credible_count)\n",
    "credibility_summary"
   ]
  },
  {
   "cell_type": "code",
   "execution_count": 46,
   "metadata": {},
   "outputs": [
    {
     "data": {
      "image/svg+xml": [
       "<svg class=\"main-svg\" xmlns=\"http://www.w3.org/2000/svg\" xmlns:xlink=\"http://www.w3.org/1999/xlink\" width=\"700\" height=\"450\" style=\"\" viewBox=\"0 0 700 450\"><rect x=\"0\" y=\"0\" width=\"700\" height=\"450\" style=\"fill: rgb(255, 255, 255); fill-opacity: 1;\"/><defs id=\"defs-13e0fc\"><g class=\"clips\"><clipPath id=\"clip13e0fcxyplot\" class=\"plotclip\"><rect width=\"540\" height=\"270\"/></clipPath><clipPath class=\"axesclip\" id=\"clip13e0fcx\"><rect x=\"80\" y=\"0\" width=\"540\" height=\"450\"/></clipPath><clipPath class=\"axesclip\" id=\"clip13e0fcy\"><rect x=\"0\" y=\"100\" width=\"700\" height=\"270\"/></clipPath><clipPath class=\"axesclip\" id=\"clip13e0fcxy\"><rect x=\"80\" y=\"100\" width=\"540\" height=\"270\"/></clipPath></g><g class=\"gradients\"/></defs><g class=\"bglayer\"><rect class=\"bg\" x=\"80\" y=\"100\" width=\"540\" height=\"270\" style=\"fill: rgb(229, 236, 246); fill-opacity: 1; stroke-width: 0;\"/></g><g class=\"layer-below\"><g class=\"imagelayer\"/><g class=\"shapelayer\"/></g><g class=\"cartesianlayer\"><g class=\"subplot xy\"><g class=\"layer-subplot\"><g class=\"shapelayer\"/><g class=\"imagelayer\"/></g><g class=\"gridlayer\"><g class=\"x\"><path class=\"xgrid crisp\" transform=\"translate(159.97,0)\" d=\"M0,100v270\" style=\"stroke: rgb(255, 255, 255); stroke-opacity: 1; stroke-width: 1px;\"/><path class=\"xgrid crisp\" transform=\"translate(239.93,0)\" d=\"M0,100v270\" style=\"stroke: rgb(255, 255, 255); stroke-opacity: 1; stroke-width: 1px;\"/><path class=\"xgrid crisp\" transform=\"translate(319.9,0)\" d=\"M0,100v270\" style=\"stroke: rgb(255, 255, 255); stroke-opacity: 1; stroke-width: 1px;\"/><path class=\"xgrid crisp\" transform=\"translate(399.86,0)\" d=\"M0,100v270\" style=\"stroke: rgb(255, 255, 255); stroke-opacity: 1; stroke-width: 1px;\"/><path class=\"xgrid crisp\" transform=\"translate(479.83,0)\" d=\"M0,100v270\" style=\"stroke: rgb(255, 255, 255); stroke-opacity: 1; stroke-width: 1px;\"/><path class=\"xgrid crisp\" transform=\"translate(559.8,0)\" d=\"M0,100v270\" style=\"stroke: rgb(255, 255, 255); stroke-opacity: 1; stroke-width: 1px;\"/></g><g class=\"y\"/></g><g class=\"zerolinelayer\"><path class=\"xzl zl crisp\" transform=\"translate(80,0)\" d=\"M0,100v270\" style=\"stroke: rgb(255, 255, 255); stroke-opacity: 1; stroke-width: 2px;\"/></g><path class=\"xlines-below\"/><path class=\"ylines-below\"/><g class=\"overlines-below\"/><g class=\"xaxislayer-below\"/><g class=\"yaxislayer-below\"/><g class=\"overaxes-below\"/><g class=\"plot\" transform=\"translate(80,100)\" clip-path=\"url('#clip13e0fcxyplot')\"><g class=\"barlayer mlayer\"><g class=\"trace bars\" style=\"opacity: 1;\"><g class=\"points\"><g class=\"point\"><path d=\"M0,256.5V148.5H513V256.5Z\" style=\"vector-effect: non-scaling-stroke; opacity: 1; stroke-width: 0.5px; fill: rgb(3, 152, 252); fill-opacity: 1; stroke: rgb(229, 236, 246); stroke-opacity: 1;\"/></g><g class=\"point\"><path d=\"M0,121.5V13.5H32.26V121.5Z\" style=\"vector-effect: non-scaling-stroke; opacity: 1; stroke-width: 0.5px; fill: rgb(3, 152, 252); fill-opacity: 1; stroke: rgb(229, 236, 246); stroke-opacity: 1;\"/></g></g></g></g></g><g class=\"overplot\"/><path class=\"xlines-above crisp\" d=\"M0,0\" style=\"fill: none;\"/><path class=\"ylines-above crisp\" d=\"M0,0\" style=\"fill: none;\"/><g class=\"overlines-above\"/><g class=\"xaxislayer-above\"><g class=\"xtick\"><text text-anchor=\"middle\" x=\"0\" y=\"383\" transform=\"translate(80,0)\" style=\"font-family: 'Open Sans', verdana, arial, sans-serif; font-size: 12px; fill: rgb(42, 63, 95); fill-opacity: 1; white-space: pre;\">0</text></g><g class=\"xtick\"><text text-anchor=\"middle\" x=\"0\" y=\"383\" transform=\"translate(159.97,0)\" style=\"font-family: 'Open Sans', verdana, arial, sans-serif; font-size: 12px; fill: rgb(42, 63, 95); fill-opacity: 1; white-space: pre;\">50k</text></g><g class=\"xtick\"><text text-anchor=\"middle\" x=\"0\" y=\"383\" transform=\"translate(239.93,0)\" style=\"font-family: 'Open Sans', verdana, arial, sans-serif; font-size: 12px; fill: rgb(42, 63, 95); fill-opacity: 1; white-space: pre;\">100k</text></g><g class=\"xtick\"><text text-anchor=\"middle\" x=\"0\" y=\"383\" transform=\"translate(319.9,0)\" style=\"font-family: 'Open Sans', verdana, arial, sans-serif; font-size: 12px; fill: rgb(42, 63, 95); fill-opacity: 1; white-space: pre;\">150k</text></g><g class=\"xtick\"><text text-anchor=\"middle\" x=\"0\" y=\"383\" transform=\"translate(399.86,0)\" style=\"font-family: 'Open Sans', verdana, arial, sans-serif; font-size: 12px; fill: rgb(42, 63, 95); fill-opacity: 1; white-space: pre;\">200k</text></g><g class=\"xtick\"><text text-anchor=\"middle\" x=\"0\" y=\"383\" transform=\"translate(479.83,0)\" style=\"font-family: 'Open Sans', verdana, arial, sans-serif; font-size: 12px; fill: rgb(42, 63, 95); fill-opacity: 1; white-space: pre;\">250k</text></g><g class=\"xtick\"><text text-anchor=\"middle\" x=\"0\" y=\"383\" transform=\"translate(559.8,0)\" style=\"font-family: 'Open Sans', verdana, arial, sans-serif; font-size: 12px; fill: rgb(42, 63, 95); fill-opacity: 1; white-space: pre;\">300k</text></g></g><g class=\"yaxislayer-above\"><g class=\"ytick\"><text text-anchor=\"end\" x=\"79\" y=\"4.199999999999999\" transform=\"translate(0,302.5)\" style=\"font-family: 'Open Sans', verdana, arial, sans-serif; font-size: 12px; fill: rgb(42, 63, 95); fill-opacity: 1; white-space: pre;\">true</text></g><g class=\"ytick\"><text text-anchor=\"end\" x=\"79\" y=\"4.199999999999999\" transform=\"translate(0,167.5)\" style=\"font-family: 'Open Sans', verdana, arial, sans-serif; font-size: 12px; fill: rgb(42, 63, 95); fill-opacity: 1; white-space: pre;\">false</text></g></g><g class=\"overaxes-above\"/></g></g><g class=\"polarlayer\"/><g class=\"ternarylayer\"/><g class=\"geolayer\"/><g class=\"funnelarealayer\"/><g class=\"pielayer\"/><g class=\"treemaplayer\"/><g class=\"sunburstlayer\"/><g class=\"glimages\"/><defs id=\"topdefs-13e0fc\"><g class=\"clips\"/></defs><g class=\"layer-above\"><g class=\"imagelayer\"/><g class=\"shapelayer\"/></g><g class=\"infolayer\"><g class=\"g-gtitle\"><text class=\"gtitle\" x=\"35\" y=\"50\" text-anchor=\"start\" dy=\"0em\" style=\"font-family: 'Open Sans', verdana, arial, sans-serif; font-size: 17px; fill: rgb(42, 63, 95); opacity: 1; font-weight: normal; white-space: pre;\">Number of Credible and Non-Credible Posts</text></g><g class=\"g-xtitle\"><text class=\"xtitle\" x=\"350\" y=\"410.471875\" text-anchor=\"middle\" style=\"font-family: 'Open Sans', verdana, arial, sans-serif; font-size: 14px; fill: rgb(42, 63, 95); opacity: 1; font-weight: normal; white-space: pre;\">Number of Posts</text></g><g class=\"g-ytitle\"><text class=\"ytitle\" transform=\"rotate(-90,26.075000000000003,235)\" x=\"26.075000000000003\" y=\"235\" text-anchor=\"middle\" style=\"font-family: 'Open Sans', verdana, arial, sans-serif; font-size: 14px; fill: rgb(42, 63, 95); opacity: 1; font-weight: normal; white-space: pre;\">Credible</text></g></g></svg>"
      ]
     },
     "metadata": {},
     "output_type": "display_data"
    }
   ],
   "source": [
    "fig = go.Figure(data=go.Bar(x=credibility_summary.id, y=credibility_summary.credible, orientation='h', marker={'color':'#0398fc'}))\n",
    "fig.update_layout(\n",
    "    title=\"Number of Credible and Non-Credible Posts\",\n",
    "    yaxis_title=\"Credible\",\n",
    "    xaxis_title=\"Number of Posts\")\n",
    "fig.show(svg_option)"
   ]
  },
  {
   "cell_type": "code",
   "execution_count": 47,
   "metadata": {},
   "outputs": [],
   "source": [
    "fig.write_image(\"images/credible_noncredible_count.png\")"
   ]
  },
  {
   "cell_type": "code",
   "execution_count": 48,
   "metadata": {},
   "outputs": [
    {
     "name": "stderr",
     "output_type": "stream",
     "text": [
      "<ipython-input-48-8194e54b1b47>:1: SettingWithCopyWarning:\n",
      "\n",
      "\n",
      "A value is trying to be set on a copy of a slice from a DataFrame.\n",
      "Try using .loc[row_indexer,col_indexer] = value instead\n",
      "\n",
      "See the caveats in the documentation: https://pandas.pydata.org/pandas-docs/stable/user_guide/indexing.html#returning-a-view-versus-a-copy\n",
      "\n"
     ]
    }
   ],
   "source": [
    "news_ratings_data['date'] = pd.to_datetime(news_ratings_data.date)"
   ]
  },
  {
   "cell_type": "code",
   "execution_count": 49,
   "metadata": {},
   "outputs": [
    {
     "name": "stderr",
     "output_type": "stream",
     "text": [
      "<ipython-input-49-53a4266d08e7>:1: SettingWithCopyWarning:\n",
      "\n",
      "\n",
      "A value is trying to be set on a copy of a slice from a DataFrame.\n",
      "Try using .loc[row_indexer,col_indexer] = value instead\n",
      "\n",
      "See the caveats in the documentation: https://pandas.pydata.org/pandas-docs/stable/user_guide/indexing.html#returning-a-view-versus-a-copy\n",
      "\n"
     ]
    }
   ],
   "source": [
    "news_ratings_data['day'] = news_ratings_data.date.dt.floor('d')"
   ]
  },
  {
   "cell_type": "code",
   "execution_count": 50,
   "metadata": {},
   "outputs": [],
   "source": [
    "cred_df = pd.pivot_table(news_ratings_data, values = 'id', index = 'day',\n",
    "               columns = 'credible',aggfunc ='count').reset_index()"
   ]
  },
  {
   "cell_type": "code",
   "execution_count": 51,
   "metadata": {},
   "outputs": [
    {
     "data": {
      "text/html": [
       "<div>\n",
       "<style scoped>\n",
       "    .dataframe tbody tr th:only-of-type {\n",
       "        vertical-align: middle;\n",
       "    }\n",
       "\n",
       "    .dataframe tbody tr th {\n",
       "        vertical-align: top;\n",
       "    }\n",
       "\n",
       "    .dataframe thead th {\n",
       "        text-align: right;\n",
       "    }\n",
       "</style>\n",
       "<table border=\"1\" class=\"dataframe\">\n",
       "  <thead>\n",
       "    <tr style=\"text-align: right;\">\n",
       "      <th>credible</th>\n",
       "      <th>day</th>\n",
       "      <th>False</th>\n",
       "      <th>True</th>\n",
       "    </tr>\n",
       "  </thead>\n",
       "  <tbody>\n",
       "    <tr>\n",
       "      <th>0</th>\n",
       "      <td>2020-11-22</td>\n",
       "      <td>5912</td>\n",
       "      <td>85259</td>\n",
       "    </tr>\n",
       "    <tr>\n",
       "      <th>1</th>\n",
       "      <td>2020-11-23</td>\n",
       "      <td>6700</td>\n",
       "      <td>113136</td>\n",
       "    </tr>\n",
       "    <tr>\n",
       "      <th>2</th>\n",
       "      <td>2020-11-24</td>\n",
       "      <td>7556</td>\n",
       "      <td>122366</td>\n",
       "    </tr>\n",
       "  </tbody>\n",
       "</table>\n",
       "</div>"
      ],
      "text/plain": [
       "credible        day  False    True\n",
       "0        2020-11-22   5912   85259\n",
       "1        2020-11-23   6700  113136\n",
       "2        2020-11-24   7556  122366"
      ]
     },
     "execution_count": 51,
     "metadata": {},
     "output_type": "execute_result"
    }
   ],
   "source": [
    "cred_df.head()"
   ]
  },
  {
   "cell_type": "code",
   "execution_count": 52,
   "metadata": {},
   "outputs": [
    {
     "data": {
      "image/svg+xml": [
       "<svg class=\"main-svg\" xmlns=\"http://www.w3.org/2000/svg\" xmlns:xlink=\"http://www.w3.org/1999/xlink\" width=\"700\" height=\"450\" style=\"\" viewBox=\"0 0 700 450\"><rect x=\"0\" y=\"0\" width=\"700\" height=\"450\" style=\"fill: rgb(255, 255, 255); fill-opacity: 1;\"/><defs id=\"defs-a7f7d6\"><g class=\"clips\"><clipPath id=\"clipa7f7d6xyplot\" class=\"plotclip\"><rect width=\"476\" height=\"270\"/></clipPath><clipPath class=\"axesclip\" id=\"clipa7f7d6x\"><rect x=\"80\" y=\"0\" width=\"476\" height=\"450\"/></clipPath><clipPath class=\"axesclip\" id=\"clipa7f7d6y\"><rect x=\"0\" y=\"100\" width=\"700\" height=\"270\"/></clipPath><clipPath class=\"axesclip\" id=\"clipa7f7d6xy\"><rect x=\"80\" y=\"100\" width=\"476\" height=\"270\"/></clipPath></g><g class=\"gradients\"/></defs><g class=\"bglayer\"><rect class=\"bg\" x=\"80\" y=\"100\" width=\"476\" height=\"270\" style=\"fill: rgb(229, 236, 246); fill-opacity: 1; stroke-width: 0;\"/></g><g class=\"layer-below\"><g class=\"imagelayer\"/><g class=\"shapelayer\"/></g><g class=\"cartesianlayer\"><g class=\"subplot xy\"><g class=\"layer-subplot\"><g class=\"shapelayer\"/><g class=\"imagelayer\"/></g><g class=\"gridlayer\"><g class=\"x\"><path class=\"xgrid crisp\" transform=\"translate(199,0)\" d=\"M0,100v270\" style=\"stroke: rgb(255, 255, 255); stroke-opacity: 1; stroke-width: 1px;\"/><path class=\"xgrid crisp\" transform=\"translate(318,0)\" d=\"M0,100v270\" style=\"stroke: rgb(255, 255, 255); stroke-opacity: 1; stroke-width: 1px;\"/><path class=\"xgrid crisp\" transform=\"translate(437,0)\" d=\"M0,100v270\" style=\"stroke: rgb(255, 255, 255); stroke-opacity: 1; stroke-width: 1px;\"/></g><g class=\"y\"><path class=\"ygrid crisp\" transform=\"translate(0,355.32)\" d=\"M80,0h476\" style=\"stroke: rgb(255, 255, 255); stroke-opacity: 1; stroke-width: 1px;\"/><path class=\"ygrid crisp\" transform=\"translate(0,342.95)\" d=\"M80,0h476\" style=\"stroke: rgb(255, 255, 255); stroke-opacity: 1; stroke-width: 1px;\"/><path class=\"ygrid crisp\" transform=\"translate(0,332.24)\" d=\"M80,0h476\" style=\"stroke: rgb(255, 255, 255); stroke-opacity: 1; stroke-width: 1px;\"/><path class=\"ygrid crisp\" transform=\"translate(0,322.8)\" d=\"M80,0h476\" style=\"stroke: rgb(255, 255, 255); stroke-opacity: 1; stroke-width: 1px;\"/><path class=\"ygrid crisp\" transform=\"translate(0,314.35)\" d=\"M80,0h476\" style=\"stroke: rgb(255, 255, 255); stroke-opacity: 1; stroke-width: 1px;\"/><path class=\"ygrid crisp\" transform=\"translate(0,258.76)\" d=\"M80,0h476\" style=\"stroke: rgb(255, 255, 255); stroke-opacity: 1; stroke-width: 1px;\"/><path class=\"ygrid crisp\" transform=\"translate(0,226.24)\" d=\"M80,0h476\" style=\"stroke: rgb(255, 255, 255); stroke-opacity: 1; stroke-width: 1px;\"/><path class=\"ygrid crisp\" transform=\"translate(0,203.17000000000002)\" d=\"M80,0h476\" style=\"stroke: rgb(255, 255, 255); stroke-opacity: 1; stroke-width: 1px;\"/><path class=\"ygrid crisp\" transform=\"translate(0,185.28)\" d=\"M80,0h476\" style=\"stroke: rgb(255, 255, 255); stroke-opacity: 1; stroke-width: 1px;\"/><path class=\"ygrid crisp\" transform=\"translate(0,170.65)\" d=\"M80,0h476\" style=\"stroke: rgb(255, 255, 255); stroke-opacity: 1; stroke-width: 1px;\"/><path class=\"ygrid crisp\" transform=\"translate(0,158.29)\" d=\"M80,0h476\" style=\"stroke: rgb(255, 255, 255); stroke-opacity: 1; stroke-width: 1px;\"/><path class=\"ygrid crisp\" transform=\"translate(0,147.57999999999998)\" d=\"M80,0h476\" style=\"stroke: rgb(255, 255, 255); stroke-opacity: 1; stroke-width: 1px;\"/><path class=\"ygrid crisp\" transform=\"translate(0,138.14)\" d=\"M80,0h476\" style=\"stroke: rgb(255, 255, 255); stroke-opacity: 1; stroke-width: 1px;\"/><path class=\"ygrid crisp\" transform=\"translate(0,129.69)\" d=\"M80,0h476\" style=\"stroke: rgb(255, 255, 255); stroke-opacity: 1; stroke-width: 1px;\"/></g></g><g class=\"zerolinelayer\"/><path class=\"xlines-below\"/><path class=\"ylines-below\"/><g class=\"overlines-below\"/><g class=\"xaxislayer-below\"/><g class=\"yaxislayer-below\"/><g class=\"overaxes-below\"/><g class=\"plot\" transform=\"translate(80,100)\" clip-path=\"url('#clipa7f7d6xyplot')\"><g class=\"scatterlayer mlayer\"><g class=\"trace scatter trace50174a\" style=\"stroke-miterlimit: 2; opacity: 1;\"><g class=\"fills\"/><g class=\"errorbars\"/><g class=\"lines\"><path class=\"js-line\" d=\"M0,42.48L238,19.79L476,13.5\" style=\"vector-effect: non-scaling-stroke; fill: none; stroke: rgb(109, 184, 77); stroke-opacity: 1; stroke-width: 2px; opacity: 1;\"/></g><g class=\"points\"/><g class=\"text\"/></g><g class=\"trace scatter trace51bcaa\" style=\"stroke-miterlimit: 2; opacity: 1;\"><g class=\"fills\"/><g class=\"errorbars\"/><g class=\"lines\"><path class=\"js-line\" d=\"M0,256.5L476,236.82\" style=\"vector-effect: non-scaling-stroke; fill: none; stroke: rgb(151, 156, 149); stroke-opacity: 1; stroke-width: 2px; opacity: 1;\"/></g><g class=\"points\"/><g class=\"text\"/></g></g></g><g class=\"overplot\"/><path class=\"xlines-above crisp\" style=\"fill: none;\" d=\"M0,0\"/><path class=\"ylines-above crisp\" style=\"fill: none;\" d=\"M0,0\"/><g class=\"overlines-above\"/><g class=\"xaxislayer-above\"><g class=\"xtick\"><text text-anchor=\"middle\" x=\"0\" y=\"383\" transform=\"translate(80,0)\" style=\"font-family: 'Open Sans', verdana, arial, sans-serif; font-size: 12px; fill: rgb(42, 63, 95); fill-opacity: 1; white-space: pre;\"><tspan class=\"line\" dy=\"0em\" x=\"0\" y=\"383\">00:00</tspan><tspan class=\"line\" dy=\"1.3em\" x=\"0\" y=\"383\">Nov 22, 2020</tspan></text></g><g class=\"xtick\"><text text-anchor=\"middle\" x=\"0\" y=\"383\" transform=\"translate(199,0)\" style=\"font-family: 'Open Sans', verdana, arial, sans-serif; font-size: 12px; fill: rgb(42, 63, 95); fill-opacity: 1; white-space: pre;\">12:00</text></g><g class=\"xtick\"><text text-anchor=\"middle\" x=\"0\" y=\"383\" transform=\"translate(318,0)\" style=\"font-family: 'Open Sans', verdana, arial, sans-serif; font-size: 12px; fill: rgb(42, 63, 95); fill-opacity: 1; white-space: pre;\"><tspan class=\"line\" dy=\"0em\" x=\"0\" y=\"383\">00:00</tspan><tspan class=\"line\" dy=\"1.3em\" x=\"0\" y=\"383\">Nov 23, 2020</tspan></text></g><g class=\"xtick\"><text text-anchor=\"middle\" x=\"0\" y=\"383\" transform=\"translate(437,0)\" style=\"font-family: 'Open Sans', verdana, arial, sans-serif; font-size: 12px; fill: rgb(42, 63, 95); fill-opacity: 1; white-space: pre;\">12:00</text></g><g class=\"xtick\"><text text-anchor=\"middle\" x=\"0\" y=\"383\" transform=\"translate(556,0)\" style=\"font-family: 'Open Sans', verdana, arial, sans-serif; font-size: 12px; fill: rgb(42, 63, 95); fill-opacity: 1; white-space: pre;\"><tspan class=\"line\" dy=\"0em\" x=\"0\" y=\"383\">00:00</tspan><tspan class=\"line\" dy=\"1.3em\" x=\"0\" y=\"383\">Nov 24, 2020</tspan></text></g></g><g class=\"yaxislayer-above\"><g class=\"ytick\"><text text-anchor=\"end\" x=\"79\" y=\"3.15\" transform=\"translate(0,369.94)\" style=\"font-family: 'Open Sans', verdana, arial, sans-serif; font-size: 9px; fill: rgb(42, 63, 95); fill-opacity: 1; white-space: pre;\">5</text></g><g class=\"ytick\"><text text-anchor=\"end\" x=\"79\" y=\"3.15\" transform=\"translate(0,355.32)\" style=\"font-family: 'Open Sans', verdana, arial, sans-serif; font-size: 9px; fill: rgb(42, 63, 95); fill-opacity: 1; white-space: pre;\">6</text></g><g class=\"ytick\"><text text-anchor=\"end\" x=\"79\" y=\"3.15\" transform=\"translate(0,342.95)\" style=\"font-family: 'Open Sans', verdana, arial, sans-serif; font-size: 9px; fill: rgb(42, 63, 95); fill-opacity: 1; white-space: pre;\">7</text></g><g class=\"ytick\"><text text-anchor=\"end\" x=\"79\" y=\"3.15\" transform=\"translate(0,332.24)\" style=\"font-family: 'Open Sans', verdana, arial, sans-serif; font-size: 9px; fill: rgb(42, 63, 95); fill-opacity: 1; white-space: pre;\">8</text></g><g class=\"ytick\"><text text-anchor=\"end\" x=\"79\" y=\"3.15\" transform=\"translate(0,322.8)\" style=\"font-family: 'Open Sans', verdana, arial, sans-serif; font-size: 9px; fill: rgb(42, 63, 95); fill-opacity: 1; white-space: pre;\">9</text></g><g class=\"ytick\"><text text-anchor=\"end\" x=\"76\" y=\"2.1999999999999993\" transform=\"translate(0,314.35)\" style=\"font-family: 'Open Sans', verdana, arial, sans-serif; font-size: 12px; fill: rgb(42, 63, 95); fill-opacity: 1; white-space: pre;\">10k</text></g><g class=\"ytick\"><text text-anchor=\"end\" x=\"79\" y=\"3.15\" transform=\"translate(0,258.76)\" style=\"font-family: 'Open Sans', verdana, arial, sans-serif; font-size: 9px; fill: rgb(42, 63, 95); fill-opacity: 1; white-space: pre;\">2</text></g><g class=\"ytick\"><text text-anchor=\"end\" x=\"79\" y=\"3.15\" transform=\"translate(0,226.24)\" style=\"font-family: 'Open Sans', verdana, arial, sans-serif; font-size: 9px; fill: rgb(42, 63, 95); fill-opacity: 1; white-space: pre;\">3</text></g><g class=\"ytick\"><text text-anchor=\"end\" x=\"79\" y=\"3.15\" transform=\"translate(0,203.17000000000002)\" style=\"font-family: 'Open Sans', verdana, arial, sans-serif; font-size: 9px; fill: rgb(42, 63, 95); fill-opacity: 1; white-space: pre;\">4</text></g><g class=\"ytick\"><text text-anchor=\"end\" x=\"79\" y=\"3.15\" transform=\"translate(0,185.28)\" style=\"font-family: 'Open Sans', verdana, arial, sans-serif; font-size: 9px; fill: rgb(42, 63, 95); fill-opacity: 1; white-space: pre;\">5</text></g><g class=\"ytick\"><text text-anchor=\"end\" x=\"79\" y=\"3.15\" transform=\"translate(0,170.65)\" style=\"font-family: 'Open Sans', verdana, arial, sans-serif; font-size: 9px; fill: rgb(42, 63, 95); fill-opacity: 1; white-space: pre;\">6</text></g><g class=\"ytick\"><text text-anchor=\"end\" x=\"79\" y=\"3.15\" transform=\"translate(0,158.29)\" style=\"font-family: 'Open Sans', verdana, arial, sans-serif; font-size: 9px; fill: rgb(42, 63, 95); fill-opacity: 1; white-space: pre;\">7</text></g><g class=\"ytick\"><text text-anchor=\"end\" x=\"79\" y=\"3.15\" transform=\"translate(0,147.57999999999998)\" style=\"font-family: 'Open Sans', verdana, arial, sans-serif; font-size: 9px; fill: rgb(42, 63, 95); fill-opacity: 1; white-space: pre;\">8</text></g><g class=\"ytick\"><text text-anchor=\"end\" x=\"79\" y=\"3.15\" transform=\"translate(0,138.14)\" style=\"font-family: 'Open Sans', verdana, arial, sans-serif; font-size: 9px; fill: rgb(42, 63, 95); fill-opacity: 1; white-space: pre;\">9</text></g><g class=\"ytick\"><text text-anchor=\"end\" x=\"76\" y=\"2.1999999999999993\" transform=\"translate(0,129.69)\" style=\"font-family: 'Open Sans', verdana, arial, sans-serif; font-size: 12px; fill: rgb(42, 63, 95); fill-opacity: 1; white-space: pre;\">100k</text></g></g><g class=\"overaxes-above\"/></g></g><g class=\"polarlayer\"/><g class=\"ternarylayer\"/><g class=\"geolayer\"/><g class=\"funnelarealayer\"/><g class=\"pielayer\"/><g class=\"treemaplayer\"/><g class=\"sunburstlayer\"/><g class=\"glimages\"/><defs id=\"topdefs-a7f7d6\"><g class=\"clips\"/><clipPath id=\"legenda7f7d6\"><rect width=\"122\" height=\"48\" x=\"0\" y=\"0\"/></clipPath></defs><g class=\"layer-above\"><g class=\"imagelayer\"/><g class=\"shapelayer\"/></g><g class=\"infolayer\"><g class=\"legend\" pointer-events=\"all\" transform=\"translate(565.52,100)\"><rect class=\"bg\" shape-rendering=\"crispEdges\" style=\"stroke: rgb(68, 68, 68); stroke-opacity: 1; fill: rgb(255, 255, 255); fill-opacity: 1; stroke-width: 0px;\" width=\"122\" height=\"48\" x=\"0\" y=\"0\"/><g class=\"scrollbox\" transform=\"\" clip-path=\"url('#legenda7f7d6')\"><g class=\"groups\"><g class=\"traces\" style=\"opacity: 1;\" transform=\"translate(0,14.5)\"><text class=\"legendtext\" text-anchor=\"start\" x=\"40\" y=\"4.680000000000001\" style=\"font-family: 'Open Sans', verdana, arial, sans-serif; font-size: 12px; fill: rgb(42, 63, 95); fill-opacity: 1; white-space: pre;\">Credible</text><g class=\"layers\" style=\"opacity: 1;\"><g class=\"legendfill\"/><g class=\"legendlines\"><path class=\"js-line\" d=\"M5,0h30\" style=\"fill: none; stroke: rgb(109, 184, 77); stroke-opacity: 1; stroke-width: 2px;\"/></g><g class=\"legendsymbols\"><g class=\"legendpoints\"/></g></g><rect class=\"legendtoggle\" x=\"0\" y=\"-9.5\" width=\"116.703125\" height=\"19\" style=\"fill: rgb(0, 0, 0); fill-opacity: 0;\"/></g><g class=\"traces\" style=\"opacity: 1;\" transform=\"translate(0,33.5)\"><text class=\"legendtext\" text-anchor=\"start\" x=\"40\" y=\"4.680000000000001\" style=\"font-family: 'Open Sans', verdana, arial, sans-serif; font-size: 12px; fill: rgb(42, 63, 95); fill-opacity: 1; white-space: pre;\">Non-credible</text><g class=\"layers\" style=\"opacity: 1;\"><g class=\"legendfill\"/><g class=\"legendlines\"><path class=\"js-line\" d=\"M5,0h30\" style=\"fill: none; stroke: rgb(151, 156, 149); stroke-opacity: 1; stroke-width: 2px;\"/></g><g class=\"legendsymbols\"><g class=\"legendpoints\"/></g></g><rect class=\"legendtoggle\" x=\"0\" y=\"-9.5\" width=\"116.703125\" height=\"19\" style=\"fill: rgb(0, 0, 0); fill-opacity: 0;\"/></g></g></g><rect class=\"scrollbar\" rx=\"20\" ry=\"3\" width=\"0\" height=\"0\" style=\"fill: rgb(128, 139, 164); fill-opacity: 1;\" x=\"0\" y=\"0\"/></g><g class=\"g-gtitle\"><text class=\"gtitle\" x=\"35\" y=\"50\" text-anchor=\"start\" dy=\"0em\" style=\"font-family: 'Open Sans', verdana, arial, sans-serif; font-size: 17px; fill: rgb(42, 63, 95); opacity: 1; font-weight: normal; white-space: pre;\">Credible vs Non-Credible Posts vs. Time</text></g><g class=\"g-xtitle\"><text class=\"xtitle\" x=\"318\" y=\"426.08125\" text-anchor=\"middle\" style=\"font-family: 'Open Sans', verdana, arial, sans-serif; font-size: 14px; fill: rgb(42, 63, 95); opacity: 1; font-weight: normal; white-space: pre;\">Time(date)</text></g><g class=\"g-ytitle\"><text class=\"ytitle\" transform=\"rotate(-90,21.200000000000003,235)\" x=\"21.200000000000003\" y=\"235\" text-anchor=\"middle\" style=\"font-family: 'Open Sans', verdana, arial, sans-serif; font-size: 14px; fill: rgb(42, 63, 95); opacity: 1; font-weight: normal; white-space: pre;\">Number of Posts</text></g></g></svg>"
      ]
     },
     "metadata": {},
     "output_type": "display_data"
    }
   ],
   "source": [
    "fig = go.Figure(data=go.Scatter(x=cred_df.day, y=cred_df[True],mode='lines', line_color='#6db84d', name='Credible'))\n",
    "fig.add_trace(go.Scatter(x=cred_df.day, y=cred_df[False],mode='lines', line=dict(color=\"#979c95\"), name='Non-credible'))\n",
    "fig.update_yaxes(type=\"log\")\n",
    "fig.update_layout(\n",
    "    title=\"Credible vs Non-Credible Posts vs. Time\",\n",
    "    xaxis_title=\"Time(date)\",\n",
    "    yaxis_title=\"Number of Posts\")\n",
    "\n",
    "fig.show(svg_option)"
   ]
  },
  {
   "cell_type": "code",
   "execution_count": 53,
   "metadata": {},
   "outputs": [],
   "source": [
    "fig.write_image(\"images/credible_noncredible_over_time.png\")"
   ]
  },
  {
   "cell_type": "markdown",
   "metadata": {},
   "source": [
    "### Popularity Analysis"
   ]
  },
  {
   "cell_type": "code",
   "execution_count": 54,
   "metadata": {},
   "outputs": [],
   "source": [
    "domains = pd.pivot_table(news_ratings_data, values = 'id',index = ['domain', 'rating', 'credible'], aggfunc ='count').sort_values(['rating', 'id'], ascending=False).reset_index()"
   ]
  },
  {
   "cell_type": "code",
   "execution_count": 55,
   "metadata": {},
   "outputs": [],
   "source": [
    "## credible news sources sorted by rating and number of posts\n",
    "credible_domains = domains[domains.credible == True]"
   ]
  },
  {
   "cell_type": "code",
   "execution_count": 56,
   "metadata": {},
   "outputs": [
    {
     "name": "stdout",
     "output_type": "stream",
     "text": [
      "Number of Credible Domains:  999\n",
      "Top 20 Credible Domains: \n",
      "                 domain  rating\n",
      "0             patch.com   100.0\n",
      "1       theguardian.com   100.0\n",
      "2           nytimes.com   100.0\n",
      "3               cnn.com   100.0\n",
      "4           nbcnews.com   100.0\n",
      "5    washingtonpost.com   100.0\n",
      "6   businessinsider.com   100.0\n",
      "7               npr.org   100.0\n",
      "8                cbc.ca   100.0\n",
      "9           cbsnews.com   100.0\n",
      "10         usatoday.com   100.0\n",
      "11          reuters.com   100.0\n",
      "12         politico.com   100.0\n",
      "13              wsj.com   100.0\n",
      "14          latimes.com   100.0\n",
      "15         newsweek.com   100.0\n",
      "16              pbs.org   100.0\n",
      "17             vice.com   100.0\n",
      "18           ctvnews.ca   100.0\n",
      "19               cnn.it   100.0\n"
     ]
    }
   ],
   "source": [
    "print(\"Number of Credible Domains: \", len(credible_domains))\n",
    "print(\"Top 20 Credible Domains: \")\n",
    "print(credible_domains[['domain', 'rating']][0:20])"
   ]
  },
  {
   "cell_type": "code",
   "execution_count": 57,
   "metadata": {},
   "outputs": [],
   "source": [
    "## non-credible news sources sorted by rating and number of posts\n",
    "noncredible_domains = domains[(domains['credible'] == False) & (domains['rating'] != -1.0)].sort_values('rating', ascending=True)"
   ]
  },
  {
   "cell_type": "code",
   "execution_count": 58,
   "metadata": {},
   "outputs": [
    {
     "name": "stdout",
     "output_type": "stream",
     "text": [
      "Number of Non-Credible Domains:  34\n",
      "Top 20 Non-Credible Domains: \n",
      "                            domain  rating\n",
      "1032                 zerohedge.com     0.0\n",
      "1031      worldnewsdailyreport.com     7.5\n",
      "1030               sputniknews.com     7.5\n",
      "1029               naturalnews.com    12.5\n",
      "1028              yournewswire.com    15.0\n",
      "1027  theconservativetreehouse.com    17.5\n",
      "1026                  lifenews.com    17.5\n",
      "1025              lifesitenews.com    17.5\n",
      "1024          thegatewaypundit.com    20.0\n",
      "1022                       wnd.com    25.0\n",
      "1023                  infowars.com    25.0\n",
      "1021           americanthinker.com    27.5\n",
      "1020                gregpalast.com    32.0\n",
      "1019                  arabnews.com    32.0\n",
      "1018                        rt.com    32.5\n",
      "1017            westernjournal.com    32.5\n",
      "1016         middleeastmonitor.com    40.0\n",
      "1015                  theblaze.com    40.0\n",
      "1013                   pjmedia.com    42.0\n",
      "1012                  redstate.com    42.0\n"
     ]
    }
   ],
   "source": [
    "print(\"Number of Non-Credible Domains: \", len(noncredible_domains))\n",
    "print(\"Top 20 Non-Credible Domains: \")\n",
    "print(noncredible_domains[['domain', 'rating']][0:20])"
   ]
  },
  {
   "cell_type": "markdown",
   "metadata": {},
   "source": [
    "#### Popularity of credible sources over time"
   ]
  },
  {
   "cell_type": "code",
   "execution_count": 59,
   "metadata": {},
   "outputs": [
    {
     "name": "stdout",
     "output_type": "stream",
     "text": [
      "['patch.com', 'theguardian.com', 'nytimes.com', 'cnn.com', 'nbcnews.com']\n"
     ]
    }
   ],
   "source": [
    "credible_top5_domains = credible_domains[['domain']][0:5]\n",
    "credible_top5_list = credible_top5_domains['domain'].to_list()\n",
    "print(credible_top5_list)"
   ]
  },
  {
   "cell_type": "code",
   "execution_count": 60,
   "metadata": {},
   "outputs": [
    {
     "name": "stderr",
     "output_type": "stream",
     "text": [
      "<ipython-input-60-c61ebe1d56ef>:1: SettingWithCopyWarning:\n",
      "\n",
      "\n",
      "A value is trying to be set on a copy of a slice from a DataFrame.\n",
      "Try using .loc[row_indexer,col_indexer] = value instead\n",
      "\n",
      "See the caveats in the documentation: https://pandas.pydata.org/pandas-docs/stable/user_guide/indexing.html#returning-a-view-versus-a-copy\n",
      "\n"
     ]
    }
   ],
   "source": [
    "credible_domains['percentage'] = credible_domains.id.apply(lambda x: x*100.0/credibility_summary.id[0])"
   ]
  },
  {
   "cell_type": "code",
   "execution_count": 61,
   "metadata": {},
   "outputs": [
    {
     "data": {
      "text/html": [
       "<div>\n",
       "<style scoped>\n",
       "    .dataframe tbody tr th:only-of-type {\n",
       "        vertical-align: middle;\n",
       "    }\n",
       "\n",
       "    .dataframe tbody tr th {\n",
       "        vertical-align: top;\n",
       "    }\n",
       "\n",
       "    .dataframe thead th {\n",
       "        text-align: right;\n",
       "    }\n",
       "</style>\n",
       "<table border=\"1\" class=\"dataframe\">\n",
       "  <thead>\n",
       "    <tr style=\"text-align: right;\">\n",
       "      <th></th>\n",
       "      <th>domain</th>\n",
       "      <th>rating</th>\n",
       "      <th>credible</th>\n",
       "      <th>id</th>\n",
       "      <th>percentage</th>\n",
       "    </tr>\n",
       "  </thead>\n",
       "  <tbody>\n",
       "    <tr>\n",
       "      <th>0</th>\n",
       "      <td>patch.com</td>\n",
       "      <td>100.0</td>\n",
       "      <td>True</td>\n",
       "      <td>37113</td>\n",
       "      <td>11.570297</td>\n",
       "    </tr>\n",
       "    <tr>\n",
       "      <th>1</th>\n",
       "      <td>theguardian.com</td>\n",
       "      <td>100.0</td>\n",
       "      <td>True</td>\n",
       "      <td>8353</td>\n",
       "      <td>2.604120</td>\n",
       "    </tr>\n",
       "    <tr>\n",
       "      <th>2</th>\n",
       "      <td>nytimes.com</td>\n",
       "      <td>100.0</td>\n",
       "      <td>True</td>\n",
       "      <td>7845</td>\n",
       "      <td>2.445746</td>\n",
       "    </tr>\n",
       "    <tr>\n",
       "      <th>3</th>\n",
       "      <td>cnn.com</td>\n",
       "      <td>100.0</td>\n",
       "      <td>True</td>\n",
       "      <td>7385</td>\n",
       "      <td>2.302337</td>\n",
       "    </tr>\n",
       "    <tr>\n",
       "      <th>4</th>\n",
       "      <td>nbcnews.com</td>\n",
       "      <td>100.0</td>\n",
       "      <td>True</td>\n",
       "      <td>5412</td>\n",
       "      <td>1.687238</td>\n",
       "    </tr>\n",
       "    <tr>\n",
       "      <th>...</th>\n",
       "      <td>...</td>\n",
       "      <td>...</td>\n",
       "      <td>...</td>\n",
       "      <td>...</td>\n",
       "      <td>...</td>\n",
       "    </tr>\n",
       "    <tr>\n",
       "      <th>994</th>\n",
       "      <td>lifezette.com</td>\n",
       "      <td>62.5</td>\n",
       "      <td>True</td>\n",
       "      <td>388</td>\n",
       "      <td>0.120962</td>\n",
       "    </tr>\n",
       "    <tr>\n",
       "      <th>995</th>\n",
       "      <td>hotair.com</td>\n",
       "      <td>62.5</td>\n",
       "      <td>True</td>\n",
       "      <td>95</td>\n",
       "      <td>0.029617</td>\n",
       "    </tr>\n",
       "    <tr>\n",
       "      <th>996</th>\n",
       "      <td>wgnradio.com</td>\n",
       "      <td>62.5</td>\n",
       "      <td>True</td>\n",
       "      <td>34</td>\n",
       "      <td>0.010600</td>\n",
       "    </tr>\n",
       "    <tr>\n",
       "      <th>997</th>\n",
       "      <td>scmp.com</td>\n",
       "      <td>62.0</td>\n",
       "      <td>True</td>\n",
       "      <td>815</td>\n",
       "      <td>0.254083</td>\n",
       "    </tr>\n",
       "    <tr>\n",
       "      <th>998</th>\n",
       "      <td>maxim.com</td>\n",
       "      <td>60.0</td>\n",
       "      <td>True</td>\n",
       "      <td>60</td>\n",
       "      <td>0.018706</td>\n",
       "    </tr>\n",
       "  </tbody>\n",
       "</table>\n",
       "<p>999 rows × 5 columns</p>\n",
       "</div>"
      ],
      "text/plain": [
       "              domain  rating  credible     id  percentage\n",
       "0          patch.com   100.0      True  37113   11.570297\n",
       "1    theguardian.com   100.0      True   8353    2.604120\n",
       "2        nytimes.com   100.0      True   7845    2.445746\n",
       "3            cnn.com   100.0      True   7385    2.302337\n",
       "4        nbcnews.com   100.0      True   5412    1.687238\n",
       "..               ...     ...       ...    ...         ...\n",
       "994    lifezette.com    62.5      True    388    0.120962\n",
       "995       hotair.com    62.5      True     95    0.029617\n",
       "996     wgnradio.com    62.5      True     34    0.010600\n",
       "997         scmp.com    62.0      True    815    0.254083\n",
       "998        maxim.com    60.0      True     60    0.018706\n",
       "\n",
       "[999 rows x 5 columns]"
      ]
     },
     "execution_count": 61,
     "metadata": {},
     "output_type": "execute_result"
    }
   ],
   "source": [
    "credible_domains"
   ]
  },
  {
   "cell_type": "code",
   "execution_count": 62,
   "metadata": {},
   "outputs": [],
   "source": [
    "credible_top5_trend_df =  pd.pivot_table(news_ratings_data[news_ratings_data['domain'].isin(credible_top5_list)], values = 'id',index = 'day', columns = 'domain', aggfunc ='count').sort_values(['day'], ascending=True).reset_index()"
   ]
  },
  {
   "cell_type": "code",
   "execution_count": 63,
   "metadata": {},
   "outputs": [
    {
     "data": {
      "text/html": [
       "<div>\n",
       "<style scoped>\n",
       "    .dataframe tbody tr th:only-of-type {\n",
       "        vertical-align: middle;\n",
       "    }\n",
       "\n",
       "    .dataframe tbody tr th {\n",
       "        vertical-align: top;\n",
       "    }\n",
       "\n",
       "    .dataframe thead th {\n",
       "        text-align: right;\n",
       "    }\n",
       "</style>\n",
       "<table border=\"1\" class=\"dataframe\">\n",
       "  <thead>\n",
       "    <tr style=\"text-align: right;\">\n",
       "      <th>domain</th>\n",
       "      <th>day</th>\n",
       "      <th>cnn.com</th>\n",
       "      <th>nbcnews.com</th>\n",
       "      <th>nytimes.com</th>\n",
       "      <th>patch.com</th>\n",
       "      <th>theguardian.com</th>\n",
       "    </tr>\n",
       "  </thead>\n",
       "  <tbody>\n",
       "    <tr>\n",
       "      <th>0</th>\n",
       "      <td>2020-11-22</td>\n",
       "      <td>2055</td>\n",
       "      <td>1289</td>\n",
       "      <td>2052</td>\n",
       "      <td>10551</td>\n",
       "      <td>2561</td>\n",
       "    </tr>\n",
       "    <tr>\n",
       "      <th>1</th>\n",
       "      <td>2020-11-23</td>\n",
       "      <td>2441</td>\n",
       "      <td>1962</td>\n",
       "      <td>2962</td>\n",
       "      <td>14052</td>\n",
       "      <td>2770</td>\n",
       "    </tr>\n",
       "    <tr>\n",
       "      <th>2</th>\n",
       "      <td>2020-11-24</td>\n",
       "      <td>2889</td>\n",
       "      <td>2161</td>\n",
       "      <td>2831</td>\n",
       "      <td>12510</td>\n",
       "      <td>3022</td>\n",
       "    </tr>\n",
       "  </tbody>\n",
       "</table>\n",
       "</div>"
      ],
      "text/plain": [
       "domain        day  cnn.com  nbcnews.com  nytimes.com  patch.com  \\\n",
       "0      2020-11-22     2055         1289         2052      10551   \n",
       "1      2020-11-23     2441         1962         2962      14052   \n",
       "2      2020-11-24     2889         2161         2831      12510   \n",
       "\n",
       "domain  theguardian.com  \n",
       "0                  2561  \n",
       "1                  2770  \n",
       "2                  3022  "
      ]
     },
     "execution_count": 63,
     "metadata": {},
     "output_type": "execute_result"
    }
   ],
   "source": [
    "credible_top5_trend_df.head()"
   ]
  },
  {
   "cell_type": "code",
   "execution_count": 64,
   "metadata": {},
   "outputs": [
    {
     "data": {
      "image/svg+xml": [
       "<svg class=\"main-svg\" xmlns=\"http://www.w3.org/2000/svg\" xmlns:xlink=\"http://www.w3.org/1999/xlink\" width=\"700\" height=\"450\" style=\"\" viewBox=\"0 0 700 450\"><rect x=\"0\" y=\"0\" width=\"700\" height=\"450\" style=\"fill: rgb(255, 255, 255); fill-opacity: 1;\"/><defs id=\"defs-d8e03a\"><g class=\"clips\"><clipPath id=\"clipd8e03axyplot\" class=\"plotclip\"><rect width=\"451\" height=\"270\"/></clipPath><clipPath class=\"axesclip\" id=\"clipd8e03ax\"><rect x=\"80\" y=\"0\" width=\"451\" height=\"450\"/></clipPath><clipPath class=\"axesclip\" id=\"clipd8e03ay\"><rect x=\"0\" y=\"100\" width=\"700\" height=\"270\"/></clipPath><clipPath class=\"axesclip\" id=\"clipd8e03axy\"><rect x=\"80\" y=\"100\" width=\"451\" height=\"270\"/></clipPath></g><g class=\"gradients\"/></defs><g class=\"bglayer\"><rect class=\"bg\" x=\"80\" y=\"100\" width=\"451\" height=\"270\" style=\"fill: rgb(229, 236, 246); fill-opacity: 1; stroke-width: 0;\"/></g><g class=\"layer-below\"><g class=\"imagelayer\"/><g class=\"shapelayer\"/></g><g class=\"cartesianlayer\"><g class=\"subplot xy\"><g class=\"layer-subplot\"><g class=\"shapelayer\"/><g class=\"imagelayer\"/></g><g class=\"gridlayer\"><g class=\"x\"><path class=\"xgrid crisp\" transform=\"translate(192.75,0)\" d=\"M0,100v270\" style=\"stroke: rgb(255, 255, 255); stroke-opacity: 1; stroke-width: 1px;\"/><path class=\"xgrid crisp\" transform=\"translate(305.5,0)\" d=\"M0,100v270\" style=\"stroke: rgb(255, 255, 255); stroke-opacity: 1; stroke-width: 1px;\"/><path class=\"xgrid crisp\" transform=\"translate(418.25,0)\" d=\"M0,100v270\" style=\"stroke: rgb(255, 255, 255); stroke-opacity: 1; stroke-width: 1px;\"/></g><g class=\"y\"><path class=\"ygrid crisp\" transform=\"translate(0,311.82)\" d=\"M80,0h451\" style=\"stroke: rgb(255, 255, 255); stroke-opacity: 1; stroke-width: 1px;\"/><path class=\"ygrid crisp\" transform=\"translate(0,270.57)\" d=\"M80,0h451\" style=\"stroke: rgb(255, 255, 255); stroke-opacity: 1; stroke-width: 1px;\"/><path class=\"ygrid crisp\" transform=\"translate(0,241.31)\" d=\"M80,0h451\" style=\"stroke: rgb(255, 255, 255); stroke-opacity: 1; stroke-width: 1px;\"/><path class=\"ygrid crisp\" transform=\"translate(0,218.61)\" d=\"M80,0h451\" style=\"stroke: rgb(255, 255, 255); stroke-opacity: 1; stroke-width: 1px;\"/><path class=\"ygrid crisp\" transform=\"translate(0,200.06)\" d=\"M80,0h451\" style=\"stroke: rgb(255, 255, 255); stroke-opacity: 1; stroke-width: 1px;\"/><path class=\"ygrid crisp\" transform=\"translate(0,184.38)\" d=\"M80,0h451\" style=\"stroke: rgb(255, 255, 255); stroke-opacity: 1; stroke-width: 1px;\"/><path class=\"ygrid crisp\" transform=\"translate(0,170.8)\" d=\"M80,0h451\" style=\"stroke: rgb(255, 255, 255); stroke-opacity: 1; stroke-width: 1px;\"/><path class=\"ygrid crisp\" transform=\"translate(0,158.82)\" d=\"M80,0h451\" style=\"stroke: rgb(255, 255, 255); stroke-opacity: 1; stroke-width: 1px;\"/><path class=\"ygrid crisp\" transform=\"translate(0,148.1)\" d=\"M80,0h451\" style=\"stroke: rgb(255, 255, 255); stroke-opacity: 1; stroke-width: 1px;\"/></g></g><g class=\"zerolinelayer\"/><path class=\"xlines-below\"/><path class=\"ylines-below\"/><g class=\"overlines-below\"/><g class=\"xaxislayer-below\"/><g class=\"yaxislayer-below\"/><g class=\"overaxes-below\"/><g class=\"plot\" transform=\"translate(80,100)\" clip-path=\"url('#clipd8e03axyplot')\"><g class=\"scatterlayer mlayer\"><g class=\"trace scatter trace63f246\" style=\"stroke-miterlimit: 2; opacity: 1;\"><g class=\"fills\"/><g class=\"errorbars\"/><g class=\"lines\"><path class=\"js-line\" d=\"M0,42.65L225.5,13.5L451,25.32\" style=\"vector-effect: non-scaling-stroke; fill: none; stroke: rgb(99, 110, 250); stroke-opacity: 1; stroke-width: 2px; opacity: 1;\"/></g><g class=\"points\"/><g class=\"text\"/></g><g class=\"trace scatter trace34c39f\" style=\"stroke-miterlimit: 2; opacity: 1;\"><g class=\"fills\"/><g class=\"errorbars\"/><g class=\"lines\"><path class=\"js-line\" d=\"M0,186.67L225.5,178.69L451,169.83\" style=\"vector-effect: non-scaling-stroke; fill: none; stroke: rgb(239, 85, 59); stroke-opacity: 1; stroke-width: 2px; opacity: 1;\"/></g><g class=\"points\"/><g class=\"text\"/></g><g class=\"trace scatter trace61c996\" style=\"stroke-miterlimit: 2; opacity: 1;\"><g class=\"fills\"/><g class=\"errorbars\"/><g class=\"lines\"><path class=\"js-line\" d=\"M0,209.21L225.5,171.87L451,176.47\" style=\"vector-effect: non-scaling-stroke; fill: none; stroke: rgb(0, 204, 150); stroke-opacity: 1; stroke-width: 2px; opacity: 1;\"/></g><g class=\"points\"/><g class=\"text\"/></g><g class=\"trace scatter trace8bfe26\" style=\"stroke-miterlimit: 2; opacity: 1;\"><g class=\"fills\"/><g class=\"errorbars\"/><g class=\"lines\"><path class=\"js-line\" d=\"M0,209.06L451,174.41\" style=\"vector-effect: non-scaling-stroke; fill: none; stroke: rgb(171, 99, 250); stroke-opacity: 1; stroke-width: 2px; opacity: 1;\"/></g><g class=\"points\"/><g class=\"text\"/></g><g class=\"trace scatter trace3e2e83\" style=\"stroke-miterlimit: 2; opacity: 1;\"><g class=\"fills\"/><g class=\"errorbars\"/><g class=\"lines\"><path class=\"js-line\" d=\"M0,256.5L225.5,213.77L451,203.94\" style=\"vector-effect: non-scaling-stroke; fill: none; stroke: rgb(255, 161, 90); stroke-opacity: 1; stroke-width: 2px; opacity: 1;\"/></g><g class=\"points\"/><g class=\"text\"/></g></g></g><g class=\"overplot\"/><path class=\"xlines-above crisp\" style=\"fill: none;\" d=\"M0,0\"/><path class=\"ylines-above crisp\" style=\"fill: none;\" d=\"M0,0\"/><g class=\"overlines-above\"/><g class=\"xaxislayer-above\"><g class=\"xtick\"><text text-anchor=\"middle\" x=\"0\" y=\"383\" transform=\"translate(80,0)\" style=\"font-family: 'Open Sans', verdana, arial, sans-serif; font-size: 12px; fill: rgb(42, 63, 95); fill-opacity: 1; white-space: pre;\"><tspan class=\"line\" dy=\"0em\" x=\"0\" y=\"383\">00:00</tspan><tspan class=\"line\" dy=\"1.3em\" x=\"0\" y=\"383\">Nov 22, 2020</tspan></text></g><g class=\"xtick\"><text text-anchor=\"middle\" x=\"0\" y=\"383\" transform=\"translate(192.75,0)\" style=\"font-family: 'Open Sans', verdana, arial, sans-serif; font-size: 12px; fill: rgb(42, 63, 95); fill-opacity: 1; white-space: pre;\">12:00</text></g><g class=\"xtick\"><text text-anchor=\"middle\" x=\"0\" y=\"383\" transform=\"translate(305.5,0)\" style=\"font-family: 'Open Sans', verdana, arial, sans-serif; font-size: 12px; fill: rgb(42, 63, 95); fill-opacity: 1; white-space: pre;\"><tspan class=\"line\" dy=\"0em\" x=\"0\" y=\"383\">00:00</tspan><tspan class=\"line\" dy=\"1.3em\" x=\"0\" y=\"383\">Nov 23, 2020</tspan></text></g><g class=\"xtick\"><text text-anchor=\"middle\" x=\"0\" y=\"383\" transform=\"translate(418.25,0)\" style=\"font-family: 'Open Sans', verdana, arial, sans-serif; font-size: 12px; fill: rgb(42, 63, 95); fill-opacity: 1; white-space: pre;\">12:00</text></g><g class=\"xtick\"><text text-anchor=\"middle\" x=\"0\" y=\"383\" transform=\"translate(531,0)\" style=\"font-family: 'Open Sans', verdana, arial, sans-serif; font-size: 12px; fill: rgb(42, 63, 95); fill-opacity: 1; white-space: pre;\"><tspan class=\"line\" dy=\"0em\" x=\"0\" y=\"383\">00:00</tspan><tspan class=\"line\" dy=\"1.3em\" x=\"0\" y=\"383\">Nov 24, 2020</tspan></text></g></g><g class=\"yaxislayer-above\"><g class=\"ytick\"><text text-anchor=\"end\" x=\"79\" y=\"3.15\" transform=\"translate(0,311.82)\" style=\"font-family: 'Open Sans', verdana, arial, sans-serif; font-size: 9px; fill: rgb(42, 63, 95); fill-opacity: 1; white-space: pre;\">2</text></g><g class=\"ytick\"><text text-anchor=\"end\" x=\"79\" y=\"3.15\" transform=\"translate(0,270.57)\" style=\"font-family: 'Open Sans', verdana, arial, sans-serif; font-size: 9px; fill: rgb(42, 63, 95); fill-opacity: 1; white-space: pre;\">3</text></g><g class=\"ytick\"><text text-anchor=\"end\" x=\"79\" y=\"3.15\" transform=\"translate(0,241.31)\" style=\"font-family: 'Open Sans', verdana, arial, sans-serif; font-size: 9px; fill: rgb(42, 63, 95); fill-opacity: 1; white-space: pre;\">4</text></g><g class=\"ytick\"><text text-anchor=\"end\" x=\"79\" y=\"3.15\" transform=\"translate(0,218.61)\" style=\"font-family: 'Open Sans', verdana, arial, sans-serif; font-size: 9px; fill: rgb(42, 63, 95); fill-opacity: 1; white-space: pre;\">5</text></g><g class=\"ytick\"><text text-anchor=\"end\" x=\"79\" y=\"3.15\" transform=\"translate(0,200.06)\" style=\"font-family: 'Open Sans', verdana, arial, sans-serif; font-size: 9px; fill: rgb(42, 63, 95); fill-opacity: 1; white-space: pre;\">6</text></g><g class=\"ytick\"><text text-anchor=\"end\" x=\"79\" y=\"3.15\" transform=\"translate(0,184.38)\" style=\"font-family: 'Open Sans', verdana, arial, sans-serif; font-size: 9px; fill: rgb(42, 63, 95); fill-opacity: 1; white-space: pre;\">7</text></g><g class=\"ytick\"><text text-anchor=\"end\" x=\"79\" y=\"3.15\" transform=\"translate(0,170.8)\" style=\"font-family: 'Open Sans', verdana, arial, sans-serif; font-size: 9px; fill: rgb(42, 63, 95); fill-opacity: 1; white-space: pre;\">8</text></g><g class=\"ytick\"><text text-anchor=\"end\" x=\"79\" y=\"3.15\" transform=\"translate(0,158.82)\" style=\"font-family: 'Open Sans', verdana, arial, sans-serif; font-size: 9px; fill: rgb(42, 63, 95); fill-opacity: 1; white-space: pre;\">9</text></g><g class=\"ytick\"><text text-anchor=\"end\" x=\"76\" y=\"2.1999999999999993\" transform=\"translate(0,148.1)\" style=\"font-family: 'Open Sans', verdana, arial, sans-serif; font-size: 12px; fill: rgb(42, 63, 95); fill-opacity: 1; white-space: pre;\">10k</text></g></g><g class=\"overaxes-above\"/></g></g><g class=\"polarlayer\"/><g class=\"ternarylayer\"/><g class=\"geolayer\"/><g class=\"funnelarealayer\"/><g class=\"pielayer\"/><g class=\"treemaplayer\"/><g class=\"sunburstlayer\"/><g class=\"glimages\"/><defs id=\"topdefs-d8e03a\"><g class=\"clips\"/><clipPath id=\"legendd8e03a\"><rect width=\"148\" height=\"105\" x=\"0\" y=\"0\"/></clipPath></defs><g class=\"layer-above\"><g class=\"imagelayer\"/><g class=\"shapelayer\"/></g><g class=\"infolayer\"><g class=\"legend\" pointer-events=\"all\" transform=\"translate(540.02,100)\"><rect class=\"bg\" shape-rendering=\"crispEdges\" style=\"stroke: rgb(68, 68, 68); stroke-opacity: 1; fill: rgb(255, 255, 255); fill-opacity: 1; stroke-width: 0px;\" width=\"148\" height=\"105\" x=\"0\" y=\"0\"/><g class=\"scrollbox\" transform=\"\" clip-path=\"url('#legendd8e03a')\"><g class=\"groups\"><g class=\"traces\" style=\"opacity: 1;\" transform=\"translate(0,14.5)\"><text class=\"legendtext\" text-anchor=\"start\" x=\"40\" y=\"4.680000000000001\" style=\"font-family: 'Open Sans', verdana, arial, sans-serif; font-size: 12px; fill: rgb(42, 63, 95); fill-opacity: 1; white-space: pre;\">patch.com</text><g class=\"layers\" style=\"opacity: 1;\"><g class=\"legendfill\"/><g class=\"legendlines\"><path class=\"js-line\" d=\"M5,0h30\" style=\"fill: none; stroke: rgb(99, 110, 250); stroke-opacity: 1; stroke-width: 2px;\"/></g><g class=\"legendsymbols\"><g class=\"legendpoints\"/></g></g><rect class=\"legendtoggle\" x=\"0\" y=\"-9.5\" width=\"142.015625\" height=\"19\" style=\"fill: rgb(0, 0, 0); fill-opacity: 0;\"/></g><g class=\"traces\" style=\"opacity: 1;\" transform=\"translate(0,33.5)\"><text class=\"legendtext\" text-anchor=\"start\" x=\"40\" y=\"4.680000000000001\" style=\"font-family: 'Open Sans', verdana, arial, sans-serif; font-size: 12px; fill: rgb(42, 63, 95); fill-opacity: 1; white-space: pre;\">theguardian.com</text><g class=\"layers\" style=\"opacity: 1;\"><g class=\"legendfill\"/><g class=\"legendlines\"><path class=\"js-line\" d=\"M5,0h30\" style=\"fill: none; stroke: rgb(239, 85, 59); stroke-opacity: 1; stroke-width: 2px;\"/></g><g class=\"legendsymbols\"><g class=\"legendpoints\"/></g></g><rect class=\"legendtoggle\" x=\"0\" y=\"-9.5\" width=\"142.015625\" height=\"19\" style=\"fill: rgb(0, 0, 0); fill-opacity: 0;\"/></g><g class=\"traces\" style=\"opacity: 1;\" transform=\"translate(0,52.5)\"><text class=\"legendtext\" text-anchor=\"start\" x=\"40\" y=\"4.680000000000001\" style=\"font-family: 'Open Sans', verdana, arial, sans-serif; font-size: 12px; fill: rgb(42, 63, 95); fill-opacity: 1; white-space: pre;\">nytimes.com</text><g class=\"layers\" style=\"opacity: 1;\"><g class=\"legendfill\"/><g class=\"legendlines\"><path class=\"js-line\" d=\"M5,0h30\" style=\"fill: none; stroke: rgb(0, 204, 150); stroke-opacity: 1; stroke-width: 2px;\"/></g><g class=\"legendsymbols\"><g class=\"legendpoints\"/></g></g><rect class=\"legendtoggle\" x=\"0\" y=\"-9.5\" width=\"142.015625\" height=\"19\" style=\"fill: rgb(0, 0, 0); fill-opacity: 0;\"/></g><g class=\"traces\" style=\"opacity: 1;\" transform=\"translate(0,71.5)\"><text class=\"legendtext\" text-anchor=\"start\" x=\"40\" y=\"4.680000000000001\" style=\"font-family: 'Open Sans', verdana, arial, sans-serif; font-size: 12px; fill: rgb(42, 63, 95); fill-opacity: 1; white-space: pre;\">cnn.com</text><g class=\"layers\" style=\"opacity: 1;\"><g class=\"legendfill\"/><g class=\"legendlines\"><path class=\"js-line\" d=\"M5,0h30\" style=\"fill: none; stroke: rgb(171, 99, 250); stroke-opacity: 1; stroke-width: 2px;\"/></g><g class=\"legendsymbols\"><g class=\"legendpoints\"/></g></g><rect class=\"legendtoggle\" x=\"0\" y=\"-9.5\" width=\"142.015625\" height=\"19\" style=\"fill: rgb(0, 0, 0); fill-opacity: 0;\"/></g><g class=\"traces\" style=\"opacity: 1;\" transform=\"translate(0,90.5)\"><text class=\"legendtext\" text-anchor=\"start\" x=\"40\" y=\"4.680000000000001\" style=\"font-family: 'Open Sans', verdana, arial, sans-serif; font-size: 12px; fill: rgb(42, 63, 95); fill-opacity: 1; white-space: pre;\">nbcnews.com</text><g class=\"layers\" style=\"opacity: 1;\"><g class=\"legendfill\"/><g class=\"legendlines\"><path class=\"js-line\" d=\"M5,0h30\" style=\"fill: none; stroke: rgb(255, 161, 90); stroke-opacity: 1; stroke-width: 2px;\"/></g><g class=\"legendsymbols\"><g class=\"legendpoints\"/></g></g><rect class=\"legendtoggle\" x=\"0\" y=\"-9.5\" width=\"142.015625\" height=\"19\" style=\"fill: rgb(0, 0, 0); fill-opacity: 0;\"/></g></g></g><rect class=\"scrollbar\" rx=\"20\" ry=\"3\" width=\"0\" height=\"0\" style=\"fill: rgb(128, 139, 164); fill-opacity: 1;\" x=\"0\" y=\"0\"/></g><g class=\"g-gtitle\"><text class=\"gtitle\" x=\"35\" y=\"50\" text-anchor=\"start\" dy=\"0em\" style=\"font-family: 'Open Sans', verdana, arial, sans-serif; font-size: 17px; fill: rgb(42, 63, 95); opacity: 1; font-weight: normal; white-space: pre;\">Popularity of Top 5 Credible Sources vs. Time</text></g><g class=\"g-xtitle\"><text class=\"xtitle\" x=\"305.5\" y=\"426.08125\" text-anchor=\"middle\" style=\"font-family: 'Open Sans', verdana, arial, sans-serif; font-size: 14px; fill: rgb(42, 63, 95); opacity: 1; font-weight: normal; white-space: pre;\">Time(date)</text></g><g class=\"g-ytitle\"><text class=\"ytitle\" transform=\"rotate(-90,28.840625000000003,235)\" x=\"28.840625000000003\" y=\"235\" text-anchor=\"middle\" style=\"font-family: 'Open Sans', verdana, arial, sans-serif; font-size: 14px; fill: rgb(42, 63, 95); opacity: 1; font-weight: normal; white-space: pre;\">Number of Posts</text></g></g></svg>"
      ]
     },
     "metadata": {},
     "output_type": "display_data"
    }
   ],
   "source": [
    "fig = go.Figure(data=go.Scatter(x=credible_top5_trend_df.day, y=credible_top5_trend_df[credible_top5_list[0]],mode='lines', name=credible_top5_list[0]))\n",
    "for col in credible_top5_list[1:]:\n",
    "                fig.add_trace(go.Scatter(x=credible_top5_trend_df.day, y=credible_top5_trend_df[col],mode='lines', name=col))\n",
    "fig.update_yaxes(type=\"log\")\n",
    "fig.update_layout(\n",
    "title=\"Popularity of Top 5 Credible Sources vs. Time\",\n",
    "xaxis_title=\"Time(date)\",\n",
    "yaxis_title=\"Number of Posts\")\n",
    "fig.show(svg_option)"
   ]
  },
  {
   "cell_type": "code",
   "execution_count": 65,
   "metadata": {},
   "outputs": [],
   "source": [
    "fig.write_image(\"images/top_credible_over_time.png\")"
   ]
  },
  {
   "cell_type": "markdown",
   "metadata": {},
   "source": [
    "#### Popularity of non-credible sources over time"
   ]
  },
  {
   "cell_type": "code",
   "execution_count": 66,
   "metadata": {},
   "outputs": [
    {
     "name": "stdout",
     "output_type": "stream",
     "text": [
      "['zerohedge.com', 'worldnewsdailyreport.com', 'sputniknews.com', 'naturalnews.com', 'yournewswire.com']\n"
     ]
    }
   ],
   "source": [
    "noncredible_top5_domains = noncredible_domains[['domain']][0:5]\n",
    "noncredible_top5_list = noncredible_top5_domains['domain'].to_list()\n",
    "print(noncredible_top5_list)"
   ]
  },
  {
   "cell_type": "code",
   "execution_count": 67,
   "metadata": {},
   "outputs": [],
   "source": [
    "noncredible_domains['percentage'] = noncredible_domains.id.apply(lambda x: x*100.0/credibility_summary.id[1])"
   ]
  },
  {
   "cell_type": "code",
   "execution_count": 68,
   "metadata": {},
   "outputs": [
    {
     "data": {
      "text/html": [
       "<div>\n",
       "<style scoped>\n",
       "    .dataframe tbody tr th:only-of-type {\n",
       "        vertical-align: middle;\n",
       "    }\n",
       "\n",
       "    .dataframe tbody tr th {\n",
       "        vertical-align: top;\n",
       "    }\n",
       "\n",
       "    .dataframe thead th {\n",
       "        text-align: right;\n",
       "    }\n",
       "</style>\n",
       "<table border=\"1\" class=\"dataframe\">\n",
       "  <thead>\n",
       "    <tr style=\"text-align: right;\">\n",
       "      <th></th>\n",
       "      <th>domain</th>\n",
       "      <th>rating</th>\n",
       "      <th>credible</th>\n",
       "      <th>id</th>\n",
       "      <th>percentage</th>\n",
       "    </tr>\n",
       "  </thead>\n",
       "  <tbody>\n",
       "    <tr>\n",
       "      <th>1000</th>\n",
       "      <td>breitbart.com</td>\n",
       "      <td>57.0</td>\n",
       "      <td>False</td>\n",
       "      <td>3821</td>\n",
       "      <td>18.945855</td>\n",
       "    </tr>\n",
       "    <tr>\n",
       "      <th>1017</th>\n",
       "      <td>westernjournal.com</td>\n",
       "      <td>32.5</td>\n",
       "      <td>False</td>\n",
       "      <td>2993</td>\n",
       "      <td>14.840341</td>\n",
       "    </tr>\n",
       "    <tr>\n",
       "      <th>1024</th>\n",
       "      <td>thegatewaypundit.com</td>\n",
       "      <td>20.0</td>\n",
       "      <td>False</td>\n",
       "      <td>2793</td>\n",
       "      <td>13.848671</td>\n",
       "    </tr>\n",
       "    <tr>\n",
       "      <th>1015</th>\n",
       "      <td>theblaze.com</td>\n",
       "      <td>40.0</td>\n",
       "      <td>False</td>\n",
       "      <td>1341</td>\n",
       "      <td>6.649147</td>\n",
       "    </tr>\n",
       "    <tr>\n",
       "      <th>1018</th>\n",
       "      <td>rt.com</td>\n",
       "      <td>32.5</td>\n",
       "      <td>False</td>\n",
       "      <td>1049</td>\n",
       "      <td>5.201309</td>\n",
       "    </tr>\n",
       "    <tr>\n",
       "      <th>1032</th>\n",
       "      <td>zerohedge.com</td>\n",
       "      <td>0.0</td>\n",
       "      <td>False</td>\n",
       "      <td>809</td>\n",
       "      <td>4.011305</td>\n",
       "    </tr>\n",
       "    <tr>\n",
       "      <th>1006</th>\n",
       "      <td>aljazeera.com</td>\n",
       "      <td>52.0</td>\n",
       "      <td>False</td>\n",
       "      <td>807</td>\n",
       "      <td>4.001388</td>\n",
       "    </tr>\n",
       "    <tr>\n",
       "      <th>1012</th>\n",
       "      <td>redstate.com</td>\n",
       "      <td>42.0</td>\n",
       "      <td>False</td>\n",
       "      <td>648</td>\n",
       "      <td>3.213011</td>\n",
       "    </tr>\n",
       "    <tr>\n",
       "      <th>1004</th>\n",
       "      <td>dailykos.com</td>\n",
       "      <td>54.5</td>\n",
       "      <td>False</td>\n",
       "      <td>602</td>\n",
       "      <td>2.984927</td>\n",
       "    </tr>\n",
       "    <tr>\n",
       "      <th>1013</th>\n",
       "      <td>pjmedia.com</td>\n",
       "      <td>42.0</td>\n",
       "      <td>False</td>\n",
       "      <td>599</td>\n",
       "      <td>2.970052</td>\n",
       "    </tr>\n",
       "    <tr>\n",
       "      <th>1021</th>\n",
       "      <td>americanthinker.com</td>\n",
       "      <td>27.5</td>\n",
       "      <td>False</td>\n",
       "      <td>555</td>\n",
       "      <td>2.751884</td>\n",
       "    </tr>\n",
       "    <tr>\n",
       "      <th>1025</th>\n",
       "      <td>lifesitenews.com</td>\n",
       "      <td>17.5</td>\n",
       "      <td>False</td>\n",
       "      <td>460</td>\n",
       "      <td>2.280841</td>\n",
       "    </tr>\n",
       "    <tr>\n",
       "      <th>1022</th>\n",
       "      <td>wnd.com</td>\n",
       "      <td>25.0</td>\n",
       "      <td>False</td>\n",
       "      <td>447</td>\n",
       "      <td>2.216382</td>\n",
       "    </tr>\n",
       "    <tr>\n",
       "      <th>1008</th>\n",
       "      <td>gulfnews.com</td>\n",
       "      <td>47.0</td>\n",
       "      <td>False</td>\n",
       "      <td>425</td>\n",
       "      <td>2.107299</td>\n",
       "    </tr>\n",
       "    <tr>\n",
       "      <th>1026</th>\n",
       "      <td>lifenews.com</td>\n",
       "      <td>17.5</td>\n",
       "      <td>False</td>\n",
       "      <td>376</td>\n",
       "      <td>1.864340</td>\n",
       "    </tr>\n",
       "    <tr>\n",
       "      <th>1023</th>\n",
       "      <td>infowars.com</td>\n",
       "      <td>25.0</td>\n",
       "      <td>False</td>\n",
       "      <td>333</td>\n",
       "      <td>1.651131</td>\n",
       "    </tr>\n",
       "    <tr>\n",
       "      <th>1016</th>\n",
       "      <td>middleeastmonitor.com</td>\n",
       "      <td>40.0</td>\n",
       "      <td>False</td>\n",
       "      <td>291</td>\n",
       "      <td>1.442880</td>\n",
       "    </tr>\n",
       "    <tr>\n",
       "      <th>1019</th>\n",
       "      <td>arabnews.com</td>\n",
       "      <td>32.0</td>\n",
       "      <td>False</td>\n",
       "      <td>254</td>\n",
       "      <td>1.259421</td>\n",
       "    </tr>\n",
       "    <tr>\n",
       "      <th>1030</th>\n",
       "      <td>sputniknews.com</td>\n",
       "      <td>7.5</td>\n",
       "      <td>False</td>\n",
       "      <td>229</td>\n",
       "      <td>1.135462</td>\n",
       "    </tr>\n",
       "    <tr>\n",
       "      <th>1010</th>\n",
       "      <td>aclj.org</td>\n",
       "      <td>44.5</td>\n",
       "      <td>False</td>\n",
       "      <td>199</td>\n",
       "      <td>0.986712</td>\n",
       "    </tr>\n",
       "    <tr>\n",
       "      <th>1001</th>\n",
       "      <td>iflscience.com</td>\n",
       "      <td>57.0</td>\n",
       "      <td>False</td>\n",
       "      <td>174</td>\n",
       "      <td>0.862753</td>\n",
       "    </tr>\n",
       "    <tr>\n",
       "      <th>1011</th>\n",
       "      <td>judicialwatch.org</td>\n",
       "      <td>44.5</td>\n",
       "      <td>False</td>\n",
       "      <td>150</td>\n",
       "      <td>0.743752</td>\n",
       "    </tr>\n",
       "    <tr>\n",
       "      <th>1009</th>\n",
       "      <td>rushlimbaugh.com</td>\n",
       "      <td>47.0</td>\n",
       "      <td>False</td>\n",
       "      <td>139</td>\n",
       "      <td>0.689211</td>\n",
       "    </tr>\n",
       "    <tr>\n",
       "      <th>1027</th>\n",
       "      <td>theconservativetreehouse.com</td>\n",
       "      <td>17.5</td>\n",
       "      <td>False</td>\n",
       "      <td>110</td>\n",
       "      <td>0.545418</td>\n",
       "    </tr>\n",
       "    <tr>\n",
       "      <th>1028</th>\n",
       "      <td>yournewswire.com</td>\n",
       "      <td>15.0</td>\n",
       "      <td>False</td>\n",
       "      <td>96</td>\n",
       "      <td>0.476002</td>\n",
       "    </tr>\n",
       "    <tr>\n",
       "      <th>1005</th>\n",
       "      <td>hollywoodlife.com</td>\n",
       "      <td>54.5</td>\n",
       "      <td>False</td>\n",
       "      <td>87</td>\n",
       "      <td>0.431376</td>\n",
       "    </tr>\n",
       "    <tr>\n",
       "      <th>999</th>\n",
       "      <td>thefreethoughtproject.com</td>\n",
       "      <td>59.5</td>\n",
       "      <td>False</td>\n",
       "      <td>87</td>\n",
       "      <td>0.431376</td>\n",
       "    </tr>\n",
       "    <tr>\n",
       "      <th>1007</th>\n",
       "      <td>therightscoop.com</td>\n",
       "      <td>47.5</td>\n",
       "      <td>False</td>\n",
       "      <td>84</td>\n",
       "      <td>0.416501</td>\n",
       "    </tr>\n",
       "    <tr>\n",
       "      <th>1014</th>\n",
       "      <td>hannity.com</td>\n",
       "      <td>42.0</td>\n",
       "      <td>False</td>\n",
       "      <td>80</td>\n",
       "      <td>0.396668</td>\n",
       "    </tr>\n",
       "    <tr>\n",
       "      <th>1020</th>\n",
       "      <td>gregpalast.com</td>\n",
       "      <td>32.0</td>\n",
       "      <td>False</td>\n",
       "      <td>66</td>\n",
       "      <td>0.327251</td>\n",
       "    </tr>\n",
       "    <tr>\n",
       "      <th>1002</th>\n",
       "      <td>christiantoday.com</td>\n",
       "      <td>55.0</td>\n",
       "      <td>False</td>\n",
       "      <td>44</td>\n",
       "      <td>0.218167</td>\n",
       "    </tr>\n",
       "    <tr>\n",
       "      <th>1003</th>\n",
       "      <td>laweekly.com</td>\n",
       "      <td>55.0</td>\n",
       "      <td>False</td>\n",
       "      <td>10</td>\n",
       "      <td>0.049583</td>\n",
       "    </tr>\n",
       "    <tr>\n",
       "      <th>1031</th>\n",
       "      <td>worldnewsdailyreport.com</td>\n",
       "      <td>7.5</td>\n",
       "      <td>False</td>\n",
       "      <td>8</td>\n",
       "      <td>0.039667</td>\n",
       "    </tr>\n",
       "    <tr>\n",
       "      <th>1029</th>\n",
       "      <td>naturalnews.com</td>\n",
       "      <td>12.5</td>\n",
       "      <td>False</td>\n",
       "      <td>2</td>\n",
       "      <td>0.009917</td>\n",
       "    </tr>\n",
       "  </tbody>\n",
       "</table>\n",
       "</div>"
      ],
      "text/plain": [
       "                            domain  rating  credible    id  percentage\n",
       "1000                 breitbart.com    57.0     False  3821   18.945855\n",
       "1017            westernjournal.com    32.5     False  2993   14.840341\n",
       "1024          thegatewaypundit.com    20.0     False  2793   13.848671\n",
       "1015                  theblaze.com    40.0     False  1341    6.649147\n",
       "1018                        rt.com    32.5     False  1049    5.201309\n",
       "1032                 zerohedge.com     0.0     False   809    4.011305\n",
       "1006                 aljazeera.com    52.0     False   807    4.001388\n",
       "1012                  redstate.com    42.0     False   648    3.213011\n",
       "1004                  dailykos.com    54.5     False   602    2.984927\n",
       "1013                   pjmedia.com    42.0     False   599    2.970052\n",
       "1021           americanthinker.com    27.5     False   555    2.751884\n",
       "1025              lifesitenews.com    17.5     False   460    2.280841\n",
       "1022                       wnd.com    25.0     False   447    2.216382\n",
       "1008                  gulfnews.com    47.0     False   425    2.107299\n",
       "1026                  lifenews.com    17.5     False   376    1.864340\n",
       "1023                  infowars.com    25.0     False   333    1.651131\n",
       "1016         middleeastmonitor.com    40.0     False   291    1.442880\n",
       "1019                  arabnews.com    32.0     False   254    1.259421\n",
       "1030               sputniknews.com     7.5     False   229    1.135462\n",
       "1010                      aclj.org    44.5     False   199    0.986712\n",
       "1001                iflscience.com    57.0     False   174    0.862753\n",
       "1011             judicialwatch.org    44.5     False   150    0.743752\n",
       "1009              rushlimbaugh.com    47.0     False   139    0.689211\n",
       "1027  theconservativetreehouse.com    17.5     False   110    0.545418\n",
       "1028              yournewswire.com    15.0     False    96    0.476002\n",
       "1005             hollywoodlife.com    54.5     False    87    0.431376\n",
       "999      thefreethoughtproject.com    59.5     False    87    0.431376\n",
       "1007             therightscoop.com    47.5     False    84    0.416501\n",
       "1014                   hannity.com    42.0     False    80    0.396668\n",
       "1020                gregpalast.com    32.0     False    66    0.327251\n",
       "1002            christiantoday.com    55.0     False    44    0.218167\n",
       "1003                  laweekly.com    55.0     False    10    0.049583\n",
       "1031      worldnewsdailyreport.com     7.5     False     8    0.039667\n",
       "1029               naturalnews.com    12.5     False     2    0.009917"
      ]
     },
     "execution_count": 68,
     "metadata": {},
     "output_type": "execute_result"
    }
   ],
   "source": [
    "noncredible_domains.sort_values(['percentage'], ascending=False)"
   ]
  },
  {
   "cell_type": "code",
   "execution_count": 69,
   "metadata": {},
   "outputs": [],
   "source": [
    "noncredible_top5_trend_df =  pd.pivot_table(news_ratings_data[news_ratings_data['domain'].isin(noncredible_top5_list)], values = 'id',index = 'day', columns = 'domain', aggfunc ='count').sort_values(['day'], ascending=True).reset_index()"
   ]
  },
  {
   "cell_type": "code",
   "execution_count": 70,
   "metadata": {},
   "outputs": [
    {
     "data": {
      "text/html": [
       "<div>\n",
       "<style scoped>\n",
       "    .dataframe tbody tr th:only-of-type {\n",
       "        vertical-align: middle;\n",
       "    }\n",
       "\n",
       "    .dataframe tbody tr th {\n",
       "        vertical-align: top;\n",
       "    }\n",
       "\n",
       "    .dataframe thead th {\n",
       "        text-align: right;\n",
       "    }\n",
       "</style>\n",
       "<table border=\"1\" class=\"dataframe\">\n",
       "  <thead>\n",
       "    <tr style=\"text-align: right;\">\n",
       "      <th>domain</th>\n",
       "      <th>day</th>\n",
       "      <th>naturalnews.com</th>\n",
       "      <th>sputniknews.com</th>\n",
       "      <th>worldnewsdailyreport.com</th>\n",
       "      <th>yournewswire.com</th>\n",
       "      <th>zerohedge.com</th>\n",
       "    </tr>\n",
       "  </thead>\n",
       "  <tbody>\n",
       "    <tr>\n",
       "      <th>0</th>\n",
       "      <td>2020-11-22</td>\n",
       "      <td>NaN</td>\n",
       "      <td>68.0</td>\n",
       "      <td>1.0</td>\n",
       "      <td>2.0</td>\n",
       "      <td>213.0</td>\n",
       "    </tr>\n",
       "    <tr>\n",
       "      <th>1</th>\n",
       "      <td>2020-11-23</td>\n",
       "      <td>2.0</td>\n",
       "      <td>94.0</td>\n",
       "      <td>3.0</td>\n",
       "      <td>87.0</td>\n",
       "      <td>286.0</td>\n",
       "    </tr>\n",
       "    <tr>\n",
       "      <th>2</th>\n",
       "      <td>2020-11-24</td>\n",
       "      <td>NaN</td>\n",
       "      <td>67.0</td>\n",
       "      <td>4.0</td>\n",
       "      <td>7.0</td>\n",
       "      <td>310.0</td>\n",
       "    </tr>\n",
       "  </tbody>\n",
       "</table>\n",
       "</div>"
      ],
      "text/plain": [
       "domain        day  naturalnews.com  sputniknews.com  worldnewsdailyreport.com  \\\n",
       "0      2020-11-22              NaN             68.0                       1.0   \n",
       "1      2020-11-23              2.0             94.0                       3.0   \n",
       "2      2020-11-24              NaN             67.0                       4.0   \n",
       "\n",
       "domain  yournewswire.com  zerohedge.com  \n",
       "0                    2.0          213.0  \n",
       "1                   87.0          286.0  \n",
       "2                    7.0          310.0  "
      ]
     },
     "execution_count": 70,
     "metadata": {},
     "output_type": "execute_result"
    }
   ],
   "source": [
    "noncredible_top5_trend_df.head()"
   ]
  },
  {
   "cell_type": "code",
   "execution_count": 71,
   "metadata": {},
   "outputs": [
    {
     "data": {
      "image/svg+xml": [
       "<svg class=\"main-svg\" xmlns=\"http://www.w3.org/2000/svg\" xmlns:xlink=\"http://www.w3.org/1999/xlink\" width=\"700\" height=\"450\" style=\"\" viewBox=\"0 0 700 450\"><rect x=\"0\" y=\"0\" width=\"700\" height=\"450\" style=\"fill: rgb(255, 255, 255); fill-opacity: 1;\"/><defs id=\"defs-f17bb9\"><g class=\"clips\"><clipPath id=\"clipf17bb9xyplot\" class=\"plotclip\"><rect width=\"396\" height=\"270\"/></clipPath><clipPath class=\"axesclip\" id=\"clipf17bb9x\"><rect x=\"80\" y=\"0\" width=\"396\" height=\"450\"/></clipPath><clipPath class=\"axesclip\" id=\"clipf17bb9y\"><rect x=\"0\" y=\"100\" width=\"700\" height=\"270\"/></clipPath><clipPath class=\"axesclip\" id=\"clipf17bb9xy\"><rect x=\"80\" y=\"100\" width=\"396\" height=\"270\"/></clipPath></g><g class=\"gradients\"/></defs><g class=\"bglayer\"><rect class=\"bg\" x=\"80\" y=\"100\" width=\"396\" height=\"270\" style=\"fill: rgb(229, 236, 246); fill-opacity: 1; stroke-width: 0;\"/></g><g class=\"layer-below\"><g class=\"imagelayer\"/><g class=\"shapelayer\"/></g><g class=\"cartesianlayer\"><g class=\"subplot xy\"><g class=\"layer-subplot\"><g class=\"shapelayer\"/><g class=\"imagelayer\"/></g><g class=\"gridlayer\"><g class=\"x\"><path class=\"xgrid crisp\" transform=\"translate(179,0)\" d=\"M0,100v270\" style=\"stroke: rgb(255, 255, 255); stroke-opacity: 1; stroke-width: 1px;\"/><path class=\"xgrid crisp\" transform=\"translate(278,0)\" d=\"M0,100v270\" style=\"stroke: rgb(255, 255, 255); stroke-opacity: 1; stroke-width: 1px;\"/><path class=\"xgrid crisp\" transform=\"translate(377,0)\" d=\"M0,100v270\" style=\"stroke: rgb(255, 255, 255); stroke-opacity: 1; stroke-width: 1px;\"/></g><g class=\"y\"><path class=\"ygrid crisp\" transform=\"translate(0,317.97)\" d=\"M80,0h396\" style=\"stroke: rgb(255, 255, 255); stroke-opacity: 1; stroke-width: 1px;\"/><path class=\"ygrid crisp\" transform=\"translate(0,278.65)\" d=\"M80,0h396\" style=\"stroke: rgb(255, 255, 255); stroke-opacity: 1; stroke-width: 1px;\"/><path class=\"ygrid crisp\" transform=\"translate(0,239.33)\" d=\"M80,0h396\" style=\"stroke: rgb(255, 255, 255); stroke-opacity: 1; stroke-width: 1px;\"/><path class=\"ygrid crisp\" transform=\"translate(0,200)\" d=\"M80,0h396\" style=\"stroke: rgb(255, 255, 255); stroke-opacity: 1; stroke-width: 1px;\"/><path class=\"ygrid crisp\" transform=\"translate(0,160.68)\" d=\"M80,0h396\" style=\"stroke: rgb(255, 255, 255); stroke-opacity: 1; stroke-width: 1px;\"/><path class=\"ygrid crisp\" transform=\"translate(0,121.36)\" d=\"M80,0h396\" style=\"stroke: rgb(255, 255, 255); stroke-opacity: 1; stroke-width: 1px;\"/></g></g><g class=\"zerolinelayer\"><path class=\"yzl zl crisp\" transform=\"translate(0,357.29)\" d=\"M80,0h396\" style=\"stroke: rgb(255, 255, 255); stroke-opacity: 1; stroke-width: 2px;\"/></g><path class=\"xlines-below\"/><path class=\"ylines-below\"/><g class=\"overlines-below\"/><g class=\"xaxislayer-below\"/><g class=\"yaxislayer-below\"/><g class=\"overaxes-below\"/><g class=\"plot\" transform=\"translate(80,100)\" clip-path=\"url('#clipf17bb9xyplot')\"><g class=\"scatterlayer mlayer\"><g class=\"trace scatter tracef3ed44\" style=\"stroke-miterlimit: 2; opacity: 1;\"><g class=\"fills\"/><g class=\"errorbars\"/><g class=\"lines\"><path class=\"js-line\" d=\"M0,89.78L198,32.37L396,13.5\" style=\"vector-effect: non-scaling-stroke; fill: none; stroke: rgb(99, 110, 250); stroke-opacity: 1; stroke-width: 2px; opacity: 1;\"/></g><g class=\"points\"/><g class=\"text\"/></g><g class=\"trace scatter trace48ca6c\" style=\"stroke-miterlimit: 2; opacity: 1;\"><g class=\"fills\"/><g class=\"errorbars\"/><g class=\"lines\"><path class=\"js-line\" d=\"M0,256.5L198,254.93L396,254.14\" style=\"vector-effect: non-scaling-stroke; fill: none; stroke: rgb(239, 85, 59); stroke-opacity: 1; stroke-width: 2px; opacity: 1;\"/></g><g class=\"points\"/><g class=\"text\"/></g><g class=\"trace scatter trace4740d2\" style=\"stroke-miterlimit: 2; opacity: 1;\"><g class=\"fills\"/><g class=\"errorbars\"/><g class=\"lines\"><path class=\"js-line\" d=\"M0,203.81L198,183.36L396,204.6\" style=\"vector-effect: non-scaling-stroke; fill: none; stroke: rgb(0, 204, 150); stroke-opacity: 1; stroke-width: 2px; opacity: 1;\"/></g><g class=\"points\"/><g class=\"text\"/></g><g class=\"trace scatter trace0f17d7\" style=\"stroke-miterlimit: 2; opacity: 1;\"><g class=\"fills\"/><g class=\"errorbars\"/><g class=\"lines\"/><g class=\"points\"/><g class=\"text\"/></g><g class=\"trace scatter tracecb1f14\" style=\"stroke-miterlimit: 2; opacity: 1;\"><g class=\"fills\"/><g class=\"errorbars\"/><g class=\"lines\"><path class=\"js-line\" d=\"M0,255.71L198,188.87L396,251.78\" style=\"vector-effect: non-scaling-stroke; fill: none; stroke: rgb(255, 161, 90); stroke-opacity: 1; stroke-width: 2px; opacity: 1;\"/></g><g class=\"points\"/><g class=\"text\"/></g></g></g><g class=\"overplot\"/><path class=\"xlines-above crisp\" style=\"fill: none;\" d=\"M0,0\"/><path class=\"ylines-above crisp\" style=\"fill: none;\" d=\"M0,0\"/><g class=\"overlines-above\"/><g class=\"xaxislayer-above\"><g class=\"xtick\"><text text-anchor=\"middle\" x=\"0\" y=\"383\" transform=\"translate(80,0)\" style=\"font-family: 'Open Sans', verdana, arial, sans-serif; font-size: 12px; fill: rgb(42, 63, 95); fill-opacity: 1; white-space: pre;\"><tspan class=\"line\" dy=\"0em\" x=\"0\" y=\"383\">00:00</tspan><tspan class=\"line\" dy=\"1.3em\" x=\"0\" y=\"383\">Nov 22, 2020</tspan></text></g><g class=\"xtick\"><text text-anchor=\"middle\" x=\"0\" y=\"383\" transform=\"translate(179,0)\" style=\"font-family: 'Open Sans', verdana, arial, sans-serif; font-size: 12px; fill: rgb(42, 63, 95); fill-opacity: 1; white-space: pre;\">12:00</text></g><g class=\"xtick\"><text text-anchor=\"middle\" x=\"0\" y=\"383\" transform=\"translate(278,0)\" style=\"font-family: 'Open Sans', verdana, arial, sans-serif; font-size: 12px; fill: rgb(42, 63, 95); fill-opacity: 1; white-space: pre;\"><tspan class=\"line\" dy=\"0em\" x=\"0\" y=\"383\">00:00</tspan><tspan class=\"line\" dy=\"1.3em\" x=\"0\" y=\"383\">Nov 23, 2020</tspan></text></g><g class=\"xtick\"><text text-anchor=\"middle\" x=\"0\" y=\"383\" transform=\"translate(377,0)\" style=\"font-family: 'Open Sans', verdana, arial, sans-serif; font-size: 12px; fill: rgb(42, 63, 95); fill-opacity: 1; white-space: pre;\">12:00</text></g><g class=\"xtick\"><text text-anchor=\"middle\" x=\"0\" y=\"383\" transform=\"translate(476,0)\" style=\"font-family: 'Open Sans', verdana, arial, sans-serif; font-size: 12px; fill: rgb(42, 63, 95); fill-opacity: 1; white-space: pre;\"><tspan class=\"line\" dy=\"0em\" x=\"0\" y=\"383\">00:00</tspan><tspan class=\"line\" dy=\"1.3em\" x=\"0\" y=\"383\">Nov 24, 2020</tspan></text></g></g><g class=\"yaxislayer-above\"><g class=\"ytick\"><text text-anchor=\"end\" x=\"79\" y=\"4.199999999999999\" transform=\"translate(0,357.29)\" style=\"font-family: 'Open Sans', verdana, arial, sans-serif; font-size: 12px; fill: rgb(42, 63, 95); fill-opacity: 1; white-space: pre;\">0</text></g><g class=\"ytick\"><text text-anchor=\"end\" x=\"79\" y=\"4.199999999999999\" transform=\"translate(0,317.97)\" style=\"font-family: 'Open Sans', verdana, arial, sans-serif; font-size: 12px; fill: rgb(42, 63, 95); fill-opacity: 1; white-space: pre;\">50</text></g><g class=\"ytick\"><text text-anchor=\"end\" x=\"79\" y=\"4.199999999999999\" transform=\"translate(0,278.65)\" style=\"font-family: 'Open Sans', verdana, arial, sans-serif; font-size: 12px; fill: rgb(42, 63, 95); fill-opacity: 1; white-space: pre;\">100</text></g><g class=\"ytick\"><text text-anchor=\"end\" x=\"79\" y=\"4.199999999999999\" transform=\"translate(0,239.33)\" style=\"font-family: 'Open Sans', verdana, arial, sans-serif; font-size: 12px; fill: rgb(42, 63, 95); fill-opacity: 1; white-space: pre;\">150</text></g><g class=\"ytick\"><text text-anchor=\"end\" x=\"79\" y=\"4.199999999999999\" transform=\"translate(0,200)\" style=\"font-family: 'Open Sans', verdana, arial, sans-serif; font-size: 12px; fill: rgb(42, 63, 95); fill-opacity: 1; white-space: pre;\">200</text></g><g class=\"ytick\"><text text-anchor=\"end\" x=\"79\" y=\"4.199999999999999\" transform=\"translate(0,160.68)\" style=\"font-family: 'Open Sans', verdana, arial, sans-serif; font-size: 12px; fill: rgb(42, 63, 95); fill-opacity: 1; white-space: pre;\">250</text></g><g class=\"ytick\"><text text-anchor=\"end\" x=\"79\" y=\"4.199999999999999\" transform=\"translate(0,121.36)\" style=\"font-family: 'Open Sans', verdana, arial, sans-serif; font-size: 12px; fill: rgb(42, 63, 95); fill-opacity: 1; white-space: pre;\">300</text></g></g><g class=\"overaxes-above\"/></g></g><g class=\"polarlayer\"/><g class=\"ternarylayer\"/><g class=\"geolayer\"/><g class=\"funnelarealayer\"/><g class=\"pielayer\"/><g class=\"treemaplayer\"/><g class=\"sunburstlayer\"/><g class=\"glimages\"/><defs id=\"topdefs-f17bb9\"><g class=\"clips\"/><clipPath id=\"legendf17bb9\"><rect width=\"204\" height=\"105\" x=\"0\" y=\"0\"/></clipPath></defs><g class=\"layer-above\"><g class=\"imagelayer\"/><g class=\"shapelayer\"/></g><g class=\"infolayer\"><g class=\"legend\" pointer-events=\"all\" transform=\"translate(483.92,100)\"><rect class=\"bg\" shape-rendering=\"crispEdges\" style=\"stroke: rgb(68, 68, 68); stroke-opacity: 1; fill: rgb(255, 255, 255); fill-opacity: 1; stroke-width: 0px;\" width=\"204\" height=\"105\" x=\"0\" y=\"0\"/><g class=\"scrollbox\" transform=\"\" clip-path=\"url('#legendf17bb9')\"><g class=\"groups\"><g class=\"traces\" style=\"opacity: 1;\" transform=\"translate(0,14.5)\"><text class=\"legendtext\" text-anchor=\"start\" x=\"40\" y=\"4.680000000000001\" style=\"font-family: 'Open Sans', verdana, arial, sans-serif; font-size: 12px; fill: rgb(42, 63, 95); fill-opacity: 1; white-space: pre;\">zerohedge.com</text><g class=\"layers\" style=\"opacity: 1;\"><g class=\"legendfill\"/><g class=\"legendlines\"><path class=\"js-line\" d=\"M5,0h30\" style=\"fill: none; stroke: rgb(99, 110, 250); stroke-opacity: 1; stroke-width: 2px;\"/></g><g class=\"legendsymbols\"><g class=\"legendpoints\"/></g></g><rect class=\"legendtoggle\" x=\"0\" y=\"-9.5\" width=\"198.640625\" height=\"19\" style=\"fill: rgb(0, 0, 0); fill-opacity: 0;\"/></g><g class=\"traces\" style=\"opacity: 1;\" transform=\"translate(0,33.5)\"><text class=\"legendtext\" text-anchor=\"start\" x=\"40\" y=\"4.680000000000001\" style=\"font-family: 'Open Sans', verdana, arial, sans-serif; font-size: 12px; fill: rgb(42, 63, 95); fill-opacity: 1; white-space: pre;\">worldnewsdailyreport.com</text><g class=\"layers\" style=\"opacity: 1;\"><g class=\"legendfill\"/><g class=\"legendlines\"><path class=\"js-line\" d=\"M5,0h30\" style=\"fill: none; stroke: rgb(239, 85, 59); stroke-opacity: 1; stroke-width: 2px;\"/></g><g class=\"legendsymbols\"><g class=\"legendpoints\"/></g></g><rect class=\"legendtoggle\" x=\"0\" y=\"-9.5\" width=\"198.640625\" height=\"19\" style=\"fill: rgb(0, 0, 0); fill-opacity: 0;\"/></g><g class=\"traces\" style=\"opacity: 1;\" transform=\"translate(0,52.5)\"><text class=\"legendtext\" text-anchor=\"start\" x=\"40\" y=\"4.680000000000001\" style=\"font-family: 'Open Sans', verdana, arial, sans-serif; font-size: 12px; fill: rgb(42, 63, 95); fill-opacity: 1; white-space: pre;\">sputniknews.com</text><g class=\"layers\" style=\"opacity: 1;\"><g class=\"legendfill\"/><g class=\"legendlines\"><path class=\"js-line\" d=\"M5,0h30\" style=\"fill: none; stroke: rgb(0, 204, 150); stroke-opacity: 1; stroke-width: 2px;\"/></g><g class=\"legendsymbols\"><g class=\"legendpoints\"/></g></g><rect class=\"legendtoggle\" x=\"0\" y=\"-9.5\" width=\"198.640625\" height=\"19\" style=\"fill: rgb(0, 0, 0); fill-opacity: 0;\"/></g><g class=\"traces\" style=\"opacity: 1;\" transform=\"translate(0,71.5)\"><text class=\"legendtext\" text-anchor=\"start\" x=\"40\" y=\"4.680000000000001\" style=\"font-family: 'Open Sans', verdana, arial, sans-serif; font-size: 12px; fill: rgb(42, 63, 95); fill-opacity: 1; white-space: pre;\">naturalnews.com</text><g class=\"layers\" style=\"opacity: 1;\"><g class=\"legendfill\"/><g class=\"legendlines\"><path class=\"js-line\" d=\"M5,0h30\" style=\"fill: none; stroke: rgb(171, 99, 250); stroke-opacity: 1; stroke-width: 2px;\"/></g><g class=\"legendsymbols\"><g class=\"legendpoints\"/></g></g><rect class=\"legendtoggle\" x=\"0\" y=\"-9.5\" width=\"198.640625\" height=\"19\" style=\"fill: rgb(0, 0, 0); fill-opacity: 0;\"/></g><g class=\"traces\" style=\"opacity: 1;\" transform=\"translate(0,90.5)\"><text class=\"legendtext\" text-anchor=\"start\" x=\"40\" y=\"4.680000000000001\" style=\"font-family: 'Open Sans', verdana, arial, sans-serif; font-size: 12px; fill: rgb(42, 63, 95); fill-opacity: 1; white-space: pre;\">yournewswire.com</text><g class=\"layers\" style=\"opacity: 1;\"><g class=\"legendfill\"/><g class=\"legendlines\"><path class=\"js-line\" d=\"M5,0h30\" style=\"fill: none; stroke: rgb(255, 161, 90); stroke-opacity: 1; stroke-width: 2px;\"/></g><g class=\"legendsymbols\"><g class=\"legendpoints\"/></g></g><rect class=\"legendtoggle\" x=\"0\" y=\"-9.5\" width=\"198.640625\" height=\"19\" style=\"fill: rgb(0, 0, 0); fill-opacity: 0;\"/></g></g></g><rect class=\"scrollbar\" rx=\"20\" ry=\"3\" width=\"0\" height=\"0\" style=\"fill: rgb(128, 139, 164); fill-opacity: 1;\" x=\"0\" y=\"0\"/></g><g class=\"g-gtitle\"><text class=\"gtitle\" x=\"35\" y=\"50\" text-anchor=\"start\" dy=\"0em\" style=\"font-family: 'Open Sans', verdana, arial, sans-serif; font-size: 17px; fill: rgb(42, 63, 95); opacity: 1; font-weight: normal; white-space: pre;\">Popularity of Top 5 Non-Credible Sources vs. Time</text></g><g class=\"g-xtitle\"><text class=\"xtitle\" x=\"278\" y=\"426.08125\" text-anchor=\"middle\" style=\"font-family: 'Open Sans', verdana, arial, sans-serif; font-size: 14px; fill: rgb(42, 63, 95); opacity: 1; font-weight: normal; white-space: pre;\">Time(date)</text></g><g class=\"g-ytitle\"><text class=\"ytitle\" transform=\"rotate(-90,31.309375000000003,235)\" x=\"31.309375000000003\" y=\"235\" text-anchor=\"middle\" style=\"font-family: 'Open Sans', verdana, arial, sans-serif; font-size: 14px; fill: rgb(42, 63, 95); opacity: 1; font-weight: normal; white-space: pre;\">Number of Posts</text></g></g></svg>"
      ]
     },
     "metadata": {},
     "output_type": "display_data"
    }
   ],
   "source": [
    "fig = go.Figure(data=go.Scatter(x=noncredible_top5_trend_df.day, y=noncredible_top5_trend_df[noncredible_top5_list[0]],mode='lines', name=noncredible_top5_list[0]))\n",
    "for col in noncredible_top5_list[1:]:\n",
    "                fig.add_trace(go.Scatter(x=noncredible_top5_trend_df.day, y=noncredible_top5_trend_df[col],mode='lines', name=col))\n",
    "# fig.update_yaxes(type=\"log\")\n",
    "fig.update_layout(\n",
    "title=\"Popularity of Top 5 Non-Credible Sources vs. Time\",\n",
    "xaxis_title=\"Time(date)\",\n",
    "yaxis_title=\"Number of Posts\")\n",
    "fig.show(svg_option)"
   ]
  },
  {
   "cell_type": "code",
   "execution_count": 72,
   "metadata": {},
   "outputs": [],
   "source": [
    "fig.write_image(\"images/top_noncredible_over_time.png\")"
   ]
  },
  {
   "cell_type": "markdown",
   "metadata": {},
   "source": [
    "### Engagement Analysis"
   ]
  },
  {
   "cell_type": "code",
   "execution_count": 73,
   "metadata": {},
   "outputs": [
    {
     "data": {
      "text/plain": [
       "Index(['id', 'date', 'updated', 'title', 'caption', 'expandedLinks', 'link',\n",
       "       'postUrl', 'subscriberCount', 'score', 'account_id', 'account_name',\n",
       "       'account_handle', 'account_subscriberCount', 'account_url',\n",
       "       'account_accountType', 'account_pageAdminTopCountry',\n",
       "       'account_verified', 'statistics_likeCount', 'statistics_shareCount',\n",
       "       'statistics_commentCount', 'statistics_loveCount',\n",
       "       'statistics_wowCount', 'statistics_hahaCount', 'statistics_sadCount',\n",
       "       'statistics_angryCount', 'statistics_thankfulCount',\n",
       "       'statistics_careCount', 'domain', 'rating', 'credible', 'day'],\n",
       "      dtype='object')"
      ]
     },
     "execution_count": 73,
     "metadata": {},
     "output_type": "execute_result"
    }
   ],
   "source": [
    "news_ratings_data.columns"
   ]
  },
  {
   "cell_type": "code",
   "execution_count": 74,
   "metadata": {},
   "outputs": [],
   "source": [
    "import matplotlib.pyplot as plt\n",
    "def plot_cdf(list_counts, xlabel, path, leg=False, islogx=True, title=None):\n",
    "    for l in list_counts:\n",
    "        l.sort()\n",
    "    fig, ax = plt.subplots(figsize=(6,4))\n",
    "    yvals = []\n",
    "    for l in list_counts:\n",
    "        yvals.append(np.arange(len(l))/float(len(l)-1))\n",
    "    for i in range(len(list_counts)):\n",
    "        ax.plot(list_counts[i], yvals[i])\n",
    "    if islogx:\n",
    "        ax.set_xscale(\"log\")\n",
    "    plt.xlabel(xlabel)\n",
    "    plt.title(title)\n",
    "    plt.ylabel('CDF')\n",
    "    plt.grid()\n",
    "    for item in ([ax.xaxis.label, ax.yaxis.label] + ax.get_xticklabels() + ax.get_yticklabels()):\n",
    "        item.set_fontsize(13)\n",
    "    \n",
    "    if leg:\n",
    "        plt.legend(leg, loc='best', fontsize=13)\n",
    "    \n",
    "    plt.show()\n",
    "    fig.savefig(path, bbox_inches='tight')"
   ]
  },
  {
   "cell_type": "code",
   "execution_count": 75,
   "metadata": {},
   "outputs": [],
   "source": [
    "def plot_statistics_cdf(metric, islogx=True):\n",
    "    stat = f'statistics_{metric}Count'\n",
    "    list_of_posts_stat_metric = [news_ratings_data[news_ratings_data[\"credible\"] == True][['id', stat]].drop_duplicates()[stat].tolist(),\n",
    "                        news_ratings_data[news_ratings_data[\"credible\"] == False][['id', stat]].drop_duplicates()[stat].tolist()]\n",
    "    plot_cdf(list_of_posts_stat_metric, \n",
    "        '# of posts',\n",
    "        leg=['Credible', 'Non-Credible'],\n",
    "        path=f'images/cdf_{metric}.pdf',\n",
    "        title=f\"CDF - {metric}\",\n",
    "        islogx=islogx)"
   ]
  },
  {
   "cell_type": "code",
   "execution_count": 76,
   "metadata": {},
   "outputs": [
    {
     "data": {
      "image/png": "[encoded data removed]",
      "text/plain": [
       "<Figure size 432x288 with 1 Axes>"
      ]
     },
     "metadata": {
      "needs_background": "light"
     },
     "output_type": "display_data"
    }
   ],
   "source": [
    "plot_statistics_cdf('like')"
   ]
  },
  {
   "cell_type": "code",
   "execution_count": 77,
   "metadata": {},
   "outputs": [
    {
     "data": {
      "image/png": "[encoded data removed]",
      "text/plain": [
       "<Figure size 432x288 with 1 Axes>"
      ]
     },
     "metadata": {
      "needs_background": "light"
     },
     "output_type": "display_data"
    }
   ],
   "source": [
    "plot_statistics_cdf('share')"
   ]
  },
  {
   "cell_type": "code",
   "execution_count": 78,
   "metadata": {},
   "outputs": [
    {
     "data": {
      "image/png": "[encoded data removed]",
      "text/plain": [
       "<Figure size 432x288 with 1 Axes>"
      ]
     },
     "metadata": {
      "needs_background": "light"
     },
     "output_type": "display_data"
    }
   ],
   "source": [
    "plot_statistics_cdf('comment')"
   ]
  },
  {
   "cell_type": "code",
   "execution_count": 79,
   "metadata": {},
   "outputs": [
    {
     "data": {
      "image/png": "[encoded data removed]",
      "text/plain": [
       "<Figure size 432x288 with 1 Axes>"
      ]
     },
     "metadata": {
      "needs_background": "light"
     },
     "output_type": "display_data"
    }
   ],
   "source": [
    "plot_statistics_cdf('love')"
   ]
  },
  {
   "cell_type": "code",
   "execution_count": 80,
   "metadata": {},
   "outputs": [
    {
     "data": {
      "image/png": "[encoded data removed]",
      "text/plain": [
       "<Figure size 432x288 with 1 Axes>"
      ]
     },
     "metadata": {
      "needs_background": "light"
     },
     "output_type": "display_data"
    }
   ],
   "source": [
    "plot_statistics_cdf('wow')"
   ]
  },
  {
   "cell_type": "code",
   "execution_count": 81,
   "metadata": {},
   "outputs": [
    {
     "data": {
      "image/png": "[encoded data removed]",
      "text/plain": [
       "<Figure size 432x288 with 1 Axes>"
      ]
     },
     "metadata": {
      "needs_background": "light"
     },
     "output_type": "display_data"
    }
   ],
   "source": [
    "plot_statistics_cdf('haha')"
   ]
  },
  {
   "cell_type": "code",
   "execution_count": 82,
   "metadata": {},
   "outputs": [
    {
     "data": {
      "image/png": "[encoded data removed]",
      "text/plain": [
       "<Figure size 432x288 with 1 Axes>"
      ]
     },
     "metadata": {
      "needs_background": "light"
     },
     "output_type": "display_data"
    }
   ],
   "source": [
    "plot_statistics_cdf('sad')"
   ]
  },
  {
   "cell_type": "code",
   "execution_count": 83,
   "metadata": {},
   "outputs": [
    {
     "data": {
      "image/png": "[encoded data removed]",
      "text/plain": [
       "<Figure size 432x288 with 1 Axes>"
      ]
     },
     "metadata": {
      "needs_background": "light"
     },
     "output_type": "display_data"
    }
   ],
   "source": [
    "plot_statistics_cdf('angry')"
   ]
  },
  {
   "cell_type": "code",
   "execution_count": 84,
   "metadata": {},
   "outputs": [
    {
     "data": {
      "image/png": "[encoded data removed]",
      "text/plain": [
       "<Figure size 432x288 with 1 Axes>"
      ]
     },
     "metadata": {
      "needs_background": "light"
     },
     "output_type": "display_data"
    }
   ],
   "source": [
    "plot_statistics_cdf('thankful', islogx=False)"
   ]
  },
  {
   "cell_type": "code",
   "execution_count": 85,
   "metadata": {},
   "outputs": [
    {
     "data": {
      "image/png": "[encoded data removed]",
      "text/plain": [
       "<Figure size 432x288 with 1 Axes>"
      ]
     },
     "metadata": {
      "needs_background": "light"
     },
     "output_type": "display_data"
    }
   ],
   "source": [
    "plot_statistics_cdf('care')"
   ]
  },
  {
   "cell_type": "code",
   "execution_count": null,
   "metadata": {},
   "outputs": [],
   "source": []
  }
 ],
 "metadata": {
  "kernelspec": {
   "display_name": "Python 3",
   "language": "python",
   "name": "python3"
  },
  "language_info": {
   "codemirror_mode": {
    "name": "ipython",
    "version": 3
   },
   "file_extension": ".py",
   "mimetype": "text/x-python",
   "name": "python",
   "nbconvert_exporter": "python",
   "pygments_lexer": "ipython3",
   "version": "3.8.5"
  }
 },
 "nbformat": 4,
 "nbformat_minor": 4
}